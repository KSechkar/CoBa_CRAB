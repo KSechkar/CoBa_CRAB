{
 "cells": [
  {
   "metadata": {
    "ExecuteTime": {
     "end_time": "2025-03-27T15:33:21.115755Z",
     "start_time": "2025-03-27T15:33:21.102503Z"
    }
   },
   "cell_type": "code",
   "source": [
    "# BASIC_SELFACT_CBC.IPYNB - Characterisation of a self-activating gene's RC properties using constitutive reporters, with a basic model\n",
    "# By Kirill Sechkar\n",
    "\n",
    "# PACKAGE IMPORTS\n",
    "import numpy as np\n",
    "import scipy as sp\n",
    "import jax\n",
    "import jax.numpy as jnp\n",
    "import jaxopt\n",
    "from bokeh import plotting as bkplot, models as bkmodels, layouts as bklayouts, io as bkio\n",
    "from bokeh.colors import RGB as bkRGB\n",
    "import matplotlib as mpl, matplotlib.pyplot as plt\n",
    "from bokeh import io as bkio\n",
    "from bokeh.colors import RGB as bkRGB\n",
    "\n",
    "# SOLVER AND CONTROLLER IMPORTS\n",
    "import common.controllers as ctrls\n",
    "import common.reference_switchers as refsws\n",
    "import common.ode_solvers as odesols\n",
    "\n",
    "# BIFURCATION ANALYSIS, PROBE CHARACTERISATION AND PREDICTION TOOLS\n",
    "from common import selfact_an_bif as an_tools\n",
    "from common.selfact_jointexp import *\n",
    "from common.probe_char_tools import *\n",
    "\n",
    "# CELL AND CIRCUIT MODEL IMPORTS\n",
    "from basic_model import *\n",
    "import basic_genetic_modules as gms\n",
    "\n",
    "# set up jax\n",
    "jax.config.update('jax_platform_name', 'cpu')\n",
    "jax.config.update(\"jax_enable_x64\", True)\n",
    "\n",
    "# set up bokeh\n",
    "bkio.reset_output()\n",
    "bkplot.output_notebook()\n",
    "\n",
    "# set up matplotlib\n",
    "%matplotlib widget"
   ],
   "id": "a765f717f383cdb7",
   "outputs": [
    {
     "data": {
      "text/html": [
       "    <style>\n",
       "        .bk-notebook-logo {\n",
       "            display: block;\n",
       "            width: 20px;\n",
       "            height: 20px;\n",
       "            background-image: url(data:image/png;base64,iVBORw0KGgoAAAANSUhEUgAAABQAAAAUCAYAAACNiR0NAAAABHNCSVQICAgIfAhkiAAAAAlwSFlzAAALEgAACxIB0t1+/AAAABx0RVh0U29mdHdhcmUAQWRvYmUgRmlyZXdvcmtzIENTNui8sowAAAOkSURBVDiNjZRtaJVlGMd/1/08zzln5zjP1LWcU9N0NkN8m2CYjpgQYQXqSs0I84OLIC0hkEKoPtiH3gmKoiJDU7QpLgoLjLIQCpEsNJ1vqUOdO7ppbuec5+V+rj4ctwzd8IIbbi6u+8f1539dt3A78eXC7QizUF7gyV1fD1Yqg4JWz84yffhm0qkFqBogB9rM8tZdtwVsPUhWhGcFJngGeWrPzHm5oaMmkfEg1usvLFyc8jLRqDOMru7AyC8saQr7GG7f5fvDeH7Ej8CM66nIF+8yngt6HWaKh7k49Soy9nXurCi1o3qUbS3zWfrYeQDTB/Qj6kX6Ybhw4B+bOYoLKCC9H3Nu/leUTZ1JdRWkkn2ldcCamzrcf47KKXdAJllSlxAOkRgyHsGC/zRday5Qld9DyoM4/q/rUoy/CXh3jzOu3bHUVZeU+DEn8FInkPBFlu3+nW3Nw0mk6vCDiWg8CeJaxEwuHS3+z5RgY+YBR6V1Z1nxSOfoaPa4LASWxxdNp+VWTk7+4vzaou8v8PN+xo+KY2xsw6une2frhw05CTYOmQvsEhjhWjn0bmXPjpE1+kplmmkP3suftwTubK9Vq22qKmrBhpY4jvd5afdRA3wGjFAgcnTK2s4hY0/GPNIb0nErGMCRxWOOX64Z8RAC4oCXdklmEvcL8o0BfkNK4lUg9HTl+oPlQxdNo3Mg4Nv175e/1LDGzZen30MEjRUtmXSfiTVu1kK8W4txyV6BMKlbgk3lMwYCiusNy9fVfvvwMxv8Ynl6vxoByANLTWplvuj/nF9m2+PDtt1eiHPBr1oIfhCChQMBw6Aw0UulqTKZdfVvfG7VcfIqLG9bcldL/+pdWTLxLUy8Qq38heUIjh4XlzZxzQm19lLFlr8vdQ97rjZVOLf8nclzckbcD4wxXMidpX30sFd37Fv/GtwwhzhxGVAprjbg0gCAEeIgwCZyTV2Z1REEW8O4py0wsjeloKoMr6iCY6dP92H6Vw/oTyICIthibxjm/DfN9lVz8IqtqKYLUXfoKVMVQVVJOElGjrnnUt9T9wbgp8AyYKaGlqingHZU/uG2NTZSVqwHQTWkx9hxjkpWDaCg6Ckj5qebgBVbT3V3NNXMSiWSDdGV3hrtzla7J+duwPOToIg42ChPQOQjspnSlp1V+Gjdged7+8UN5CRAV7a5EdFNwCjEaBR27b3W890TE7g24NAP/mMDXRWrGoFPQI9ls/MWO2dWFAar/xcOIImbbpA3zgAAAABJRU5ErkJggg==);\n",
       "        }\n",
       "    </style>\n",
       "    <div>\n",
       "        <a href=\"https://bokeh.org\" target=\"_blank\" class=\"bk-notebook-logo\"></a>\n",
       "        <span id=\"c0dd9e5a-ea52-4930-9488-5557913c2824\">Loading BokehJS ...</span>\n",
       "    </div>\n"
      ]
     },
     "metadata": {},
     "output_type": "display_data"
    },
    {
     "data": {
      "application/javascript": "'use strict';\n(function(root) {\n  function now() {\n    return new Date();\n  }\n\n  const force = true;\n\n  if (typeof root._bokeh_onload_callbacks === \"undefined\" || force === true) {\n    root._bokeh_onload_callbacks = [];\n    root._bokeh_is_loading = undefined;\n  }\n\nconst JS_MIME_TYPE = 'application/javascript';\n  const HTML_MIME_TYPE = 'text/html';\n  const EXEC_MIME_TYPE = 'application/vnd.bokehjs_exec.v0+json';\n  const CLASS_NAME = 'output_bokeh rendered_html';\n\n  /**\n   * Render data to the DOM node\n   */\n  function render(props, node) {\n    const script = document.createElement(\"script\");\n    node.appendChild(script);\n  }\n\n  /**\n   * Handle when an output is cleared or removed\n   */\n  function handleClearOutput(event, handle) {\n    function drop(id) {\n      const view = Bokeh.index.get_by_id(id)\n      if (view != null) {\n        view.model.document.clear()\n        Bokeh.index.delete(view)\n      }\n    }\n\n    const cell = handle.cell;\n\n    const id = cell.output_area._bokeh_element_id;\n    const server_id = cell.output_area._bokeh_server_id;\n\n    // Clean up Bokeh references\n    if (id != null) {\n      drop(id)\n    }\n\n    if (server_id !== undefined) {\n      // Clean up Bokeh references\n      const cmd_clean = \"from bokeh.io.state import curstate; print(curstate().uuid_to_server['\" + server_id + \"'].get_sessions()[0].document.roots[0]._id)\";\n      cell.notebook.kernel.execute(cmd_clean, {\n        iopub: {\n          output: function(msg) {\n            const id = msg.content.text.trim()\n            drop(id)\n          }\n        }\n      });\n      // Destroy server and session\n      const cmd_destroy = \"import bokeh.io.notebook as ion; ion.destroy_server('\" + server_id + \"')\";\n      cell.notebook.kernel.execute(cmd_destroy);\n    }\n  }\n\n  /**\n   * Handle when a new output is added\n   */\n  function handleAddOutput(event, handle) {\n    const output_area = handle.output_area;\n    const output = handle.output;\n\n    // limit handleAddOutput to display_data with EXEC_MIME_TYPE content only\n    if ((output.output_type != \"display_data\") || (!Object.prototype.hasOwnProperty.call(output.data, EXEC_MIME_TYPE))) {\n      return\n    }\n\n    const toinsert = output_area.element.find(\".\" + CLASS_NAME.split(' ')[0]);\n\n    if (output.metadata[EXEC_MIME_TYPE][\"id\"] !== undefined) {\n      toinsert[toinsert.length - 1].firstChild.textContent = output.data[JS_MIME_TYPE];\n      // store reference to embed id on output_area\n      output_area._bokeh_element_id = output.metadata[EXEC_MIME_TYPE][\"id\"];\n    }\n    if (output.metadata[EXEC_MIME_TYPE][\"server_id\"] !== undefined) {\n      const bk_div = document.createElement(\"div\");\n      bk_div.innerHTML = output.data[HTML_MIME_TYPE];\n      const script_attrs = bk_div.children[0].attributes;\n      for (let i = 0; i < script_attrs.length; i++) {\n        toinsert[toinsert.length - 1].firstChild.setAttribute(script_attrs[i].name, script_attrs[i].value);\n        toinsert[toinsert.length - 1].firstChild.textContent = bk_div.children[0].textContent\n      }\n      // store reference to server id on output_area\n      output_area._bokeh_server_id = output.metadata[EXEC_MIME_TYPE][\"server_id\"];\n    }\n  }\n\n  function register_renderer(events, OutputArea) {\n\n    function append_mime(data, metadata, element) {\n      // create a DOM node to render to\n      const toinsert = this.create_output_subarea(\n        metadata,\n        CLASS_NAME,\n        EXEC_MIME_TYPE\n      );\n      this.keyboard_manager.register_events(toinsert);\n      // Render to node\n      const props = {data: data, metadata: metadata[EXEC_MIME_TYPE]};\n      render(props, toinsert[toinsert.length - 1]);\n      element.append(toinsert);\n      return toinsert\n    }\n\n    /* Handle when an output is cleared or removed */\n    events.on('clear_output.CodeCell', handleClearOutput);\n    events.on('delete.Cell', handleClearOutput);\n\n    /* Handle when a new output is added */\n    events.on('output_added.OutputArea', handleAddOutput);\n\n    /**\n     * Register the mime type and append_mime function with output_area\n     */\n    OutputArea.prototype.register_mime_type(EXEC_MIME_TYPE, append_mime, {\n      /* Is output safe? */\n      safe: true,\n      /* Index of renderer in `output_area.display_order` */\n      index: 0\n    });\n  }\n\n  // register the mime type if in Jupyter Notebook environment and previously unregistered\n  if (root.Jupyter !== undefined) {\n    const events = require('base/js/events');\n    const OutputArea = require('notebook/js/outputarea').OutputArea;\n\n    if (OutputArea.prototype.mime_types().indexOf(EXEC_MIME_TYPE) == -1) {\n      register_renderer(events, OutputArea);\n    }\n  }\n  if (typeof (root._bokeh_timeout) === \"undefined\" || force === true) {\n    root._bokeh_timeout = Date.now() + 5000;\n    root._bokeh_failed_load = false;\n  }\n\n  const NB_LOAD_WARNING = {'data': {'text/html':\n     \"<div style='background-color: #fdd'>\\n\"+\n     \"<p>\\n\"+\n     \"BokehJS does not appear to have successfully loaded. If loading BokehJS from CDN, this \\n\"+\n     \"may be due to a slow or bad network connection. Possible fixes:\\n\"+\n     \"</p>\\n\"+\n     \"<ul>\\n\"+\n     \"<li>re-rerun `output_notebook()` to attempt to load from CDN again, or</li>\\n\"+\n     \"<li>use INLINE resources instead, as so:</li>\\n\"+\n     \"</ul>\\n\"+\n     \"<code>\\n\"+\n     \"from bokeh.resources import INLINE\\n\"+\n     \"output_notebook(resources=INLINE)\\n\"+\n     \"</code>\\n\"+\n     \"</div>\"}};\n\n  function display_loaded(error = null) {\n    const el = document.getElementById(\"c0dd9e5a-ea52-4930-9488-5557913c2824\");\n    if (el != null) {\n      const html = (() => {\n        if (typeof root.Bokeh === \"undefined\") {\n          if (error == null) {\n            return \"BokehJS is loading ...\";\n          } else {\n            return \"BokehJS failed to load.\";\n          }\n        } else {\n          const prefix = `BokehJS ${root.Bokeh.version}`;\n          if (error == null) {\n            return `${prefix} successfully loaded.`;\n          } else {\n            return `${prefix} <b>encountered errors</b> while loading and may not function as expected.`;\n          }\n        }\n      })();\n      el.innerHTML = html;\n\n      if (error != null) {\n        const wrapper = document.createElement(\"div\");\n        wrapper.style.overflow = \"auto\";\n        wrapper.style.height = \"5em\";\n        wrapper.style.resize = \"vertical\";\n        const content = document.createElement(\"div\");\n        content.style.fontFamily = \"monospace\";\n        content.style.whiteSpace = \"pre-wrap\";\n        content.style.backgroundColor = \"rgb(255, 221, 221)\";\n        content.textContent = error.stack ?? error.toString();\n        wrapper.append(content);\n        el.append(wrapper);\n      }\n    } else if (Date.now() < root._bokeh_timeout) {\n      setTimeout(() => display_loaded(error), 100);\n    }\n  }\n\n  function run_callbacks() {\n    try {\n      root._bokeh_onload_callbacks.forEach(function(callback) {\n        if (callback != null)\n          callback();\n      });\n    } finally {\n      delete root._bokeh_onload_callbacks\n    }\n    console.debug(\"Bokeh: all callbacks have finished\");\n  }\n\n  function load_libs(css_urls, js_urls, callback) {\n    if (css_urls == null) css_urls = [];\n    if (js_urls == null) js_urls = [];\n\n    root._bokeh_onload_callbacks.push(callback);\n    if (root._bokeh_is_loading > 0) {\n      console.debug(\"Bokeh: BokehJS is being loaded, scheduling callback at\", now());\n      return null;\n    }\n    if (js_urls == null || js_urls.length === 0) {\n      run_callbacks();\n      return null;\n    }\n    console.debug(\"Bokeh: BokehJS not loaded, scheduling load and callback at\", now());\n    root._bokeh_is_loading = css_urls.length + js_urls.length;\n\n    function on_load() {\n      root._bokeh_is_loading--;\n      if (root._bokeh_is_loading === 0) {\n        console.debug(\"Bokeh: all BokehJS libraries/stylesheets loaded\");\n        run_callbacks()\n      }\n    }\n\n    function on_error(url) {\n      console.error(\"failed to load \" + url);\n    }\n\n    for (let i = 0; i < css_urls.length; i++) {\n      const url = css_urls[i];\n      const element = document.createElement(\"link\");\n      element.onload = on_load;\n      element.onerror = on_error.bind(null, url);\n      element.rel = \"stylesheet\";\n      element.type = \"text/css\";\n      element.href = url;\n      console.debug(\"Bokeh: injecting link tag for BokehJS stylesheet: \", url);\n      document.body.appendChild(element);\n    }\n\n    for (let i = 0; i < js_urls.length; i++) {\n      const url = js_urls[i];\n      const element = document.createElement('script');\n      element.onload = on_load;\n      element.onerror = on_error.bind(null, url);\n      element.async = false;\n      element.src = url;\n      console.debug(\"Bokeh: injecting script tag for BokehJS library: \", url);\n      document.head.appendChild(element);\n    }\n  };\n\n  function inject_raw_css(css) {\n    const element = document.createElement(\"style\");\n    element.appendChild(document.createTextNode(css));\n    document.body.appendChild(element);\n  }\n\n  const js_urls = [\"https://cdn.bokeh.org/bokeh/release/bokeh-3.4.1.min.js\", \"https://cdn.bokeh.org/bokeh/release/bokeh-gl-3.4.1.min.js\", \"https://cdn.bokeh.org/bokeh/release/bokeh-widgets-3.4.1.min.js\", \"https://cdn.bokeh.org/bokeh/release/bokeh-tables-3.4.1.min.js\", \"https://cdn.bokeh.org/bokeh/release/bokeh-mathjax-3.4.1.min.js\"];\n  const css_urls = [];\n\n  const inline_js = [    function(Bokeh) {\n      Bokeh.set_log_level(\"info\");\n    },\nfunction(Bokeh) {\n    }\n  ];\n\n  function run_inline_js() {\n    if (root.Bokeh !== undefined || force === true) {\n      try {\n            for (let i = 0; i < inline_js.length; i++) {\n      inline_js[i].call(root, root.Bokeh);\n    }\n\n      } catch (error) {display_loaded(error);throw error;\n      }if (force === true) {\n        display_loaded();\n      }} else if (Date.now() < root._bokeh_timeout) {\n      setTimeout(run_inline_js, 100);\n    } else if (!root._bokeh_failed_load) {\n      console.log(\"Bokeh: BokehJS failed to load within specified timeout.\");\n      root._bokeh_failed_load = true;\n    } else if (force !== true) {\n      const cell = $(document.getElementById(\"c0dd9e5a-ea52-4930-9488-5557913c2824\")).parents('.cell').data().cell;\n      cell.output_area.append_execute_result(NB_LOAD_WARNING)\n    }\n  }\n\n  if (root._bokeh_is_loading === 0) {\n    console.debug(\"Bokeh: BokehJS loaded, going straight to plotting\");\n    run_inline_js();\n  } else {\n    load_libs(css_urls, js_urls, function() {\n      console.debug(\"Bokeh: BokehJS plotting callback run at\", now());\n      run_inline_js();\n    });\n  }\n}(window));",
      "application/vnd.bokehjs_load.v0+json": "'use strict';\n(function(root) {\n  function now() {\n    return new Date();\n  }\n\n  const force = true;\n\n  if (typeof root._bokeh_onload_callbacks === \"undefined\" || force === true) {\n    root._bokeh_onload_callbacks = [];\n    root._bokeh_is_loading = undefined;\n  }\n\n\n  if (typeof (root._bokeh_timeout) === \"undefined\" || force === true) {\n    root._bokeh_timeout = Date.now() + 5000;\n    root._bokeh_failed_load = false;\n  }\n\n  const NB_LOAD_WARNING = {'data': {'text/html':\n     \"<div style='background-color: #fdd'>\\n\"+\n     \"<p>\\n\"+\n     \"BokehJS does not appear to have successfully loaded. If loading BokehJS from CDN, this \\n\"+\n     \"may be due to a slow or bad network connection. Possible fixes:\\n\"+\n     \"</p>\\n\"+\n     \"<ul>\\n\"+\n     \"<li>re-rerun `output_notebook()` to attempt to load from CDN again, or</li>\\n\"+\n     \"<li>use INLINE resources instead, as so:</li>\\n\"+\n     \"</ul>\\n\"+\n     \"<code>\\n\"+\n     \"from bokeh.resources import INLINE\\n\"+\n     \"output_notebook(resources=INLINE)\\n\"+\n     \"</code>\\n\"+\n     \"</div>\"}};\n\n  function display_loaded(error = null) {\n    const el = document.getElementById(\"c0dd9e5a-ea52-4930-9488-5557913c2824\");\n    if (el != null) {\n      const html = (() => {\n        if (typeof root.Bokeh === \"undefined\") {\n          if (error == null) {\n            return \"BokehJS is loading ...\";\n          } else {\n            return \"BokehJS failed to load.\";\n          }\n        } else {\n          const prefix = `BokehJS ${root.Bokeh.version}`;\n          if (error == null) {\n            return `${prefix} successfully loaded.`;\n          } else {\n            return `${prefix} <b>encountered errors</b> while loading and may not function as expected.`;\n          }\n        }\n      })();\n      el.innerHTML = html;\n\n      if (error != null) {\n        const wrapper = document.createElement(\"div\");\n        wrapper.style.overflow = \"auto\";\n        wrapper.style.height = \"5em\";\n        wrapper.style.resize = \"vertical\";\n        const content = document.createElement(\"div\");\n        content.style.fontFamily = \"monospace\";\n        content.style.whiteSpace = \"pre-wrap\";\n        content.style.backgroundColor = \"rgb(255, 221, 221)\";\n        content.textContent = error.stack ?? error.toString();\n        wrapper.append(content);\n        el.append(wrapper);\n      }\n    } else if (Date.now() < root._bokeh_timeout) {\n      setTimeout(() => display_loaded(error), 100);\n    }\n  }\n\n  function run_callbacks() {\n    try {\n      root._bokeh_onload_callbacks.forEach(function(callback) {\n        if (callback != null)\n          callback();\n      });\n    } finally {\n      delete root._bokeh_onload_callbacks\n    }\n    console.debug(\"Bokeh: all callbacks have finished\");\n  }\n\n  function load_libs(css_urls, js_urls, callback) {\n    if (css_urls == null) css_urls = [];\n    if (js_urls == null) js_urls = [];\n\n    root._bokeh_onload_callbacks.push(callback);\n    if (root._bokeh_is_loading > 0) {\n      console.debug(\"Bokeh: BokehJS is being loaded, scheduling callback at\", now());\n      return null;\n    }\n    if (js_urls == null || js_urls.length === 0) {\n      run_callbacks();\n      return null;\n    }\n    console.debug(\"Bokeh: BokehJS not loaded, scheduling load and callback at\", now());\n    root._bokeh_is_loading = css_urls.length + js_urls.length;\n\n    function on_load() {\n      root._bokeh_is_loading--;\n      if (root._bokeh_is_loading === 0) {\n        console.debug(\"Bokeh: all BokehJS libraries/stylesheets loaded\");\n        run_callbacks()\n      }\n    }\n\n    function on_error(url) {\n      console.error(\"failed to load \" + url);\n    }\n\n    for (let i = 0; i < css_urls.length; i++) {\n      const url = css_urls[i];\n      const element = document.createElement(\"link\");\n      element.onload = on_load;\n      element.onerror = on_error.bind(null, url);\n      element.rel = \"stylesheet\";\n      element.type = \"text/css\";\n      element.href = url;\n      console.debug(\"Bokeh: injecting link tag for BokehJS stylesheet: \", url);\n      document.body.appendChild(element);\n    }\n\n    for (let i = 0; i < js_urls.length; i++) {\n      const url = js_urls[i];\n      const element = document.createElement('script');\n      element.onload = on_load;\n      element.onerror = on_error.bind(null, url);\n      element.async = false;\n      element.src = url;\n      console.debug(\"Bokeh: injecting script tag for BokehJS library: \", url);\n      document.head.appendChild(element);\n    }\n  };\n\n  function inject_raw_css(css) {\n    const element = document.createElement(\"style\");\n    element.appendChild(document.createTextNode(css));\n    document.body.appendChild(element);\n  }\n\n  const js_urls = [\"https://cdn.bokeh.org/bokeh/release/bokeh-3.4.1.min.js\", \"https://cdn.bokeh.org/bokeh/release/bokeh-gl-3.4.1.min.js\", \"https://cdn.bokeh.org/bokeh/release/bokeh-widgets-3.4.1.min.js\", \"https://cdn.bokeh.org/bokeh/release/bokeh-tables-3.4.1.min.js\", \"https://cdn.bokeh.org/bokeh/release/bokeh-mathjax-3.4.1.min.js\"];\n  const css_urls = [];\n\n  const inline_js = [    function(Bokeh) {\n      Bokeh.set_log_level(\"info\");\n    },\nfunction(Bokeh) {\n    }\n  ];\n\n  function run_inline_js() {\n    if (root.Bokeh !== undefined || force === true) {\n      try {\n            for (let i = 0; i < inline_js.length; i++) {\n      inline_js[i].call(root, root.Bokeh);\n    }\n\n      } catch (error) {display_loaded(error);throw error;\n      }if (force === true) {\n        display_loaded();\n      }} else if (Date.now() < root._bokeh_timeout) {\n      setTimeout(run_inline_js, 100);\n    } else if (!root._bokeh_failed_load) {\n      console.log(\"Bokeh: BokehJS failed to load within specified timeout.\");\n      root._bokeh_failed_load = true;\n    } else if (force !== true) {\n      const cell = $(document.getElementById(\"c0dd9e5a-ea52-4930-9488-5557913c2824\")).parents('.cell').data().cell;\n      cell.output_area.append_execute_result(NB_LOAD_WARNING)\n    }\n  }\n\n  if (root._bokeh_is_loading === 0) {\n    console.debug(\"Bokeh: BokehJS loaded, going straight to plotting\");\n    run_inline_js();\n  } else {\n    load_libs(css_urls, js_urls, function() {\n      console.debug(\"Bokeh: BokehJS plotting callback run at\", now());\n      run_inline_js();\n    });\n  }\n}(window));"
     },
     "metadata": {},
     "output_type": "display_data"
    }
   ],
   "execution_count": 49
  },
  {
   "metadata": {
    "ExecuteTime": {
     "end_time": "2025-03-27T15:33:21.127743Z",
     "start_time": "2025-03-27T15:33:21.124851Z"
    }
   },
   "cell_type": "code",
   "source": [
    "# INITIALISE THE MODEL, ITS PARAMETERS AND INITIAL CONDITIONS\n",
    "model_auxil = ModelAuxiliary()  # auxiliary tools for simulating the model and plotting simulation outcomes\n",
    "par = model_auxil.default_params()  # get default parameter values\n",
    "init_conds = model_auxil.default_init_conds(par)  # get default initial conditions"
   ],
   "id": "5d57ce3948ab7712",
   "outputs": [],
   "execution_count": 50
  },
  {
   "metadata": {
    "ExecuteTime": {
     "end_time": "2025-03-27T15:33:21.180095Z",
     "start_time": "2025-03-27T15:33:21.176528Z"
    }
   },
   "cell_type": "code",
   "source": [
    "# DEFINE CIRCUIT PARAMETERS TO BE CONSIDERED\n",
    "circ_par={}\n",
    "\n",
    "# cifi (chemically induced gene with a fixed input) parameters\n",
    "circ_par['q_ta2'] = 60.0  # RC factor for the transcription activation factor\n",
    "circ_par['q_ta3'] = 60.0  # RC factor for the transcription activation factor\n",
    "circ_par['q_ta4'] = 0.0#60.0  # RC factor for the transcription activation factor\n",
    "circ_par['q_b2'] = 100*120.0 # RC factor for the burdensome gene of the probe\n",
    "circ_par['mu_b2'] = 1 / (13.6 / 60)\n",
    "# regulation by ta 2\n",
    "circ_par['K_ta2-i'] = 100\n",
    "circ_par['K_ta2i-dna'] = 100\n",
    "circ_par['baseline_ta2i-dna'] = 0.00\n",
    "circ_par['eta_ta2i-dna'] = 5.0\n",
    "circ_par['u2']=5.0\n",
    "# regulation by ta 3\n",
    "circ_par['K_ta3-i'] = 100\n",
    "circ_par['K_ta3i-dna'] = 100\n",
    "circ_par['baseline_ta3i-dna'] = 0.00\n",
    "circ_par['eta_ta3i-dna'] = 5.0\n",
    "circ_par['u3']=4.0\n",
    "# regulation by ta4\n",
    "circ_par['K_ta4-i'] = 100\n",
    "circ_par['K_ta4i-dna'] = 100\n",
    "circ_par['baseline_ta4i-dna'] = 0.00\n",
    "circ_par['eta_ta4i-dna'] = 5.0\n",
    "circ_par['u4']=5.0\n",
    "\n",
    "# default RC factor for a constitutive reporter\n",
    "circ_par['q_ofp2'] = 6e4\n",
    "\n",
    "# range of RC factors for the constitutive reporters\n",
    "constrep_qs = np.flip(np.linspace(45.0,4e4,10))\n",
    "# define maturation rates considered\n",
    "constrep_mus = [1/(13.6/60)]*len(constrep_qs)  # sfGFP maturation time of 13.6 min"
   ],
   "id": "33c0cac5afdf4c08",
   "outputs": [],
   "execution_count": 51
  },
  {
   "metadata": {
    "ExecuteTime": {
     "end_time": "2025-03-27T15:33:21.230591Z",
     "start_time": "2025-03-27T15:33:21.226709Z"
    }
   },
   "cell_type": "code",
   "source": [
    "# INITIALISE AND PARAMETERISE THE CELL MODEL\n",
    "\n",
    "# initialise cell model\n",
    "model_auxil = ModelAuxiliary()  # auxiliary tools for simulating the model and plotting simulation outcomes\n",
    "model_par = model_auxil.default_params()  # get default parameter values\n",
    "init_conds = model_auxil.default_init_conds(model_par)  # get default initial conditions\n",
    "\n",
    "# add reference tracker switcher\n",
    "model_par_with_refswitch, ref_switcher = model_auxil.add_reference_switcher(model_par,\n",
    "                                                                                    # cell model parameters\n",
    "                                                                                    refsws.no_switching_initialise,\n",
    "                                                                                    # function initialising the reference switcher\n",
    "                                                                                    refsws.no_switching_switch\n",
    "                                                                                    # function switching the references to be tracked\n",
    "                                                                                    )\n",
    "\n",
    "# load synthetic genetic modules and the controller\n",
    "odeuus_complete, \\\n",
    "    module1_F_calc, module2_F_calc, \\\n",
    "    module1_specterms, module2_specterms, \\\n",
    "    controller_action, controller_update, \\\n",
    "    par, init_conds, controller_memo0, \\\n",
    "    synth_genes_total_and_each, synth_miscs_total_and_each, \\\n",
    "    controller_memos, controller_dynvars, controller_ctrledvar, \\\n",
    "    modules_name2pos, modules_styles, controller_name2pos, controller_styles, \\\n",
    "    module1_v_with_F_calc, module2_v_with_F_calc = model_auxil.add_modules_and_controller(\n",
    "        # module 1\n",
    "        gms.cifi_initialise,  # function initialising the circuit\n",
    "        gms.cifi_ode,  # function defining the circuit ODEs\n",
    "        gms.cifi_F_calc, # function calculating the circuit genes' transcription regulation functions\n",
    "        gms.cifi_specterms, # function calculating the circuit genes effective mRNA levels (due to possible co-expression from the same operons)\n",
    "        # module 2\n",
    "        gms.constfp2_initialise,  # function initialising the circuit\n",
    "        gms.constfp2_ode,  # function defining the circuit ODEs\n",
    "        gms.constfp2_F_calc, # function calculating the circuit genes' transcription regulation functions\n",
    "        gms.constfp2_specterms, # function calculating the circuit genes effective mRNA levels (due to possible co-expression from the same operons)\n",
    "        # controller\n",
    "        ctrls.cci_initialise,  # function initialising the controller\n",
    "        ctrls.cci_action,  # function calculating the controller action\n",
    "        ctrls.cci_ode,  # function defining the controller ODEs\n",
    "        ctrls.cci_update,  # function updating the controller based on measurements\n",
    "        # cell model parameters and initial conditions\n",
    "        model_par_with_refswitch, init_conds)\n",
    "\n",
    "# unpack the synthetic genes and miscellaneous species lists\n",
    "synth_genes = synth_genes_total_and_each[0]\n",
    "module1_genes = synth_genes_total_and_each[1]\n",
    "module2_genes = synth_genes_total_and_each[2]\n",
    "synth_miscs = synth_miscs_total_and_each[0]\n",
    "module1_miscs = synth_miscs_total_and_each[1]\n",
    "module2_miscs = synth_miscs_total_and_each[2]\n",
    "\n",
    "# update circuit parameters\n",
    "par.update(circ_par)"
   ],
   "id": "286d894d414b0305",
   "outputs": [],
   "execution_count": 52
  },
  {
   "metadata": {
    "ExecuteTime": {
     "end_time": "2025-03-27T15:33:21.280013Z",
     "start_time": "2025-03-27T15:33:21.276950Z"
    }
   },
   "cell_type": "code",
   "source": [
    "# CALCULATE CORRESPONDING NORMALISED RC FACTORS\n",
    "cellvars={}\n",
    "cellvars['Q_ta2_max']=circ_par['q_ta2']/(par['q_r']+par['q_o'])\n",
    "cellvars['Q_ta3_max']=circ_par['q_ta3']/(par['q_r']+par['q_o'])\n",
    "cellvars['Q_ta4_max']=circ_par['q_ta4']/(par['q_r']+par['q_o'])\n",
    "cellvars['Q_b2_max']=circ_par['q_b2']/(par['q_r']+par['q_o'])"
   ],
   "id": "a832ecec7802d291",
   "outputs": [],
   "execution_count": 53
  },
  {
   "metadata": {
    "ExecuteTime": {
     "end_time": "2025-03-27T15:33:21.331444Z",
     "start_time": "2025-03-27T15:33:21.327088Z"
    }
   },
   "cell_type": "code",
   "source": [
    "# SIMULATE MEASUREMENTS - SET CONTROLLER AND SIMULATION PARAMETER\n",
    "\n",
    "# controller parameters irrelevant, as we just have a constant zero chemical input\n",
    "controller_ctrledvar = 'ofp2_mature'  # controlled variable\n",
    "control_delay = 0.0\n",
    "ref = jnp.array([0.0])\n",
    "u0 = 0.0\n",
    "\n",
    "# simulation parameters\n",
    "tf = (0.0, 72.0)  # assuming steady state reached in 24h\n",
    "meastimestep = 0.1  # hours\n",
    "euler_timestep = 1e-5\n",
    "\n",
    "# create an ODE solver\n",
    "ode_solver, us_size = odesols.create_euler_solver(odeuus_complete,\n",
    "                                                  control_delay=control_delay,\n",
    "                                                  meastimestep=meastimestep,\n",
    "                                                  euler_timestep=euler_timestep)"
   ],
   "id": "5a0c81dcca79dac9",
   "outputs": [],
   "execution_count": 54
  },
  {
   "metadata": {
    "ExecuteTime": {
     "end_time": "2025-03-27T15:33:26.382279Z",
     "start_time": "2025-03-27T15:33:21.395404Z"
    }
   },
   "cell_type": "code",
   "source": [
    "# SIMULATE MEASUREMENTS FOR REPORTERS ALONE FIRST\n",
    "# save q_swith for after this simulation, where it will be set to zero\n",
    "q_ta2_bckup = par['q_ta2']\n",
    "q_ta3_bckup = par['q_ta3']\n",
    "q_ta4_bckup = par['q_ta4']\n",
    "q_b2_bckup = par['q_b2']\n",
    "mature_ofp2_ss_individual = np.zeros(len(constrep_qs))  # initialise storage for steady-state mature protein levels\n",
    "l_ss_individual = np.zeros(len(constrep_qs))  # initialise storage for steady-state cell growth rates\n",
    "for i in range(0, len(constrep_qs)):\n",
    "    # set constitutive reporter parameters depending on which reporter is considered\n",
    "    par['q_ta2'] = 0.0\n",
    "    par['q_ta3'] = 0.0\n",
    "    par['q_ta4'] = 0.0\n",
    "    par['q_b2'] = 0.0\n",
    "\n",
    "    par['q_ofp2'] = constrep_qs[i]\n",
    "    par['mu_ofp2'] = constrep_mus[i]\n",
    "\n",
    "    # solve ODE\n",
    "    ts_jnp, xs_jnp, \\\n",
    "        ctrl_ss_memorecord_jnp, uexprecord_jnp, \\\n",
    "        refrecord_jnp = ode_sim(par,  # model parameters\n",
    "                                ode_solver,  # ODE solver for the cell with the synthetic gene circuit\n",
    "                                odeuus_complete,\n",
    "                                # ODE function for the cell with the synthetic gene circuit and the controller (also gives calculated and experienced control actions)\n",
    "                                controller_ctrledvar,  # name of the variable read and steered by the controller\n",
    "                                controller_update, controller_action,\n",
    "                                # function for updating the controller memory and calculating the control action\n",
    "                                model_auxil.x0_from_init_conds(init_conds,\n",
    "                                                               par,\n",
    "                                                               synth_genes, synth_miscs, controller_dynvars,\n",
    "                                                               modules_name2pos,\n",
    "                                                               controller_name2pos),  # initial condition VECTOR\n",
    "                                controller_memo0,  # initial controller memory record\n",
    "                                u0,\n",
    "                                # initial control action, applied before any measurement-informed actions reach the sy_probestem\n",
    "                                (len(synth_genes), len(module1_genes), len(module2_genes)),  # number of synthetic genes\n",
    "                                (len(synth_miscs), len(module1_miscs), len(module2_miscs)),\n",
    "                                # number of miscellaneous species\n",
    "                                modules_name2pos, controller_name2pos,\n",
    "                                # dictionaries mapping gene names to their positions in the state vector\n",
    "                                model_auxil.synth_gene_params_for_jax(par, synth_genes),\n",
    "                                # synthetic gene parameters in jax.array form\n",
    "                                tf, meastimestep,  # simulation time frame and measurement time step\n",
    "                                control_delay,  # delay before control action reaches the sy_probestem\n",
    "                                us_size,  # size of the control action record needed\n",
    "                                ref, ref_switcher,  # reference values and reference switcher\n",
    "                                )\n",
    "    # convert simulation results to numpy array_probes\n",
    "    ts = np.array(ts_jnp)\n",
    "    xs = np.array(xs_jnp)\n",
    "    uexprecord = np.array(uexprecord_jnp)\n",
    "\n",
    "    # record mature protein levels\n",
    "    mature_ofp2_ss_individual[i] = xs[-1, modules_name2pos['ofp2_mature']]\n",
    "\n",
    "    # calculate and record growth rates\n",
    "    _, ls_jnp, _, _, _, _, _ = model_auxil.get_e_l_Fr_nu_psi_T_D(ts, xs, par,\n",
    "                                                                 synth_genes, synth_miscs,\n",
    "                                                                 modules_name2pos,\n",
    "                                                                 module1_specterms, module2_specterms,\n",
    "                                                                 # arguments only used by the basic model\n",
    "                                                                 module1_F_calc, module2_F_calc,\n",
    "                                                                 uexprecord,\n",
    "                                                                 synth_genes_total_and_each, synth_miscs_total_and_each\n",
    "                                                                 )\n",
    "    l_ss_individual[i] = np.array(ls_jnp)[-1]\n",
    "\n",
    "# set switch and ofp parameters back to their original values\n",
    "par['q_ta2'] = q_ta2_bckup\n",
    "par['q_ta3'] = q_ta3_bckup\n",
    "par['q_ta4'] = q_ta4_bckup\n",
    "par['q_b2'] = q_b2_bckup"
   ],
   "id": "ce154cb69c80f82c",
   "outputs": [],
   "execution_count": 55
  },
  {
   "metadata": {
    "ExecuteTime": {
     "end_time": "2025-03-27T15:33:32.694372Z",
     "start_time": "2025-03-27T15:33:26.386625Z"
    }
   },
   "cell_type": "code",
   "source": [
    "# SIMULATE MEASUREMENTS WITH REPORTERS - RUN THE SIMULATION\n",
    "mature_ofp_ss = np.zeros(len(constrep_qs))\n",
    "F_switch_ss = np.zeros(len(constrep_qs))\n",
    "mature_ofp2_ss_withsas = np.zeros(len(constrep_qs))  # initialise storage for steady-state mature protein levels\n",
    "l_ss_withsas = np.zeros(len(constrep_qs))  # initialise storage for steady-state cell growth rates\n",
    "for i in range(0, len(constrep_qs)):\n",
    "    # set constitutive reporter parameters depending on which reporter is considered\n",
    "    par['q_ofp2'] = constrep_qs[i]\n",
    "    par['mu_ofp2'] = constrep_mus[i]\n",
    "    \n",
    "    # set up the ODE solver\n",
    "    ode_solver, us_size = odesols.create_euler_solver(odeuus_complete,\n",
    "                                                      control_delay=control_delay,\n",
    "                                                      meastimestep=meastimestep,\n",
    "                                                      euler_timestep=1e-5)\n",
    "\n",
    "    # solve ODE\n",
    "    timer = time.time()\n",
    "    ts_jnp, xs_jnp, \\\n",
    "        ctrl_memorecord_jnp, uexprecord_jnp, \\\n",
    "        refrecord_jnp = ode_sim(par,  # model parameters\n",
    "                                ode_solver,  # ODE solver for the cell with the synthetic gene circuit\n",
    "                                odeuus_complete,\n",
    "                                # ODE function for the cell with the synthetic gene circuit and the controller (also gives calculated and experienced control actions)\n",
    "                                controller_ctrledvar,  # name of the variable read and steered by the controller\n",
    "                                controller_update, controller_action,\n",
    "                                # function for updating the controller memory and calculating the control action\n",
    "                                model_auxil.x0_from_init_conds(init_conds,\n",
    "                                                               par,\n",
    "                                                               synth_genes, synth_miscs, controller_dynvars,\n",
    "                                                               modules_name2pos,\n",
    "                                                               controller_name2pos),  # initial condition VECTOR\n",
    "                                controller_memo0,  # initial controller memory record\n",
    "                                u0,\n",
    "                                # initial control action, applied before any measurement-informed actions reach the system\n",
    "                                (len(synth_genes), len(module1_genes), len(module2_genes)),  # number of synthetic genes\n",
    "                                (len(synth_miscs), len(module1_miscs), len(module2_miscs)),\n",
    "                                # number of miscellaneous species\n",
    "                                modules_name2pos, controller_name2pos,\n",
    "                                # dictionaries mapping gene names to their positions in the state vector\n",
    "                                model_auxil.synth_gene_params_for_jax(par, synth_genes),\n",
    "                                # synthetic gene parameters in jax.array form\n",
    "                                tf, meastimestep,  # simulation time frame and measurement time step\n",
    "                                control_delay,  # delay before control action reaches the system\n",
    "                                us_size,  # size of the control action record needed\n",
    "                                ref, ref_switcher,  # reference values and reference switcher\n",
    "                                )\n",
    "\n",
    "    # convert simulation results to numpy arrays\n",
    "    ts = np.array(ts_jnp)\n",
    "    xs = np.array(xs_jnp)\n",
    "    ctrl_memorecord = np.array(ctrl_memorecord_jnp)\n",
    "    uexprecord = np.array(uexprecord_jnp)\n",
    "    refrecord = np.array(refrecord_jnp)\n",
    "\n",
    "    # record mature protein levels\n",
    "    mature_ofp_ss[i] = xs[-1, modules_name2pos['b2_mature']]\n",
    "    mature_ofp2_ss_withsas[i] = xs[-1,modules_name2pos['ofp2_mature']]\n",
    "\n",
    "    # calculate and record growth rates\n",
    "    _, ls_jnp, _, _, _, _, _ = model_auxil.get_e_l_Fr_nu_psi_T_D(ts, xs, par,\n",
    "                                                                 synth_genes, synth_miscs,\n",
    "                                                                 modules_name2pos,\n",
    "                                                                 module1_specterms, module2_specterms,\n",
    "                                                                 # arguments only used by the basic model\n",
    "                                                                 module1_F_calc, module2_F_calc,\n",
    "                                                                 uexprecord,\n",
    "                                                                 synth_genes_total_and_each, synth_miscs_total_and_each\n",
    "                                                                 )\n",
    "    l_ss_withsas[i] = np.array(ls_jnp)[-1]\n",
    "\n",
    "    # calculate the switch gene's transcription regulation function\n",
    "    F_switch_ss[i] = module1_F_calc(ts[-1], xs[-1, :], uexprecord[-1],\n",
    "                                    par=par, name2pos=modules_name2pos)[0]"
   ],
   "id": "d4cfa4a2d348cede",
   "outputs": [],
   "execution_count": 56
  },
  {
   "metadata": {
    "ExecuteTime": {
     "end_time": "2025-03-27T15:33:32.715388Z",
     "start_time": "2025-03-27T15:33:32.713490Z"
    }
   },
   "cell_type": "code",
   "source": [
    "# GET THE NORMALISED BURDENS OF CONSTITUTIVE REPORTERS\n",
    "Q_constrep_steady_states=constrep_qs/(par['q_r']+par['q_o'])"
   ],
   "id": "c64195636541cf7",
   "outputs": [],
   "execution_count": 57
  },
  {
   "metadata": {
    "ExecuteTime": {
     "end_time": "2025-03-27T15:33:32.759664Z",
     "start_time": "2025-03-27T15:33:32.756850Z"
    }
   },
   "cell_type": "code",
   "source": [
    "# GET THE BURDENS IMPOSED BY THE SELF-ACTIVATING SWITCH\n",
    "Q_cifi_steady_states=np.zeros_like(constrep_qs)\n",
    "Q_cifi_steady_states_est=np.zeros_like(constrep_qs)\n",
    "for i in range(0, len(constrep_qs)):\n",
    "    # Q_sas_steady_states[i] = F_switch_ss[i] * (par['q_switch']+par['q_ofp'])/(par['q_r']+par['q_o'])\n",
    "    # estimated from\n",
    "    Q_cifi_steady_states_est[i] = Q_calc_one(constrep_mus[i],  # maturation rate of the constitutive reporter's output fluorescent protein\n",
    "                           mature_ofp2_ss_individual[i], l_ss_individual[i],    # individual measurements for the const. reporter: output prot. conc., growth rate\n",
    "                           mature_ofp2_ss_withsas[i], l_ss_withsas[i],  # pair measurements for the const. reporter: output prot. concs., growth rate\n",
    "                           Q_constrep_steady_states[i]    # normalised resource competition factor for the constitutive reporter\n",
    "                           )  # using j-1 for ofpp level and growth rate as the constitutive reporter list has an extra zero at the beginning"
   ],
   "id": "b1124603351d6f23",
   "outputs": [],
   "execution_count": 58
  },
  {
   "metadata": {
    "ExecuteTime": {
     "end_time": "2025-03-27T15:33:32.854001Z",
     "start_time": "2025-03-27T15:33:32.807700Z"
    }
   },
   "cell_type": "code",
   "source": [
    "# PLOT BIFURCATION DIAGRAM\n",
    "\n",
    "# plot the steady states as actually observed\n",
    "constrep_fig = bkplot.figure(\n",
    "    frame_width=480,\n",
    "    frame_height=360,\n",
    "    x_axis_label=\"Q_constrep\",\n",
    "    y_axis_label=\"ofp_mature\",\n",
    "    # x_range=(0.0, 0.5),\n",
    "    # y_range=(0, max(an_bif_curve['ofp_mature'])),\n",
    "    tools=\"box_zoom,pan,hover,reset,save\"\n",
    ")\n",
    "constrep_fig.output_backend = 'svg'\n",
    "\n",
    "# plot the steady states\n",
    "constrep_fig.scatter(x=Q_constrep_steady_states, y=mature_ofp_ss,\n",
    "                marker='circle', size=7.5, \n",
    "               color='violet', legend_label='steady states')\n",
    "\n",
    "# legend formatting\n",
    "constrep_fig.legend.label_text_font_size = \"8pt\"\n",
    "constrep_fig.legend.location = \"bottom_left\"\n",
    "constrep_fig.legend.click_policy = 'hide'\n",
    "\n",
    "# plot the cbc trajectory for imposed and exerted burdens\n",
    "constrep_Q_fig = bkplot.figure(\n",
    "    frame_width=480,\n",
    "    frame_height=360,\n",
    "    x_axis_label=\"Q_constrep, reporter resource demand\",\n",
    "    y_axis_label=\"Q_sas, self-activating switch's demand\",\n",
    "    x_range=(0, 0.75),\n",
    "    y_range=(0, 0.25),\n",
    "    title='Burden plot',\n",
    "    tools=\"box_zoom,pan,hover,reset,save\"\n",
    ")\n",
    "constrep_Q_fig.output_backend = 'svg'\n",
    "\n",
    "# plot the steady states\n",
    "# constrep_Q_fig.scatter(x=Q_constrep_steady_states, y=Q_sas_steady_states,\n",
    "#                 marker='circle', size=7.5,\n",
    "#                color='violet', legend_label='observed steady states (real)')\n",
    "# plot the estimated steady states\n",
    "constrep_Q_fig.scatter(x=Q_constrep_steady_states, y=Q_cifi_steady_states_est,\n",
    "                marker='circle', size=7.5,\n",
    "               color='darkviolet', legend_label='observed steady states (est)')\n",
    "\n",
    "# legend formatting\n",
    "constrep_Q_fig.legend.label_text_font_size = \"8pt\"\n",
    "constrep_Q_fig.legend.location = \"top_right\"\n",
    "constrep_Q_fig.legend.click_policy = 'hide'\n",
    "\n",
    "\n",
    "# show plot\n",
    "bkplot.show(bklayouts.grid([[constrep_fig, constrep_Q_fig]]))"
   ],
   "id": "97ef4ee12d9a5258",
   "outputs": [
    {
     "data": {
      "text/html": [
       "\n",
       "  <div id=\"e303aae8-7a2e-485c-96b6-037d1a4b7a91\" data-root-id=\"p1648\" style=\"display: contents;\"></div>\n"
      ]
     },
     "metadata": {},
     "output_type": "display_data"
    },
    {
     "data": {
      "application/javascript": "(function(root) {\n  function embed_document(root) {\n  const docs_json = {\"0ee2f7e3-8f03-4a47-8060-081994edb726\":{\"version\":\"3.4.1\",\"title\":\"Bokeh Application\",\"roots\":[{\"type\":\"object\",\"name\":\"GridBox\",\"id\":\"p1648\",\"attributes\":{\"rows\":null,\"cols\":null,\"children\":[[{\"type\":\"object\",\"name\":\"Figure\",\"id\":\"p1561\",\"attributes\":{\"x_range\":{\"type\":\"object\",\"name\":\"DataRange1d\",\"id\":\"p1562\"},\"y_range\":{\"type\":\"object\",\"name\":\"DataRange1d\",\"id\":\"p1563\"},\"x_scale\":{\"type\":\"object\",\"name\":\"LinearScale\",\"id\":\"p1570\"},\"y_scale\":{\"type\":\"object\",\"name\":\"LinearScale\",\"id\":\"p1571\"},\"title\":{\"type\":\"object\",\"name\":\"Title\",\"id\":\"p1568\"},\"renderers\":[{\"type\":\"object\",\"name\":\"GlyphRenderer\",\"id\":\"p1598\",\"attributes\":{\"data_source\":{\"type\":\"object\",\"name\":\"ColumnDataSource\",\"id\":\"p1592\",\"attributes\":{\"selected\":{\"type\":\"object\",\"name\":\"Selection\",\"id\":\"p1593\",\"attributes\":{\"indices\":[],\"line_indices\":[]}},\"selection_policy\":{\"type\":\"object\",\"name\":\"UnionRenderers\",\"id\":\"p1594\"},\"data\":{\"type\":\"map\",\"entries\":[[\"x\",{\"type\":\"ndarray\",\"array\":{\"type\":\"bytes\",\"data\":\"AMUV7KxB4T/qvB/tv67eP9TvEwIm2to/vSIIF4wF1z+oVfwr8jDTPyIR4YGwuM4/9XbJq3wPxz+TuWOrkcy+P3MKaf5T9K4/QnCoginhQz8=\"},\"shape\":[10],\"dtype\":\"float64\",\"order\":\"little\"}],[\"y\",{\"type\":\"ndarray\",\"array\":{\"type\":\"bytes\",\"data\":\"ovXrOQ78p0DUh8baodW3QHGEl+LUwcZAA2WMZ+qn1EBfGoaraKjhQB7YGm3sR+xAx8LZHy839UD4B3Mo/vT9QMPtMgGyDARBLjL4jjykCUE=\"},\"shape\":[10],\"dtype\":\"float64\",\"order\":\"little\"}]]}}},\"view\":{\"type\":\"object\",\"name\":\"CDSView\",\"id\":\"p1599\",\"attributes\":{\"filter\":{\"type\":\"object\",\"name\":\"AllIndices\",\"id\":\"p1600\"}}},\"glyph\":{\"type\":\"object\",\"name\":\"Scatter\",\"id\":\"p1595\",\"attributes\":{\"x\":{\"type\":\"field\",\"field\":\"x\"},\"y\":{\"type\":\"field\",\"field\":\"y\"},\"size\":{\"type\":\"value\",\"value\":7.5},\"line_color\":{\"type\":\"value\",\"value\":\"violet\"},\"fill_color\":{\"type\":\"value\",\"value\":\"violet\"},\"hatch_color\":{\"type\":\"value\",\"value\":\"violet\"}}},\"nonselection_glyph\":{\"type\":\"object\",\"name\":\"Scatter\",\"id\":\"p1596\",\"attributes\":{\"x\":{\"type\":\"field\",\"field\":\"x\"},\"y\":{\"type\":\"field\",\"field\":\"y\"},\"size\":{\"type\":\"value\",\"value\":7.5},\"line_color\":{\"type\":\"value\",\"value\":\"violet\"},\"line_alpha\":{\"type\":\"value\",\"value\":0.1},\"fill_color\":{\"type\":\"value\",\"value\":\"violet\"},\"fill_alpha\":{\"type\":\"value\",\"value\":0.1},\"hatch_color\":{\"type\":\"value\",\"value\":\"violet\"},\"hatch_alpha\":{\"type\":\"value\",\"value\":0.1}}},\"muted_glyph\":{\"type\":\"object\",\"name\":\"Scatter\",\"id\":\"p1597\",\"attributes\":{\"x\":{\"type\":\"field\",\"field\":\"x\"},\"y\":{\"type\":\"field\",\"field\":\"y\"},\"size\":{\"type\":\"value\",\"value\":7.5},\"line_color\":{\"type\":\"value\",\"value\":\"violet\"},\"line_alpha\":{\"type\":\"value\",\"value\":0.2},\"fill_color\":{\"type\":\"value\",\"value\":\"violet\"},\"fill_alpha\":{\"type\":\"value\",\"value\":0.2},\"hatch_color\":{\"type\":\"value\",\"value\":\"violet\"},\"hatch_alpha\":{\"type\":\"value\",\"value\":0.2}}}}}],\"toolbar\":{\"type\":\"object\",\"name\":\"Toolbar\",\"id\":\"p1569\",\"attributes\":{\"tools\":[{\"type\":\"object\",\"name\":\"BoxZoomTool\",\"id\":\"p1582\",\"attributes\":{\"overlay\":{\"type\":\"object\",\"name\":\"BoxAnnotation\",\"id\":\"p1583\",\"attributes\":{\"syncable\":false,\"level\":\"overlay\",\"visible\":false,\"left\":{\"type\":\"number\",\"value\":\"nan\"},\"right\":{\"type\":\"number\",\"value\":\"nan\"},\"top\":{\"type\":\"number\",\"value\":\"nan\"},\"bottom\":{\"type\":\"number\",\"value\":\"nan\"},\"left_units\":\"canvas\",\"right_units\":\"canvas\",\"top_units\":\"canvas\",\"bottom_units\":\"canvas\",\"line_color\":\"black\",\"line_alpha\":1.0,\"line_width\":2,\"line_dash\":[4,4],\"fill_color\":\"lightgrey\",\"fill_alpha\":0.5}}}},{\"type\":\"object\",\"name\":\"PanTool\",\"id\":\"p1588\"},{\"type\":\"object\",\"name\":\"HoverTool\",\"id\":\"p1589\",\"attributes\":{\"renderers\":\"auto\"}},{\"type\":\"object\",\"name\":\"ResetTool\",\"id\":\"p1590\"},{\"type\":\"object\",\"name\":\"SaveTool\",\"id\":\"p1591\"}]}},\"left\":[{\"type\":\"object\",\"name\":\"LinearAxis\",\"id\":\"p1577\",\"attributes\":{\"ticker\":{\"type\":\"object\",\"name\":\"BasicTicker\",\"id\":\"p1578\",\"attributes\":{\"mantissas\":[1,2,5]}},\"formatter\":{\"type\":\"object\",\"name\":\"BasicTickFormatter\",\"id\":\"p1579\"},\"axis_label\":\"ofp_mature\",\"major_label_policy\":{\"type\":\"object\",\"name\":\"AllLabels\",\"id\":\"p1580\"}}}],\"below\":[{\"type\":\"object\",\"name\":\"LinearAxis\",\"id\":\"p1572\",\"attributes\":{\"ticker\":{\"type\":\"object\",\"name\":\"BasicTicker\",\"id\":\"p1573\",\"attributes\":{\"mantissas\":[1,2,5]}},\"formatter\":{\"type\":\"object\",\"name\":\"BasicTickFormatter\",\"id\":\"p1574\"},\"axis_label\":\"Q_constrep\",\"major_label_policy\":{\"type\":\"object\",\"name\":\"AllLabels\",\"id\":\"p1575\"}}}],\"center\":[{\"type\":\"object\",\"name\":\"Grid\",\"id\":\"p1576\",\"attributes\":{\"axis\":{\"id\":\"p1572\"}}},{\"type\":\"object\",\"name\":\"Grid\",\"id\":\"p1581\",\"attributes\":{\"dimension\":1,\"axis\":{\"id\":\"p1577\"}}},{\"type\":\"object\",\"name\":\"Legend\",\"id\":\"p1601\",\"attributes\":{\"location\":\"bottom_left\",\"click_policy\":\"hide\",\"label_text_font_size\":\"8pt\",\"items\":[{\"type\":\"object\",\"name\":\"LegendItem\",\"id\":\"p1602\",\"attributes\":{\"label\":{\"type\":\"value\",\"value\":\"steady states\"},\"renderers\":[{\"id\":\"p1598\"}]}}]}}],\"frame_width\":480,\"frame_height\":360,\"output_backend\":\"svg\"}},0,0,1,1],[{\"type\":\"object\",\"name\":\"Figure\",\"id\":\"p1603\",\"attributes\":{\"x_range\":{\"type\":\"object\",\"name\":\"Range1d\",\"id\":\"p1613\",\"attributes\":{\"end\":0.75}},\"y_range\":{\"type\":\"object\",\"name\":\"Range1d\",\"id\":\"p1614\",\"attributes\":{\"end\":0.25}},\"x_scale\":{\"type\":\"object\",\"name\":\"LinearScale\",\"id\":\"p1615\"},\"y_scale\":{\"type\":\"object\",\"name\":\"LinearScale\",\"id\":\"p1616\"},\"title\":{\"type\":\"object\",\"name\":\"Title\",\"id\":\"p1606\",\"attributes\":{\"text\":\"Burden plot\"}},\"renderers\":[{\"type\":\"object\",\"name\":\"GlyphRenderer\",\"id\":\"p1643\",\"attributes\":{\"data_source\":{\"type\":\"object\",\"name\":\"ColumnDataSource\",\"id\":\"p1637\",\"attributes\":{\"selected\":{\"type\":\"object\",\"name\":\"Selection\",\"id\":\"p1638\",\"attributes\":{\"indices\":[],\"line_indices\":[]}},\"selection_policy\":{\"type\":\"object\",\"name\":\"UnionRenderers\",\"id\":\"p1639\"},\"data\":{\"type\":\"map\",\"entries\":[[\"x\",{\"type\":\"ndarray\",\"array\":{\"type\":\"bytes\",\"data\":\"AMUV7KxB4T/qvB/tv67eP9TvEwIm2to/vSIIF4wF1z+oVfwr8jDTPyIR4YGwuM4/9XbJq3wPxz+TuWOrkcy+P3MKaf5T9K4/QnCoginhQz8=\"},\"shape\":[10],\"dtype\":\"float64\",\"order\":\"little\"}],[\"y\",{\"type\":\"ndarray\",\"array\":{\"type\":\"bytes\",\"data\":\"uj0HOmPfZT8ehG2iK6hwP+b2mQ2EpXo/OEDLlHmDhT/4nyfTY/eQP+XN+Jlnmpk/GwnvIMtQoj/nzVhxetSoP+LTbnp1A7A/nCuoaobEsz8=\"},\"shape\":[10],\"dtype\":\"float64\",\"order\":\"little\"}]]}}},\"view\":{\"type\":\"object\",\"name\":\"CDSView\",\"id\":\"p1644\",\"attributes\":{\"filter\":{\"type\":\"object\",\"name\":\"AllIndices\",\"id\":\"p1645\"}}},\"glyph\":{\"type\":\"object\",\"name\":\"Scatter\",\"id\":\"p1640\",\"attributes\":{\"x\":{\"type\":\"field\",\"field\":\"x\"},\"y\":{\"type\":\"field\",\"field\":\"y\"},\"size\":{\"type\":\"value\",\"value\":7.5},\"line_color\":{\"type\":\"value\",\"value\":\"darkviolet\"},\"fill_color\":{\"type\":\"value\",\"value\":\"darkviolet\"},\"hatch_color\":{\"type\":\"value\",\"value\":\"darkviolet\"}}},\"nonselection_glyph\":{\"type\":\"object\",\"name\":\"Scatter\",\"id\":\"p1641\",\"attributes\":{\"x\":{\"type\":\"field\",\"field\":\"x\"},\"y\":{\"type\":\"field\",\"field\":\"y\"},\"size\":{\"type\":\"value\",\"value\":7.5},\"line_color\":{\"type\":\"value\",\"value\":\"darkviolet\"},\"line_alpha\":{\"type\":\"value\",\"value\":0.1},\"fill_color\":{\"type\":\"value\",\"value\":\"darkviolet\"},\"fill_alpha\":{\"type\":\"value\",\"value\":0.1},\"hatch_color\":{\"type\":\"value\",\"value\":\"darkviolet\"},\"hatch_alpha\":{\"type\":\"value\",\"value\":0.1}}},\"muted_glyph\":{\"type\":\"object\",\"name\":\"Scatter\",\"id\":\"p1642\",\"attributes\":{\"x\":{\"type\":\"field\",\"field\":\"x\"},\"y\":{\"type\":\"field\",\"field\":\"y\"},\"size\":{\"type\":\"value\",\"value\":7.5},\"line_color\":{\"type\":\"value\",\"value\":\"darkviolet\"},\"line_alpha\":{\"type\":\"value\",\"value\":0.2},\"fill_color\":{\"type\":\"value\",\"value\":\"darkviolet\"},\"fill_alpha\":{\"type\":\"value\",\"value\":0.2},\"hatch_color\":{\"type\":\"value\",\"value\":\"darkviolet\"},\"hatch_alpha\":{\"type\":\"value\",\"value\":0.2}}}}}],\"toolbar\":{\"type\":\"object\",\"name\":\"Toolbar\",\"id\":\"p1612\",\"attributes\":{\"tools\":[{\"type\":\"object\",\"name\":\"BoxZoomTool\",\"id\":\"p1627\",\"attributes\":{\"overlay\":{\"type\":\"object\",\"name\":\"BoxAnnotation\",\"id\":\"p1628\",\"attributes\":{\"syncable\":false,\"level\":\"overlay\",\"visible\":false,\"left\":{\"type\":\"number\",\"value\":\"nan\"},\"right\":{\"type\":\"number\",\"value\":\"nan\"},\"top\":{\"type\":\"number\",\"value\":\"nan\"},\"bottom\":{\"type\":\"number\",\"value\":\"nan\"},\"left_units\":\"canvas\",\"right_units\":\"canvas\",\"top_units\":\"canvas\",\"bottom_units\":\"canvas\",\"line_color\":\"black\",\"line_alpha\":1.0,\"line_width\":2,\"line_dash\":[4,4],\"fill_color\":\"lightgrey\",\"fill_alpha\":0.5}}}},{\"type\":\"object\",\"name\":\"PanTool\",\"id\":\"p1633\"},{\"type\":\"object\",\"name\":\"HoverTool\",\"id\":\"p1634\",\"attributes\":{\"renderers\":\"auto\"}},{\"type\":\"object\",\"name\":\"ResetTool\",\"id\":\"p1635\"},{\"type\":\"object\",\"name\":\"SaveTool\",\"id\":\"p1636\"}]}},\"left\":[{\"type\":\"object\",\"name\":\"LinearAxis\",\"id\":\"p1622\",\"attributes\":{\"ticker\":{\"type\":\"object\",\"name\":\"BasicTicker\",\"id\":\"p1623\",\"attributes\":{\"mantissas\":[1,2,5]}},\"formatter\":{\"type\":\"object\",\"name\":\"BasicTickFormatter\",\"id\":\"p1624\"},\"axis_label\":\"Q_sas, self-activating switch's demand\",\"major_label_policy\":{\"type\":\"object\",\"name\":\"AllLabels\",\"id\":\"p1625\"}}}],\"below\":[{\"type\":\"object\",\"name\":\"LinearAxis\",\"id\":\"p1617\",\"attributes\":{\"ticker\":{\"type\":\"object\",\"name\":\"BasicTicker\",\"id\":\"p1618\",\"attributes\":{\"mantissas\":[1,2,5]}},\"formatter\":{\"type\":\"object\",\"name\":\"BasicTickFormatter\",\"id\":\"p1619\"},\"axis_label\":\"Q_constrep, reporter resource demand\",\"major_label_policy\":{\"type\":\"object\",\"name\":\"AllLabels\",\"id\":\"p1620\"}}}],\"center\":[{\"type\":\"object\",\"name\":\"Grid\",\"id\":\"p1621\",\"attributes\":{\"axis\":{\"id\":\"p1617\"}}},{\"type\":\"object\",\"name\":\"Grid\",\"id\":\"p1626\",\"attributes\":{\"dimension\":1,\"axis\":{\"id\":\"p1622\"}}},{\"type\":\"object\",\"name\":\"Legend\",\"id\":\"p1646\",\"attributes\":{\"click_policy\":\"hide\",\"label_text_font_size\":\"8pt\",\"items\":[{\"type\":\"object\",\"name\":\"LegendItem\",\"id\":\"p1647\",\"attributes\":{\"label\":{\"type\":\"value\",\"value\":\"observed steady states (est)\"},\"renderers\":[{\"id\":\"p1643\"}]}}]}}],\"frame_width\":480,\"frame_height\":360,\"output_backend\":\"svg\"}},0,1,1,1]]}}]}};\n  const render_items = [{\"docid\":\"0ee2f7e3-8f03-4a47-8060-081994edb726\",\"roots\":{\"p1648\":\"e303aae8-7a2e-485c-96b6-037d1a4b7a91\"},\"root_ids\":[\"p1648\"]}];\n  void root.Bokeh.embed.embed_items_notebook(docs_json, render_items);\n  }\n  if (root.Bokeh !== undefined) {\n    embed_document(root);\n  } else {\n    let attempts = 0;\n    const timer = setInterval(function(root) {\n      if (root.Bokeh !== undefined) {\n        clearInterval(timer);\n        embed_document(root);\n      } else {\n        attempts++;\n        if (attempts > 100) {\n          clearInterval(timer);\n          console.log(\"Bokeh: ERROR: Unable to run BokehJS code because BokehJS library is missing\");\n        }\n      }\n    }, 10, root)\n  }\n})(window);",
      "application/vnd.bokehjs_exec.v0+json": ""
     },
     "metadata": {
      "application/vnd.bokehjs_exec.v0+json": {
       "id": "p1648"
      }
     },
     "output_type": "display_data"
    }
   ],
   "execution_count": 59
  },
  {
   "metadata": {
    "ExecuteTime": {
     "end_time": "2025-03-27T15:33:32.908720Z",
     "start_time": "2025-03-27T15:33:32.876990Z"
    }
   },
   "cell_type": "code",
   "source": [
    "# CDC PAPER - FIGURE 1 A\n",
    "# plot the steady states as actually observed\n",
    "intro_a_fig = bkplot.figure(\n",
    "    frame_width=100,\n",
    "    frame_height=100,\n",
    "    x_axis_label=\"Resource demand\\nfrom CRi\",\n",
    "    y_axis_label=\"MOI output\",\n",
    "    x_range=(0.0, 0.6),\n",
    "    y_range=(0, 5e5),\n",
    "    tools=\"box_zoom,pan,hover,reset,save\"\n",
    ")\n",
    "intro_a_fig.output_backend = 'svg'\n",
    "\n",
    "# plot the characterisation outcomes\n",
    "intro_a_fig.scatter(x=Q_constrep_steady_states, y=mature_ofp_ss,\n",
    "                    marker='circle', size=5, color='#bb3385ff',\n",
    "                    legend_label='Observations')\n",
    "\n",
    "# legend formatting\n",
    "intro_a_fig.legend.location = \"top_right\"\n",
    "intro_a_fig.legend.label_text_font_size = \"7pt\"\n",
    "intro_a_fig.legend.padding=0\n",
    "intro_a_fig.legend.margin=2\n",
    "intro_a_fig.legend.spacing=0\n",
    "intro_a_fig.legend.glyph_width=5\n",
    "intro_a_fig.legend.click_policy = 'hide'\n",
    "\n",
    "# axis formatting\n",
    "intro_a_fig.yaxis.formatter=bkmodels.PrintfTickFormatter(format=\"%4.0e\")\n",
    "intro_a_fig.yaxis.ticker=bkmodels.BasicTicker(desired_num_ticks=6)\n",
    "intro_a_fig.xaxis.axis_label_text_font_size = \"8pt\"\n",
    "intro_a_fig.yaxis.axis_label_text_font_size = \"8pt\"\n",
    "intro_a_fig.xaxis.axis_label_text_color = \"black\"\n",
    "intro_a_fig.yaxis.axis_label_text_color = \"black\"\n",
    "intro_a_fig.xaxis.major_label_text_font_size = \"7pt\"\n",
    "intro_a_fig.yaxis.major_label_text_font_size = \"7pt\"\n",
    "intro_a_fig.xaxis.major_label_text_color = \"black\"\n",
    "intro_a_fig.yaxis.major_label_text_color = \"black\"\n",
    "\n",
    "bkplot.show(intro_a_fig)"
   ],
   "id": "f053fe58a1d118ed",
   "outputs": [
    {
     "data": {
      "text/html": [
       "\n",
       "  <div id=\"c4d3e66a-fa99-42ee-a4a3-2b011bf08dbd\" data-root-id=\"p1653\" style=\"display: contents;\"></div>\n"
      ]
     },
     "metadata": {},
     "output_type": "display_data"
    },
    {
     "data": {
      "application/javascript": "(function(root) {\n  function embed_document(root) {\n  const docs_json = {\"ee70ab87-6973-4a8d-91ee-9864030d082e\":{\"version\":\"3.4.1\",\"title\":\"Bokeh Application\",\"roots\":[{\"type\":\"object\",\"name\":\"Figure\",\"id\":\"p1653\",\"attributes\":{\"x_range\":{\"type\":\"object\",\"name\":\"Range1d\",\"id\":\"p1662\",\"attributes\":{\"end\":0.6}},\"y_range\":{\"type\":\"object\",\"name\":\"Range1d\",\"id\":\"p1663\",\"attributes\":{\"end\":500000.0}},\"x_scale\":{\"type\":\"object\",\"name\":\"LinearScale\",\"id\":\"p1664\"},\"y_scale\":{\"type\":\"object\",\"name\":\"LinearScale\",\"id\":\"p1665\"},\"title\":{\"type\":\"object\",\"name\":\"Title\",\"id\":\"p1660\"},\"renderers\":[{\"type\":\"object\",\"name\":\"GlyphRenderer\",\"id\":\"p1692\",\"attributes\":{\"data_source\":{\"type\":\"object\",\"name\":\"ColumnDataSource\",\"id\":\"p1686\",\"attributes\":{\"selected\":{\"type\":\"object\",\"name\":\"Selection\",\"id\":\"p1687\",\"attributes\":{\"indices\":[],\"line_indices\":[]}},\"selection_policy\":{\"type\":\"object\",\"name\":\"UnionRenderers\",\"id\":\"p1688\"},\"data\":{\"type\":\"map\",\"entries\":[[\"x\",{\"type\":\"ndarray\",\"array\":{\"type\":\"bytes\",\"data\":\"AMUV7KxB4T/qvB/tv67eP9TvEwIm2to/vSIIF4wF1z+oVfwr8jDTPyIR4YGwuM4/9XbJq3wPxz+TuWOrkcy+P3MKaf5T9K4/QnCoginhQz8=\"},\"shape\":[10],\"dtype\":\"float64\",\"order\":\"little\"}],[\"y\",{\"type\":\"ndarray\",\"array\":{\"type\":\"bytes\",\"data\":\"ovXrOQ78p0DUh8baodW3QHGEl+LUwcZAA2WMZ+qn1EBfGoaraKjhQB7YGm3sR+xAx8LZHy839UD4B3Mo/vT9QMPtMgGyDARBLjL4jjykCUE=\"},\"shape\":[10],\"dtype\":\"float64\",\"order\":\"little\"}]]}}},\"view\":{\"type\":\"object\",\"name\":\"CDSView\",\"id\":\"p1693\",\"attributes\":{\"filter\":{\"type\":\"object\",\"name\":\"AllIndices\",\"id\":\"p1694\"}}},\"glyph\":{\"type\":\"object\",\"name\":\"Scatter\",\"id\":\"p1689\",\"attributes\":{\"x\":{\"type\":\"field\",\"field\":\"x\"},\"y\":{\"type\":\"field\",\"field\":\"y\"},\"size\":{\"type\":\"value\",\"value\":5},\"line_color\":{\"type\":\"value\",\"value\":\"#bb3385ff\"},\"fill_color\":{\"type\":\"value\",\"value\":\"#bb3385ff\"},\"hatch_color\":{\"type\":\"value\",\"value\":\"#bb3385ff\"}}},\"nonselection_glyph\":{\"type\":\"object\",\"name\":\"Scatter\",\"id\":\"p1690\",\"attributes\":{\"x\":{\"type\":\"field\",\"field\":\"x\"},\"y\":{\"type\":\"field\",\"field\":\"y\"},\"size\":{\"type\":\"value\",\"value\":5},\"line_color\":{\"type\":\"value\",\"value\":\"#bb3385ff\"},\"line_alpha\":{\"type\":\"value\",\"value\":0.1},\"fill_color\":{\"type\":\"value\",\"value\":\"#bb3385ff\"},\"fill_alpha\":{\"type\":\"value\",\"value\":0.1},\"hatch_color\":{\"type\":\"value\",\"value\":\"#bb3385ff\"},\"hatch_alpha\":{\"type\":\"value\",\"value\":0.1}}},\"muted_glyph\":{\"type\":\"object\",\"name\":\"Scatter\",\"id\":\"p1691\",\"attributes\":{\"x\":{\"type\":\"field\",\"field\":\"x\"},\"y\":{\"type\":\"field\",\"field\":\"y\"},\"size\":{\"type\":\"value\",\"value\":5},\"line_color\":{\"type\":\"value\",\"value\":\"#bb3385ff\"},\"line_alpha\":{\"type\":\"value\",\"value\":0.2},\"fill_color\":{\"type\":\"value\",\"value\":\"#bb3385ff\"},\"fill_alpha\":{\"type\":\"value\",\"value\":0.2},\"hatch_color\":{\"type\":\"value\",\"value\":\"#bb3385ff\"},\"hatch_alpha\":{\"type\":\"value\",\"value\":0.2}}}}}],\"toolbar\":{\"type\":\"object\",\"name\":\"Toolbar\",\"id\":\"p1661\",\"attributes\":{\"tools\":[{\"type\":\"object\",\"name\":\"BoxZoomTool\",\"id\":\"p1676\",\"attributes\":{\"overlay\":{\"type\":\"object\",\"name\":\"BoxAnnotation\",\"id\":\"p1677\",\"attributes\":{\"syncable\":false,\"level\":\"overlay\",\"visible\":false,\"left\":{\"type\":\"number\",\"value\":\"nan\"},\"right\":{\"type\":\"number\",\"value\":\"nan\"},\"top\":{\"type\":\"number\",\"value\":\"nan\"},\"bottom\":{\"type\":\"number\",\"value\":\"nan\"},\"left_units\":\"canvas\",\"right_units\":\"canvas\",\"top_units\":\"canvas\",\"bottom_units\":\"canvas\",\"line_color\":\"black\",\"line_alpha\":1.0,\"line_width\":2,\"line_dash\":[4,4],\"fill_color\":\"lightgrey\",\"fill_alpha\":0.5}}}},{\"type\":\"object\",\"name\":\"PanTool\",\"id\":\"p1682\"},{\"type\":\"object\",\"name\":\"HoverTool\",\"id\":\"p1683\",\"attributes\":{\"renderers\":\"auto\"}},{\"type\":\"object\",\"name\":\"ResetTool\",\"id\":\"p1684\"},{\"type\":\"object\",\"name\":\"SaveTool\",\"id\":\"p1685\"}]}},\"left\":[{\"type\":\"object\",\"name\":\"LinearAxis\",\"id\":\"p1671\",\"attributes\":{\"ticker\":{\"type\":\"object\",\"name\":\"BasicTicker\",\"id\":\"p1698\",\"attributes\":{\"mantissas\":[1,2,5]}},\"formatter\":{\"type\":\"object\",\"name\":\"PrintfTickFormatter\",\"id\":\"p1697\",\"attributes\":{\"format\":\"%4.0e\"}},\"axis_label\":\"MOI output\",\"axis_label_text_color\":\"black\",\"axis_label_text_font_size\":\"8pt\",\"major_label_policy\":{\"type\":\"object\",\"name\":\"AllLabels\",\"id\":\"p1674\"},\"major_label_text_color\":\"black\",\"major_label_text_font_size\":\"7pt\"}}],\"below\":[{\"type\":\"object\",\"name\":\"LinearAxis\",\"id\":\"p1666\",\"attributes\":{\"ticker\":{\"type\":\"object\",\"name\":\"BasicTicker\",\"id\":\"p1667\",\"attributes\":{\"mantissas\":[1,2,5]}},\"formatter\":{\"type\":\"object\",\"name\":\"BasicTickFormatter\",\"id\":\"p1668\"},\"axis_label\":\"Resource demand\\nfrom CRi\",\"axis_label_text_color\":\"black\",\"axis_label_text_font_size\":\"8pt\",\"major_label_policy\":{\"type\":\"object\",\"name\":\"AllLabels\",\"id\":\"p1669\"},\"major_label_text_color\":\"black\",\"major_label_text_font_size\":\"7pt\"}}],\"center\":[{\"type\":\"object\",\"name\":\"Grid\",\"id\":\"p1670\",\"attributes\":{\"axis\":{\"id\":\"p1666\"}}},{\"type\":\"object\",\"name\":\"Grid\",\"id\":\"p1675\",\"attributes\":{\"dimension\":1,\"axis\":{\"id\":\"p1671\"}}},{\"type\":\"object\",\"name\":\"Legend\",\"id\":\"p1695\",\"attributes\":{\"click_policy\":\"hide\",\"label_text_font_size\":\"7pt\",\"glyph_width\":5,\"margin\":2,\"padding\":0,\"spacing\":0,\"items\":[{\"type\":\"object\",\"name\":\"LegendItem\",\"id\":\"p1696\",\"attributes\":{\"label\":{\"type\":\"value\",\"value\":\"Observations\"},\"renderers\":[{\"id\":\"p1692\"}]}}]}}],\"frame_width\":100,\"frame_height\":100,\"output_backend\":\"svg\"}}]}};\n  const render_items = [{\"docid\":\"ee70ab87-6973-4a8d-91ee-9864030d082e\",\"roots\":{\"p1653\":\"c4d3e66a-fa99-42ee-a4a3-2b011bf08dbd\"},\"root_ids\":[\"p1653\"]}];\n  void root.Bokeh.embed.embed_items_notebook(docs_json, render_items);\n  }\n  if (root.Bokeh !== undefined) {\n    embed_document(root);\n  } else {\n    let attempts = 0;\n    const timer = setInterval(function(root) {\n      if (root.Bokeh !== undefined) {\n        clearInterval(timer);\n        embed_document(root);\n      } else {\n        attempts++;\n        if (attempts > 100) {\n          clearInterval(timer);\n          console.log(\"Bokeh: ERROR: Unable to run BokehJS code because BokehJS library is missing\");\n        }\n      }\n    }, 10, root)\n  }\n})(window);",
      "application/vnd.bokehjs_exec.v0+json": ""
     },
     "metadata": {
      "application/vnd.bokehjs_exec.v0+json": {
       "id": "p1653"
      }
     },
     "output_type": "display_data"
    }
   ],
   "execution_count": 60
  }
 ],
 "metadata": {
  "kernelspec": {
   "display_name": "Python 3",
   "language": "python",
   "name": "python3"
  },
  "language_info": {
   "codemirror_mode": {
    "name": "ipython",
    "version": 2
   },
   "file_extension": ".py",
   "mimetype": "text/x-python",
   "name": "python",
   "nbconvert_exporter": "python",
   "pygments_lexer": "ipython2",
   "version": "2.7.6"
  }
 },
 "nbformat": 4,
 "nbformat_minor": 5
}
