{
 "cells": [
  {
   "metadata": {
    "ExecuteTime": {
     "end_time": "2025-03-23T21:20:47.626008Z",
     "start_time": "2025-03-23T21:20:47.614518Z"
    }
   },
   "cell_type": "code",
   "source": [
    "# BASIC_SELFACT_CBC.IPYNB - Characterisation of a self-activating gene's RC properties using constitutive reporters, with a basic model\n",
    "# By Kirill Sechkar\n",
    "\n",
    "# PACKAGE IMPORTS\n",
    "import numpy as np\n",
    "import scipy as sp\n",
    "import jax\n",
    "import jax.numpy as jnp\n",
    "import jaxopt\n",
    "from bokeh import plotting as bkplot, models as bkmodels, layouts as bklayouts, io as bkio\n",
    "from bokeh.colors import RGB as bkRGB\n",
    "import matplotlib as mpl, matplotlib.pyplot as plt\n",
    "from bokeh import io as bkio\n",
    "from bokeh.colors import RGB as bkRGB\n",
    "\n",
    "# SOLVER AND CONTROLLER IMPORTS\n",
    "import common.controllers as ctrls\n",
    "import common.reference_switchers as refsws\n",
    "import common.ode_solvers as odesols\n",
    "\n",
    "# BIFURCATION ANALYSIS, PROBE CHARACTERISATION AND PREDICTION TOOLS\n",
    "from common import selfact_an_bif as an_tools\n",
    "from common.selfact_jointexp import *\n",
    "from common.probe_char_tools import *\n",
    "\n",
    "# CELL AND CIRCUIT MODEL IMPORTS\n",
    "from basic_model import *\n",
    "import basic_genetic_modules as gms\n",
    "\n",
    "# set up jax\n",
    "jax.config.update('jax_platform_name', 'cpu')\n",
    "jax.config.update(\"jax_enable_x64\", True)\n",
    "\n",
    "# set up bokeh\n",
    "bkio.reset_output()\n",
    "bkplot.output_notebook()\n",
    "\n",
    "# set up matplotlib\n",
    "%matplotlib widget"
   ],
   "id": "a765f717f383cdb7",
   "outputs": [
    {
     "data": {
      "text/html": [
       "    <style>\n",
       "        .bk-notebook-logo {\n",
       "            display: block;\n",
       "            width: 20px;\n",
       "            height: 20px;\n",
       "            background-image: url(data:image/png;base64,iVBORw0KGgoAAAANSUhEUgAAABQAAAAUCAYAAACNiR0NAAAABHNCSVQICAgIfAhkiAAAAAlwSFlzAAALEgAACxIB0t1+/AAAABx0RVh0U29mdHdhcmUAQWRvYmUgRmlyZXdvcmtzIENTNui8sowAAAOkSURBVDiNjZRtaJVlGMd/1/08zzln5zjP1LWcU9N0NkN8m2CYjpgQYQXqSs0I84OLIC0hkEKoPtiH3gmKoiJDU7QpLgoLjLIQCpEsNJ1vqUOdO7ppbuec5+V+rj4ctwzd8IIbbi6u+8f1539dt3A78eXC7QizUF7gyV1fD1Yqg4JWz84yffhm0qkFqBogB9rM8tZdtwVsPUhWhGcFJngGeWrPzHm5oaMmkfEg1usvLFyc8jLRqDOMru7AyC8saQr7GG7f5fvDeH7Ej8CM66nIF+8yngt6HWaKh7k49Soy9nXurCi1o3qUbS3zWfrYeQDTB/Qj6kX6Ybhw4B+bOYoLKCC9H3Nu/leUTZ1JdRWkkn2ldcCamzrcf47KKXdAJllSlxAOkRgyHsGC/zRday5Qld9DyoM4/q/rUoy/CXh3jzOu3bHUVZeU+DEn8FInkPBFlu3+nW3Nw0mk6vCDiWg8CeJaxEwuHS3+z5RgY+YBR6V1Z1nxSOfoaPa4LASWxxdNp+VWTk7+4vzaou8v8PN+xo+KY2xsw6une2frhw05CTYOmQvsEhjhWjn0bmXPjpE1+kplmmkP3suftwTubK9Vq22qKmrBhpY4jvd5afdRA3wGjFAgcnTK2s4hY0/GPNIb0nErGMCRxWOOX64Z8RAC4oCXdklmEvcL8o0BfkNK4lUg9HTl+oPlQxdNo3Mg4Nv175e/1LDGzZen30MEjRUtmXSfiTVu1kK8W4txyV6BMKlbgk3lMwYCiusNy9fVfvvwMxv8Ynl6vxoByANLTWplvuj/nF9m2+PDtt1eiHPBr1oIfhCChQMBw6Aw0UulqTKZdfVvfG7VcfIqLG9bcldL/+pdWTLxLUy8Qq38heUIjh4XlzZxzQm19lLFlr8vdQ97rjZVOLf8nclzckbcD4wxXMidpX30sFd37Fv/GtwwhzhxGVAprjbg0gCAEeIgwCZyTV2Z1REEW8O4py0wsjeloKoMr6iCY6dP92H6Vw/oTyICIthibxjm/DfN9lVz8IqtqKYLUXfoKVMVQVVJOElGjrnnUt9T9wbgp8AyYKaGlqingHZU/uG2NTZSVqwHQTWkx9hxjkpWDaCg6Ckj5qebgBVbT3V3NNXMSiWSDdGV3hrtzla7J+duwPOToIg42ChPQOQjspnSlp1V+Gjdged7+8UN5CRAV7a5EdFNwCjEaBR27b3W890TE7g24NAP/mMDXRWrGoFPQI9ls/MWO2dWFAar/xcOIImbbpA3zgAAAABJRU5ErkJggg==);\n",
       "        }\n",
       "    </style>\n",
       "    <div>\n",
       "        <a href=\"https://bokeh.org\" target=\"_blank\" class=\"bk-notebook-logo\"></a>\n",
       "        <span id=\"af32e948-d23a-49ba-8ac5-8a73efd7af9d\">Loading BokehJS ...</span>\n",
       "    </div>\n"
      ]
     },
     "metadata": {},
     "output_type": "display_data"
    },
    {
     "data": {
      "application/javascript": "'use strict';\n(function(root) {\n  function now() {\n    return new Date();\n  }\n\n  const force = true;\n\n  if (typeof root._bokeh_onload_callbacks === \"undefined\" || force === true) {\n    root._bokeh_onload_callbacks = [];\n    root._bokeh_is_loading = undefined;\n  }\n\nconst JS_MIME_TYPE = 'application/javascript';\n  const HTML_MIME_TYPE = 'text/html';\n  const EXEC_MIME_TYPE = 'application/vnd.bokehjs_exec.v0+json';\n  const CLASS_NAME = 'output_bokeh rendered_html';\n\n  /**\n   * Render data to the DOM node\n   */\n  function render(props, node) {\n    const script = document.createElement(\"script\");\n    node.appendChild(script);\n  }\n\n  /**\n   * Handle when an output is cleared or removed\n   */\n  function handleClearOutput(event, handle) {\n    function drop(id) {\n      const view = Bokeh.index.get_by_id(id)\n      if (view != null) {\n        view.model.document.clear()\n        Bokeh.index.delete(view)\n      }\n    }\n\n    const cell = handle.cell;\n\n    const id = cell.output_area._bokeh_element_id;\n    const server_id = cell.output_area._bokeh_server_id;\n\n    // Clean up Bokeh references\n    if (id != null) {\n      drop(id)\n    }\n\n    if (server_id !== undefined) {\n      // Clean up Bokeh references\n      const cmd_clean = \"from bokeh.io.state import curstate; print(curstate().uuid_to_server['\" + server_id + \"'].get_sessions()[0].document.roots[0]._id)\";\n      cell.notebook.kernel.execute(cmd_clean, {\n        iopub: {\n          output: function(msg) {\n            const id = msg.content.text.trim()\n            drop(id)\n          }\n        }\n      });\n      // Destroy server and session\n      const cmd_destroy = \"import bokeh.io.notebook as ion; ion.destroy_server('\" + server_id + \"')\";\n      cell.notebook.kernel.execute(cmd_destroy);\n    }\n  }\n\n  /**\n   * Handle when a new output is added\n   */\n  function handleAddOutput(event, handle) {\n    const output_area = handle.output_area;\n    const output = handle.output;\n\n    // limit handleAddOutput to display_data with EXEC_MIME_TYPE content only\n    if ((output.output_type != \"display_data\") || (!Object.prototype.hasOwnProperty.call(output.data, EXEC_MIME_TYPE))) {\n      return\n    }\n\n    const toinsert = output_area.element.find(\".\" + CLASS_NAME.split(' ')[0]);\n\n    if (output.metadata[EXEC_MIME_TYPE][\"id\"] !== undefined) {\n      toinsert[toinsert.length - 1].firstChild.textContent = output.data[JS_MIME_TYPE];\n      // store reference to embed id on output_area\n      output_area._bokeh_element_id = output.metadata[EXEC_MIME_TYPE][\"id\"];\n    }\n    if (output.metadata[EXEC_MIME_TYPE][\"server_id\"] !== undefined) {\n      const bk_div = document.createElement(\"div\");\n      bk_div.innerHTML = output.data[HTML_MIME_TYPE];\n      const script_attrs = bk_div.children[0].attributes;\n      for (let i = 0; i < script_attrs.length; i++) {\n        toinsert[toinsert.length - 1].firstChild.setAttribute(script_attrs[i].name, script_attrs[i].value);\n        toinsert[toinsert.length - 1].firstChild.textContent = bk_div.children[0].textContent\n      }\n      // store reference to server id on output_area\n      output_area._bokeh_server_id = output.metadata[EXEC_MIME_TYPE][\"server_id\"];\n    }\n  }\n\n  function register_renderer(events, OutputArea) {\n\n    function append_mime(data, metadata, element) {\n      // create a DOM node to render to\n      const toinsert = this.create_output_subarea(\n        metadata,\n        CLASS_NAME,\n        EXEC_MIME_TYPE\n      );\n      this.keyboard_manager.register_events(toinsert);\n      // Render to node\n      const props = {data: data, metadata: metadata[EXEC_MIME_TYPE]};\n      render(props, toinsert[toinsert.length - 1]);\n      element.append(toinsert);\n      return toinsert\n    }\n\n    /* Handle when an output is cleared or removed */\n    events.on('clear_output.CodeCell', handleClearOutput);\n    events.on('delete.Cell', handleClearOutput);\n\n    /* Handle when a new output is added */\n    events.on('output_added.OutputArea', handleAddOutput);\n\n    /**\n     * Register the mime type and append_mime function with output_area\n     */\n    OutputArea.prototype.register_mime_type(EXEC_MIME_TYPE, append_mime, {\n      /* Is output safe? */\n      safe: true,\n      /* Index of renderer in `output_area.display_order` */\n      index: 0\n    });\n  }\n\n  // register the mime type if in Jupyter Notebook environment and previously unregistered\n  if (root.Jupyter !== undefined) {\n    const events = require('base/js/events');\n    const OutputArea = require('notebook/js/outputarea').OutputArea;\n\n    if (OutputArea.prototype.mime_types().indexOf(EXEC_MIME_TYPE) == -1) {\n      register_renderer(events, OutputArea);\n    }\n  }\n  if (typeof (root._bokeh_timeout) === \"undefined\" || force === true) {\n    root._bokeh_timeout = Date.now() + 5000;\n    root._bokeh_failed_load = false;\n  }\n\n  const NB_LOAD_WARNING = {'data': {'text/html':\n     \"<div style='background-color: #fdd'>\\n\"+\n     \"<p>\\n\"+\n     \"BokehJS does not appear to have successfully loaded. If loading BokehJS from CDN, this \\n\"+\n     \"may be due to a slow or bad network connection. Possible fixes:\\n\"+\n     \"</p>\\n\"+\n     \"<ul>\\n\"+\n     \"<li>re-rerun `output_notebook()` to attempt to load from CDN again, or</li>\\n\"+\n     \"<li>use INLINE resources instead, as so:</li>\\n\"+\n     \"</ul>\\n\"+\n     \"<code>\\n\"+\n     \"from bokeh.resources import INLINE\\n\"+\n     \"output_notebook(resources=INLINE)\\n\"+\n     \"</code>\\n\"+\n     \"</div>\"}};\n\n  function display_loaded(error = null) {\n    const el = document.getElementById(\"af32e948-d23a-49ba-8ac5-8a73efd7af9d\");\n    if (el != null) {\n      const html = (() => {\n        if (typeof root.Bokeh === \"undefined\") {\n          if (error == null) {\n            return \"BokehJS is loading ...\";\n          } else {\n            return \"BokehJS failed to load.\";\n          }\n        } else {\n          const prefix = `BokehJS ${root.Bokeh.version}`;\n          if (error == null) {\n            return `${prefix} successfully loaded.`;\n          } else {\n            return `${prefix} <b>encountered errors</b> while loading and may not function as expected.`;\n          }\n        }\n      })();\n      el.innerHTML = html;\n\n      if (error != null) {\n        const wrapper = document.createElement(\"div\");\n        wrapper.style.overflow = \"auto\";\n        wrapper.style.height = \"5em\";\n        wrapper.style.resize = \"vertical\";\n        const content = document.createElement(\"div\");\n        content.style.fontFamily = \"monospace\";\n        content.style.whiteSpace = \"pre-wrap\";\n        content.style.backgroundColor = \"rgb(255, 221, 221)\";\n        content.textContent = error.stack ?? error.toString();\n        wrapper.append(content);\n        el.append(wrapper);\n      }\n    } else if (Date.now() < root._bokeh_timeout) {\n      setTimeout(() => display_loaded(error), 100);\n    }\n  }\n\n  function run_callbacks() {\n    try {\n      root._bokeh_onload_callbacks.forEach(function(callback) {\n        if (callback != null)\n          callback();\n      });\n    } finally {\n      delete root._bokeh_onload_callbacks\n    }\n    console.debug(\"Bokeh: all callbacks have finished\");\n  }\n\n  function load_libs(css_urls, js_urls, callback) {\n    if (css_urls == null) css_urls = [];\n    if (js_urls == null) js_urls = [];\n\n    root._bokeh_onload_callbacks.push(callback);\n    if (root._bokeh_is_loading > 0) {\n      console.debug(\"Bokeh: BokehJS is being loaded, scheduling callback at\", now());\n      return null;\n    }\n    if (js_urls == null || js_urls.length === 0) {\n      run_callbacks();\n      return null;\n    }\n    console.debug(\"Bokeh: BokehJS not loaded, scheduling load and callback at\", now());\n    root._bokeh_is_loading = css_urls.length + js_urls.length;\n\n    function on_load() {\n      root._bokeh_is_loading--;\n      if (root._bokeh_is_loading === 0) {\n        console.debug(\"Bokeh: all BokehJS libraries/stylesheets loaded\");\n        run_callbacks()\n      }\n    }\n\n    function on_error(url) {\n      console.error(\"failed to load \" + url);\n    }\n\n    for (let i = 0; i < css_urls.length; i++) {\n      const url = css_urls[i];\n      const element = document.createElement(\"link\");\n      element.onload = on_load;\n      element.onerror = on_error.bind(null, url);\n      element.rel = \"stylesheet\";\n      element.type = \"text/css\";\n      element.href = url;\n      console.debug(\"Bokeh: injecting link tag for BokehJS stylesheet: \", url);\n      document.body.appendChild(element);\n    }\n\n    for (let i = 0; i < js_urls.length; i++) {\n      const url = js_urls[i];\n      const element = document.createElement('script');\n      element.onload = on_load;\n      element.onerror = on_error.bind(null, url);\n      element.async = false;\n      element.src = url;\n      console.debug(\"Bokeh: injecting script tag for BokehJS library: \", url);\n      document.head.appendChild(element);\n    }\n  };\n\n  function inject_raw_css(css) {\n    const element = document.createElement(\"style\");\n    element.appendChild(document.createTextNode(css));\n    document.body.appendChild(element);\n  }\n\n  const js_urls = [\"https://cdn.bokeh.org/bokeh/release/bokeh-3.4.1.min.js\", \"https://cdn.bokeh.org/bokeh/release/bokeh-gl-3.4.1.min.js\", \"https://cdn.bokeh.org/bokeh/release/bokeh-widgets-3.4.1.min.js\", \"https://cdn.bokeh.org/bokeh/release/bokeh-tables-3.4.1.min.js\", \"https://cdn.bokeh.org/bokeh/release/bokeh-mathjax-3.4.1.min.js\"];\n  const css_urls = [];\n\n  const inline_js = [    function(Bokeh) {\n      Bokeh.set_log_level(\"info\");\n    },\nfunction(Bokeh) {\n    }\n  ];\n\n  function run_inline_js() {\n    if (root.Bokeh !== undefined || force === true) {\n      try {\n            for (let i = 0; i < inline_js.length; i++) {\n      inline_js[i].call(root, root.Bokeh);\n    }\n\n      } catch (error) {display_loaded(error);throw error;\n      }if (force === true) {\n        display_loaded();\n      }} else if (Date.now() < root._bokeh_timeout) {\n      setTimeout(run_inline_js, 100);\n    } else if (!root._bokeh_failed_load) {\n      console.log(\"Bokeh: BokehJS failed to load within specified timeout.\");\n      root._bokeh_failed_load = true;\n    } else if (force !== true) {\n      const cell = $(document.getElementById(\"af32e948-d23a-49ba-8ac5-8a73efd7af9d\")).parents('.cell').data().cell;\n      cell.output_area.append_execute_result(NB_LOAD_WARNING)\n    }\n  }\n\n  if (root._bokeh_is_loading === 0) {\n    console.debug(\"Bokeh: BokehJS loaded, going straight to plotting\");\n    run_inline_js();\n  } else {\n    load_libs(css_urls, js_urls, function() {\n      console.debug(\"Bokeh: BokehJS plotting callback run at\", now());\n      run_inline_js();\n    });\n  }\n}(window));",
      "application/vnd.bokehjs_load.v0+json": "'use strict';\n(function(root) {\n  function now() {\n    return new Date();\n  }\n\n  const force = true;\n\n  if (typeof root._bokeh_onload_callbacks === \"undefined\" || force === true) {\n    root._bokeh_onload_callbacks = [];\n    root._bokeh_is_loading = undefined;\n  }\n\n\n  if (typeof (root._bokeh_timeout) === \"undefined\" || force === true) {\n    root._bokeh_timeout = Date.now() + 5000;\n    root._bokeh_failed_load = false;\n  }\n\n  const NB_LOAD_WARNING = {'data': {'text/html':\n     \"<div style='background-color: #fdd'>\\n\"+\n     \"<p>\\n\"+\n     \"BokehJS does not appear to have successfully loaded. If loading BokehJS from CDN, this \\n\"+\n     \"may be due to a slow or bad network connection. Possible fixes:\\n\"+\n     \"</p>\\n\"+\n     \"<ul>\\n\"+\n     \"<li>re-rerun `output_notebook()` to attempt to load from CDN again, or</li>\\n\"+\n     \"<li>use INLINE resources instead, as so:</li>\\n\"+\n     \"</ul>\\n\"+\n     \"<code>\\n\"+\n     \"from bokeh.resources import INLINE\\n\"+\n     \"output_notebook(resources=INLINE)\\n\"+\n     \"</code>\\n\"+\n     \"</div>\"}};\n\n  function display_loaded(error = null) {\n    const el = document.getElementById(\"af32e948-d23a-49ba-8ac5-8a73efd7af9d\");\n    if (el != null) {\n      const html = (() => {\n        if (typeof root.Bokeh === \"undefined\") {\n          if (error == null) {\n            return \"BokehJS is loading ...\";\n          } else {\n            return \"BokehJS failed to load.\";\n          }\n        } else {\n          const prefix = `BokehJS ${root.Bokeh.version}`;\n          if (error == null) {\n            return `${prefix} successfully loaded.`;\n          } else {\n            return `${prefix} <b>encountered errors</b> while loading and may not function as expected.`;\n          }\n        }\n      })();\n      el.innerHTML = html;\n\n      if (error != null) {\n        const wrapper = document.createElement(\"div\");\n        wrapper.style.overflow = \"auto\";\n        wrapper.style.height = \"5em\";\n        wrapper.style.resize = \"vertical\";\n        const content = document.createElement(\"div\");\n        content.style.fontFamily = \"monospace\";\n        content.style.whiteSpace = \"pre-wrap\";\n        content.style.backgroundColor = \"rgb(255, 221, 221)\";\n        content.textContent = error.stack ?? error.toString();\n        wrapper.append(content);\n        el.append(wrapper);\n      }\n    } else if (Date.now() < root._bokeh_timeout) {\n      setTimeout(() => display_loaded(error), 100);\n    }\n  }\n\n  function run_callbacks() {\n    try {\n      root._bokeh_onload_callbacks.forEach(function(callback) {\n        if (callback != null)\n          callback();\n      });\n    } finally {\n      delete root._bokeh_onload_callbacks\n    }\n    console.debug(\"Bokeh: all callbacks have finished\");\n  }\n\n  function load_libs(css_urls, js_urls, callback) {\n    if (css_urls == null) css_urls = [];\n    if (js_urls == null) js_urls = [];\n\n    root._bokeh_onload_callbacks.push(callback);\n    if (root._bokeh_is_loading > 0) {\n      console.debug(\"Bokeh: BokehJS is being loaded, scheduling callback at\", now());\n      return null;\n    }\n    if (js_urls == null || js_urls.length === 0) {\n      run_callbacks();\n      return null;\n    }\n    console.debug(\"Bokeh: BokehJS not loaded, scheduling load and callback at\", now());\n    root._bokeh_is_loading = css_urls.length + js_urls.length;\n\n    function on_load() {\n      root._bokeh_is_loading--;\n      if (root._bokeh_is_loading === 0) {\n        console.debug(\"Bokeh: all BokehJS libraries/stylesheets loaded\");\n        run_callbacks()\n      }\n    }\n\n    function on_error(url) {\n      console.error(\"failed to load \" + url);\n    }\n\n    for (let i = 0; i < css_urls.length; i++) {\n      const url = css_urls[i];\n      const element = document.createElement(\"link\");\n      element.onload = on_load;\n      element.onerror = on_error.bind(null, url);\n      element.rel = \"stylesheet\";\n      element.type = \"text/css\";\n      element.href = url;\n      console.debug(\"Bokeh: injecting link tag for BokehJS stylesheet: \", url);\n      document.body.appendChild(element);\n    }\n\n    for (let i = 0; i < js_urls.length; i++) {\n      const url = js_urls[i];\n      const element = document.createElement('script');\n      element.onload = on_load;\n      element.onerror = on_error.bind(null, url);\n      element.async = false;\n      element.src = url;\n      console.debug(\"Bokeh: injecting script tag for BokehJS library: \", url);\n      document.head.appendChild(element);\n    }\n  };\n\n  function inject_raw_css(css) {\n    const element = document.createElement(\"style\");\n    element.appendChild(document.createTextNode(css));\n    document.body.appendChild(element);\n  }\n\n  const js_urls = [\"https://cdn.bokeh.org/bokeh/release/bokeh-3.4.1.min.js\", \"https://cdn.bokeh.org/bokeh/release/bokeh-gl-3.4.1.min.js\", \"https://cdn.bokeh.org/bokeh/release/bokeh-widgets-3.4.1.min.js\", \"https://cdn.bokeh.org/bokeh/release/bokeh-tables-3.4.1.min.js\", \"https://cdn.bokeh.org/bokeh/release/bokeh-mathjax-3.4.1.min.js\"];\n  const css_urls = [];\n\n  const inline_js = [    function(Bokeh) {\n      Bokeh.set_log_level(\"info\");\n    },\nfunction(Bokeh) {\n    }\n  ];\n\n  function run_inline_js() {\n    if (root.Bokeh !== undefined || force === true) {\n      try {\n            for (let i = 0; i < inline_js.length; i++) {\n      inline_js[i].call(root, root.Bokeh);\n    }\n\n      } catch (error) {display_loaded(error);throw error;\n      }if (force === true) {\n        display_loaded();\n      }} else if (Date.now() < root._bokeh_timeout) {\n      setTimeout(run_inline_js, 100);\n    } else if (!root._bokeh_failed_load) {\n      console.log(\"Bokeh: BokehJS failed to load within specified timeout.\");\n      root._bokeh_failed_load = true;\n    } else if (force !== true) {\n      const cell = $(document.getElementById(\"af32e948-d23a-49ba-8ac5-8a73efd7af9d\")).parents('.cell').data().cell;\n      cell.output_area.append_execute_result(NB_LOAD_WARNING)\n    }\n  }\n\n  if (root._bokeh_is_loading === 0) {\n    console.debug(\"Bokeh: BokehJS loaded, going straight to plotting\");\n    run_inline_js();\n  } else {\n    load_libs(css_urls, js_urls, function() {\n      console.debug(\"Bokeh: BokehJS plotting callback run at\", now());\n      run_inline_js();\n    });\n  }\n}(window));"
     },
     "metadata": {},
     "output_type": "display_data"
    }
   ],
   "execution_count": 83
  },
  {
   "metadata": {
    "ExecuteTime": {
     "end_time": "2025-03-23T21:20:47.640358Z",
     "start_time": "2025-03-23T21:20:47.637626Z"
    }
   },
   "cell_type": "code",
   "source": [
    "# INITIALISE THE MODEL, ITS PARAMETERS AND INITIAL CONDITIONS\n",
    "model_auxil = ModelAuxiliary()  # auxiliary tools for simulating the model and plotting simulation outcomes\n",
    "par = model_auxil.default_params()  # get default parameter values\n",
    "init_conds = model_auxil.default_init_conds(par)  # get default initial conditions"
   ],
   "id": "5d57ce3948ab7712",
   "outputs": [],
   "execution_count": 84
  },
  {
   "metadata": {
    "ExecuteTime": {
     "end_time": "2025-03-23T21:20:47.690078Z",
     "start_time": "2025-03-23T21:20:47.687031Z"
    }
   },
   "cell_type": "code",
   "source": [
    "# DEFINE CIRCUIT PARAMETERS TO BE CONSIDERED\n",
    "circ_par={}\n",
    "\n",
    "circ_par['q_switch'] = 1.25e2  # resource competition factor for the switch gene\n",
    "circ_par['q_ofp'] = 100*circ_par['q_switch'] # RC factor for the switch's fluorescent output gene\n",
    "circ_par['baseline_switch'] = 0.05\n",
    "circ_par['K_switch'] = 250.0\n",
    "circ_par['I_switch'] = 0.1\n",
    "\n",
    "# default RC factor for a constitutive reporter\n",
    "circ_par['q_ofp2'] = 6e4\n",
    "\n",
    "# range of RC factors for the constitutive reporters\n",
    "constrep_qs = np.flip(np.linspace(45.0,4e4,10))\n",
    "# define maturation rates considered\n",
    "constrep_mus = [1/(13.6/60)]*len(constrep_qs)  # sfGFP maturation time of 13.6 min"
   ],
   "id": "33c0cac5afdf4c08",
   "outputs": [],
   "execution_count": 85
  },
  {
   "metadata": {
    "ExecuteTime": {
     "end_time": "2025-03-23T21:20:47.740606Z",
     "start_time": "2025-03-23T21:20:47.736928Z"
    }
   },
   "cell_type": "code",
   "source": [
    "# INITIALISE AND PARAMETERISE THE CELL MODEL\n",
    "\n",
    "# initialise cell model\n",
    "model_auxil = ModelAuxiliary()  # auxiliary tools for simulating the model and plotting simulation outcomes\n",
    "model_par = model_auxil.default_params()  # get default parameter values\n",
    "init_conds = model_auxil.default_init_conds(model_par)  # get default initial conditions\n",
    "\n",
    "# add reference tracker switcher\n",
    "model_par_with_refswitch, ref_switcher = model_auxil.add_reference_switcher(model_par,\n",
    "                                                                                    # cell model parameters\n",
    "                                                                                    refsws.no_switching_initialise,\n",
    "                                                                                    # function initialising the reference switcher\n",
    "                                                                                    refsws.no_switching_switch\n",
    "                                                                                    # function switching the references to be tracked\n",
    "                                                                                    )\n",
    "\n",
    "# load synthetic genetic modules and the controller\n",
    "odeuus_complete, \\\n",
    "    module1_F_calc, module2_F_calc, \\\n",
    "    module1_specterms, module2_specterms, \\\n",
    "    controller_action, controller_update, \\\n",
    "    par, init_conds, controller_memo0, \\\n",
    "    synth_genes_total_and_each, synth_miscs_total_and_each, \\\n",
    "    controller_memos, controller_dynvars, controller_ctrledvar, \\\n",
    "    modules_name2pos, modules_styles, controller_name2pos, controller_styles, \\\n",
    "    module1_v_with_F_calc, module2_v_with_F_calc = model_auxil.add_modules_and_controller(\n",
    "        # module 1\n",
    "        gms.sas_initialise,  # function initialising the circuit\n",
    "        gms.sas_ode,  # function defining the circuit ODEs\n",
    "        gms.sas_F_calc, # function calculating the circuit genes' transcription regulation functions\n",
    "        gms.sas_specterms, # function calculating the circuit genes effective mRNA levels (due to possible co-expression from the same operons)\n",
    "        # module 2\n",
    "        gms.constfp2_initialise,  # function initialising the circuit\n",
    "        gms.constfp2_ode,  # function defining the circuit ODEs\n",
    "        gms.constfp2_F_calc, # function calculating the circuit genes' transcription regulation functions\n",
    "        gms.constfp2_specterms, # function calculating the circuit genes effective mRNA levels (due to possible co-expression from the same operons)\n",
    "        # controller\n",
    "        ctrls.cci_initialise,  # function initialising the controller\n",
    "        ctrls.cci_action,  # function calculating the controller action\n",
    "        ctrls.cci_ode,  # function defining the controller ODEs\n",
    "        ctrls.cci_update,  # function updating the controller based on measurements\n",
    "        # cell model parameters and initial conditions\n",
    "        model_par_with_refswitch, init_conds)\n",
    "\n",
    "# unpack the synthetic genes and miscellaneous species lists\n",
    "synth_genes = synth_genes_total_and_each[0]\n",
    "module1_genes = synth_genes_total_and_each[1]\n",
    "module2_genes = synth_genes_total_and_each[2]\n",
    "synth_miscs = synth_miscs_total_and_each[0]\n",
    "module1_miscs = synth_miscs_total_and_each[1]\n",
    "module2_miscs = synth_miscs_total_and_each[2]\n",
    "\n",
    "# update circuit parameters\n",
    "par.update(circ_par)"
   ],
   "id": "286d894d414b0305",
   "outputs": [],
   "execution_count": 86
  },
  {
   "metadata": {
    "ExecuteTime": {
     "end_time": "2025-03-23T21:20:47.790129Z",
     "start_time": "2025-03-23T21:20:47.786927Z"
    }
   },
   "cell_type": "code",
   "source": [
    "# GET MAXIMUM BURDENS AND DEGRADATION COEFFICIENTS\n",
    "\n",
    "q_r_and_q_o = par['q_r'] + par['q_o']\n",
    "\n",
    "# calculate maximum synthetic gene burdens\n",
    "Qmaxs = {\n",
    "    'Q_switch_max': par['q_switch'] / q_r_and_q_o,\n",
    "    'Q_ofp_max': par['q_ofp'] / q_r_and_q_o,\n",
    "}\n",
    "\n",
    "# calculate native gene burdens\n",
    "Qs_native = {\n",
    "    'Q_r': par['q_r'] / q_r_and_q_o,\n",
    "    'Q_o': par['q_o'] / q_r_and_q_o,\n",
    "}\n",
    "\n",
    "# no degradation => zero chis\n",
    "chis={'chi_switch':0.0, 'chi_ofp':0.0}\n",
    "\n",
    "# record maximum burdens and degradation coefficients in a common dictionary\n",
    "cellvars={}\n",
    "cellvars.update(Qmaxs)\n",
    "cellvars.update(Qs_native)\n",
    "cellvars.update(chis)\n",
    "# add maxmium overall burden from the self-activating switch\n",
    "cellvars['Q_sas_max']=cellvars['Q_switch_max']+cellvars['Q_ofp_max']\n",
    "# add translation elongation rate\n",
    "cellvars['e']=par['e']\n",
    "\n",
    "# set zero 'housekeeping protein mass fraction' parameter, just to reuse the cell model tools\n",
    "par['phi_q'] = 0.0"
   ],
   "id": "a832ecec7802d291",
   "outputs": [],
   "execution_count": 87
  },
  {
   "metadata": {
    "ExecuteTime": {
     "end_time": "2025-03-23T21:20:48.088088Z",
     "start_time": "2025-03-23T21:20:47.836453Z"
    }
   },
   "cell_type": "code",
   "source": [
    "# GET THE TWO BIFURCATION POINTS\n",
    "\n",
    "# for one of them, F_req touches the F_real curve from below; for the other, from above\n",
    "bif_Freqbelow, bif_Freqabove = an_tools.find_bifurcations(par, cellvars)"
   ],
   "id": "fbb11ac5345b5989",
   "outputs": [],
   "execution_count": 88
  },
  {
   "metadata": {
    "ExecuteTime": {
     "end_time": "2025-03-23T21:20:51.983685Z",
     "start_time": "2025-03-23T21:20:48.111090Z"
    }
   },
   "cell_type": "code",
   "source": [
    "# GET THE ANALYTICAL BIFURCATION CURVE\n",
    "\n",
    "# define the range of probe-exerted burdens to consider\n",
    "Q_probe_range=np.linspace(0.0, 0.5, 20)\n",
    "\n",
    "# get the bifurcation curve\n",
    "an_bif_curve = an_tools.find_equilibria_for_Q_osynth_range(Q_probe_range,\n",
    "                                                           bif_Freqbelow, bif_Freqabove,\n",
    "                                                           par, cellvars)"
   ],
   "id": "4d351757bd4dea59",
   "outputs": [],
   "execution_count": 89
  },
  {
   "metadata": {
    "ExecuteTime": {
     "end_time": "2025-03-23T21:20:52.062927Z",
     "start_time": "2025-03-23T21:20:52.010059Z"
    }
   },
   "cell_type": "code",
   "source": [
    "# PLOT THE ANALYTICAL BIFURCATION CURVE\n",
    "\n",
    "# p_ofp vs imposed burden\n",
    "an_ofp_fig = bkplot.figure(\n",
    "    frame_width=360,\n",
    "    frame_height=360,\n",
    "    x_axis_label=\"Q_p, probe burden\",\n",
    "    y_axis_label=\"ofp_mature, mature output fluorescent protein level\",\n",
    "    x_range=(min(Q_probe_range), max(Q_probe_range)),\n",
    "    y_range=(0, max(an_bif_curve['ofp_mature'])),\n",
    "    title='Analytical bifurcation curve: p_ofp vs imposed burden',\n",
    "    tools=\"box_zoom,pan,hover,reset\"\n",
    ")\n",
    "# plot the controlled variable vs control action\n",
    "an_ofp_fig.line(x=an_bif_curve['Q_osynth'],\n",
    "             y=an_bif_curve['ofp_mature'],\n",
    "             line_width=1.5, line_color='black', line_dash='dashed',\n",
    "             legend_label='true steady states')\n",
    "an_ofp_fig.scatter(x=an_bif_curve['Q_osynth'],\n",
    "                y=an_bif_curve['ofp_mature'],\n",
    "                marker='circle', size=5,\n",
    "                color='black', legend_label='true steady states')\n",
    "# legend formatting\n",
    "an_ofp_fig.legend.label_text_font_size = \"8pt\"\n",
    "an_ofp_fig.legend.location = \"top_right\"\n",
    "an_ofp_fig.legend.click_policy = 'hide'\n",
    "\n",
    "# exreted burden vs imposed burden\n",
    "an_Q_fig = bkplot.figure(\n",
    "    frame_width=360,\n",
    "    frame_height=360,\n",
    "    x_axis_label=\"Q_p, probe burden\",\n",
    "    y_axis_label=\"Q_sas, self-activating switch burden\",\n",
    "    x_range=(0, 0.5),\n",
    "    y_range=(0, 0.5),\n",
    "    title='Analytical bifurcation curve: exerted vs imposed burden',\n",
    "    tools=\"box_zoom,pan,hover,reset\"\n",
    ")\n",
    "# plot the controlled variable vs control action\n",
    "an_Q_fig.line(x=an_bif_curve['Q_osynth'],\n",
    "             y=an_bif_curve['Q_sas'],\n",
    "             line_width=1.5, line_color='black', line_dash='dashed',\n",
    "             legend_label='true steady states')\n",
    "an_Q_fig.scatter(x=an_bif_curve['Q_osynth'],\n",
    "                y=an_bif_curve['Q_sas'],\n",
    "                marker='circle', size=5,\n",
    "                color='black', legend_label='true steady states')\n",
    "# legend formatting\n",
    "an_Q_fig.legend.label_text_font_size = \"8pt\"\n",
    "an_Q_fig.legend.location = \"top_right\"\n",
    "an_Q_fig.legend.click_policy = 'hide'\n",
    "\n",
    "# show the plots\n",
    "bkplot.show(bklayouts.grid([[an_ofp_fig, an_Q_fig]]))"
   ],
   "id": "766ba54997b2b8e2",
   "outputs": [
    {
     "data": {
      "text/html": [
       "\n",
       "  <div id=\"da0e76c1-41c1-413c-8dc4-7645a191eb1d\" data-root-id=\"p2875\" style=\"display: contents;\"></div>\n"
      ]
     },
     "metadata": {},
     "output_type": "display_data"
    },
    {
     "data": {
      "application/javascript": "(function(root) {\n  function embed_document(root) {\n  const docs_json = {\"11d55a89-4ef9-4e35-9241-0a6817b6b611\":{\"version\":\"3.4.1\",\"title\":\"Bokeh Application\",\"roots\":[{\"type\":\"object\",\"name\":\"GridBox\",\"id\":\"p2875\",\"attributes\":{\"rows\":null,\"cols\":null,\"children\":[[{\"type\":\"object\",\"name\":\"Figure\",\"id\":\"p2769\",\"attributes\":{\"x_range\":{\"type\":\"object\",\"name\":\"Range1d\",\"id\":\"p2779\",\"attributes\":{\"end\":0.5}},\"y_range\":{\"type\":\"object\",\"name\":\"Range1d\",\"id\":\"p2780\",\"attributes\":{\"end\":353512.7866031791}},\"x_scale\":{\"type\":\"object\",\"name\":\"LinearScale\",\"id\":\"p2781\"},\"y_scale\":{\"type\":\"object\",\"name\":\"LinearScale\",\"id\":\"p2782\"},\"title\":{\"type\":\"object\",\"name\":\"Title\",\"id\":\"p2772\",\"attributes\":{\"text\":\"Analytical bifurcation curve: p_ofp vs imposed burden\"}},\"renderers\":[{\"type\":\"object\",\"name\":\"GlyphRenderer\",\"id\":\"p2808\",\"attributes\":{\"data_source\":{\"type\":\"object\",\"name\":\"ColumnDataSource\",\"id\":\"p2802\",\"attributes\":{\"selected\":{\"type\":\"object\",\"name\":\"Selection\",\"id\":\"p2803\",\"attributes\":{\"indices\":[],\"line_indices\":[]}},\"selection_policy\":{\"type\":\"object\",\"name\":\"UnionRenderers\",\"id\":\"p2804\"},\"data\":{\"type\":\"map\",\"entries\":[[\"x\",{\"type\":\"ndarray\",\"array\":{\"type\":\"bytes\",\"data\":\"AAAAAAAAAAAor6G8hvKaPyivobyG8qo/XkN5DeU1tD8or6G8hvK6P3kN5TWU18A/XkN5DeU1xD9DeQ3lNZTHPyivobyG8so/DeU1lNdQzj95DeU1lNfQP2wor6G8htI/XkN5DeU11D9ESyqFt3DVP15DeQ3lNdQ/bCivobyG0j95DeU1lNfQPw3lNZTXUM4/KK+hvIbyyj9DeQ3lNZTHP15DeQ3lNcQ/eQ3lNZTXwD+gzh+ciTK9P3kN5TWU18A/XkN5DeU1xD9DeQ3lNZTHPyivobyG8so/DeU1lNdQzj95DeU1lNfQP2wor6G8htI/XkN5DeU11D9QXkN5DeXVP0N5DeU1lNc/NpTXUF5D2T8or6G8hvLaPxrKayivodw/DeU1lNdQ3j8AAAAAAADgPw==\"},\"shape\":[38],\"dtype\":\"float64\",\"order\":\"little\"}],[\"y\",{\"type\":\"ndarray\",\"array\":{\"type\":\"bytes\",\"data\":\"xU17JaOTFUFfoymY4OMUQTWOHhHpNBRB8lRDdhCGE0FGCOUIjNYSQZAqI+NjJRJBM5d9ultxEUHu2glQy7gQQQFelHKr8g9BAZBXyqpeDkGjf6kRAKkMQZ3eDGbCtwpBsRL10lk+CEFpHTjmaBUEQea2r2VgTABBRn7UTMWu/ECP39svQ9b5QBNR47+5c/dAlLg74F1P9UAYXF6WjEjzQK4xkeQXQPFA3AwUMWru7UD2TK3VtAHoQOrjQoGIruNAkfWJDu2s4UC6ChJvuGjgQA909TRA7N5AqaDPf9Jl3UDJj1BxSR7cQAr1Q/XlA9tA0PBkZ6YL2kCkQbliMy7ZQPlDbHRjZthANN6hcm+w10CpU3/GfAnXQAoE70BVb9ZAWxD8uDjg1UBngv8QvlrVQA==\"},\"shape\":[38],\"dtype\":\"float64\",\"order\":\"little\"}]]}}},\"view\":{\"type\":\"object\",\"name\":\"CDSView\",\"id\":\"p2809\",\"attributes\":{\"filter\":{\"type\":\"object\",\"name\":\"AllIndices\",\"id\":\"p2810\"}}},\"glyph\":{\"type\":\"object\",\"name\":\"Line\",\"id\":\"p2805\",\"attributes\":{\"x\":{\"type\":\"field\",\"field\":\"x\"},\"y\":{\"type\":\"field\",\"field\":\"y\"},\"line_width\":1.5,\"line_dash\":[6]}},\"nonselection_glyph\":{\"type\":\"object\",\"name\":\"Line\",\"id\":\"p2806\",\"attributes\":{\"x\":{\"type\":\"field\",\"field\":\"x\"},\"y\":{\"type\":\"field\",\"field\":\"y\"},\"line_alpha\":0.1,\"line_width\":1.5,\"line_dash\":[6]}},\"muted_glyph\":{\"type\":\"object\",\"name\":\"Line\",\"id\":\"p2807\",\"attributes\":{\"x\":{\"type\":\"field\",\"field\":\"x\"},\"y\":{\"type\":\"field\",\"field\":\"y\"},\"line_alpha\":0.2,\"line_width\":1.5,\"line_dash\":[6]}}}},{\"type\":\"object\",\"name\":\"GlyphRenderer\",\"id\":\"p2819\",\"attributes\":{\"data_source\":{\"type\":\"object\",\"name\":\"ColumnDataSource\",\"id\":\"p2813\",\"attributes\":{\"selected\":{\"type\":\"object\",\"name\":\"Selection\",\"id\":\"p2814\",\"attributes\":{\"indices\":[],\"line_indices\":[]}},\"selection_policy\":{\"type\":\"object\",\"name\":\"UnionRenderers\",\"id\":\"p2815\"},\"data\":{\"type\":\"map\",\"entries\":[[\"x\",{\"type\":\"ndarray\",\"array\":{\"type\":\"bytes\",\"data\":\"AAAAAAAAAAAor6G8hvKaPyivobyG8qo/XkN5DeU1tD8or6G8hvK6P3kN5TWU18A/XkN5DeU1xD9DeQ3lNZTHPyivobyG8so/DeU1lNdQzj95DeU1lNfQP2wor6G8htI/XkN5DeU11D9ESyqFt3DVP15DeQ3lNdQ/bCivobyG0j95DeU1lNfQPw3lNZTXUM4/KK+hvIbyyj9DeQ3lNZTHP15DeQ3lNcQ/eQ3lNZTXwD+gzh+ciTK9P3kN5TWU18A/XkN5DeU1xD9DeQ3lNZTHPyivobyG8so/DeU1lNdQzj95DeU1lNfQP2wor6G8htI/XkN5DeU11D9QXkN5DeXVP0N5DeU1lNc/NpTXUF5D2T8or6G8hvLaPxrKayivodw/DeU1lNdQ3j8AAAAAAADgPw==\"},\"shape\":[38],\"dtype\":\"float64\",\"order\":\"little\"}],[\"y\",{\"type\":\"ndarray\",\"array\":{\"type\":\"bytes\",\"data\":\"xU17JaOTFUFfoymY4OMUQTWOHhHpNBRB8lRDdhCGE0FGCOUIjNYSQZAqI+NjJRJBM5d9ultxEUHu2glQy7gQQQFelHKr8g9BAZBXyqpeDkGjf6kRAKkMQZ3eDGbCtwpBsRL10lk+CEFpHTjmaBUEQea2r2VgTABBRn7UTMWu/ECP39svQ9b5QBNR47+5c/dAlLg74F1P9UAYXF6WjEjzQK4xkeQXQPFA3AwUMWru7UD2TK3VtAHoQOrjQoGIruNAkfWJDu2s4UC6ChJvuGjgQA909TRA7N5AqaDPf9Jl3UDJj1BxSR7cQAr1Q/XlA9tA0PBkZ6YL2kCkQbliMy7ZQPlDbHRjZthANN6hcm+w10CpU3/GfAnXQAoE70BVb9ZAWxD8uDjg1UBngv8QvlrVQA==\"},\"shape\":[38],\"dtype\":\"float64\",\"order\":\"little\"}]]}}},\"view\":{\"type\":\"object\",\"name\":\"CDSView\",\"id\":\"p2820\",\"attributes\":{\"filter\":{\"type\":\"object\",\"name\":\"AllIndices\",\"id\":\"p2821\"}}},\"glyph\":{\"type\":\"object\",\"name\":\"Scatter\",\"id\":\"p2816\",\"attributes\":{\"x\":{\"type\":\"field\",\"field\":\"x\"},\"y\":{\"type\":\"field\",\"field\":\"y\"},\"size\":{\"type\":\"value\",\"value\":5},\"fill_color\":{\"type\":\"value\",\"value\":\"black\"}}},\"nonselection_glyph\":{\"type\":\"object\",\"name\":\"Scatter\",\"id\":\"p2817\",\"attributes\":{\"x\":{\"type\":\"field\",\"field\":\"x\"},\"y\":{\"type\":\"field\",\"field\":\"y\"},\"size\":{\"type\":\"value\",\"value\":5},\"line_alpha\":{\"type\":\"value\",\"value\":0.1},\"fill_color\":{\"type\":\"value\",\"value\":\"black\"},\"fill_alpha\":{\"type\":\"value\",\"value\":0.1},\"hatch_alpha\":{\"type\":\"value\",\"value\":0.1}}},\"muted_glyph\":{\"type\":\"object\",\"name\":\"Scatter\",\"id\":\"p2818\",\"attributes\":{\"x\":{\"type\":\"field\",\"field\":\"x\"},\"y\":{\"type\":\"field\",\"field\":\"y\"},\"size\":{\"type\":\"value\",\"value\":5},\"line_alpha\":{\"type\":\"value\",\"value\":0.2},\"fill_color\":{\"type\":\"value\",\"value\":\"black\"},\"fill_alpha\":{\"type\":\"value\",\"value\":0.2},\"hatch_alpha\":{\"type\":\"value\",\"value\":0.2}}}}}],\"toolbar\":{\"type\":\"object\",\"name\":\"Toolbar\",\"id\":\"p2778\",\"attributes\":{\"tools\":[{\"type\":\"object\",\"name\":\"BoxZoomTool\",\"id\":\"p2793\",\"attributes\":{\"overlay\":{\"type\":\"object\",\"name\":\"BoxAnnotation\",\"id\":\"p2794\",\"attributes\":{\"syncable\":false,\"level\":\"overlay\",\"visible\":false,\"left\":{\"type\":\"number\",\"value\":\"nan\"},\"right\":{\"type\":\"number\",\"value\":\"nan\"},\"top\":{\"type\":\"number\",\"value\":\"nan\"},\"bottom\":{\"type\":\"number\",\"value\":\"nan\"},\"left_units\":\"canvas\",\"right_units\":\"canvas\",\"top_units\":\"canvas\",\"bottom_units\":\"canvas\",\"line_color\":\"black\",\"line_alpha\":1.0,\"line_width\":2,\"line_dash\":[4,4],\"fill_color\":\"lightgrey\",\"fill_alpha\":0.5}}}},{\"type\":\"object\",\"name\":\"PanTool\",\"id\":\"p2799\"},{\"type\":\"object\",\"name\":\"HoverTool\",\"id\":\"p2800\",\"attributes\":{\"renderers\":\"auto\"}},{\"type\":\"object\",\"name\":\"ResetTool\",\"id\":\"p2801\"}]}},\"left\":[{\"type\":\"object\",\"name\":\"LinearAxis\",\"id\":\"p2788\",\"attributes\":{\"ticker\":{\"type\":\"object\",\"name\":\"BasicTicker\",\"id\":\"p2789\",\"attributes\":{\"mantissas\":[1,2,5]}},\"formatter\":{\"type\":\"object\",\"name\":\"BasicTickFormatter\",\"id\":\"p2790\"},\"axis_label\":\"ofp_mature, mature output fluorescent protein level\",\"major_label_policy\":{\"type\":\"object\",\"name\":\"AllLabels\",\"id\":\"p2791\"}}}],\"below\":[{\"type\":\"object\",\"name\":\"LinearAxis\",\"id\":\"p2783\",\"attributes\":{\"ticker\":{\"type\":\"object\",\"name\":\"BasicTicker\",\"id\":\"p2784\",\"attributes\":{\"mantissas\":[1,2,5]}},\"formatter\":{\"type\":\"object\",\"name\":\"BasicTickFormatter\",\"id\":\"p2785\"},\"axis_label\":\"Q_p, probe burden\",\"major_label_policy\":{\"type\":\"object\",\"name\":\"AllLabels\",\"id\":\"p2786\"}}}],\"center\":[{\"type\":\"object\",\"name\":\"Grid\",\"id\":\"p2787\",\"attributes\":{\"axis\":{\"id\":\"p2783\"}}},{\"type\":\"object\",\"name\":\"Grid\",\"id\":\"p2792\",\"attributes\":{\"dimension\":1,\"axis\":{\"id\":\"p2788\"}}},{\"type\":\"object\",\"name\":\"Legend\",\"id\":\"p2811\",\"attributes\":{\"click_policy\":\"hide\",\"label_text_font_size\":\"8pt\",\"items\":[{\"type\":\"object\",\"name\":\"LegendItem\",\"id\":\"p2812\",\"attributes\":{\"label\":{\"type\":\"value\",\"value\":\"true steady states\"},\"renderers\":[{\"id\":\"p2808\"},{\"id\":\"p2819\"}]}}]}}],\"frame_width\":360,\"frame_height\":360}},0,0,1,1],[{\"type\":\"object\",\"name\":\"Figure\",\"id\":\"p2822\",\"attributes\":{\"x_range\":{\"type\":\"object\",\"name\":\"Range1d\",\"id\":\"p2832\",\"attributes\":{\"end\":0.5}},\"y_range\":{\"type\":\"object\",\"name\":\"Range1d\",\"id\":\"p2833\",\"attributes\":{\"end\":0.5}},\"x_scale\":{\"type\":\"object\",\"name\":\"LinearScale\",\"id\":\"p2834\"},\"y_scale\":{\"type\":\"object\",\"name\":\"LinearScale\",\"id\":\"p2835\"},\"title\":{\"type\":\"object\",\"name\":\"Title\",\"id\":\"p2825\",\"attributes\":{\"text\":\"Analytical bifurcation curve: exerted vs imposed burden\"}},\"renderers\":[{\"type\":\"object\",\"name\":\"GlyphRenderer\",\"id\":\"p2861\",\"attributes\":{\"data_source\":{\"type\":\"object\",\"name\":\"ColumnDataSource\",\"id\":\"p2855\",\"attributes\":{\"selected\":{\"type\":\"object\",\"name\":\"Selection\",\"id\":\"p2856\",\"attributes\":{\"indices\":[],\"line_indices\":[]}},\"selection_policy\":{\"type\":\"object\",\"name\":\"UnionRenderers\",\"id\":\"p2857\"},\"data\":{\"type\":\"map\",\"entries\":[[\"x\",{\"type\":\"ndarray\",\"array\":{\"type\":\"bytes\",\"data\":\"AAAAAAAAAAAor6G8hvKaPyivobyG8qo/XkN5DeU1tD8or6G8hvK6P3kN5TWU18A/XkN5DeU1xD9DeQ3lNZTHPyivobyG8so/DeU1lNdQzj95DeU1lNfQP2wor6G8htI/XkN5DeU11D9ESyqFt3DVP15DeQ3lNdQ/bCivobyG0j95DeU1lNfQPw3lNZTXUM4/KK+hvIbyyj9DeQ3lNZTHP15DeQ3lNcQ/eQ3lNZTXwD+gzh+ciTK9P3kN5TWU18A/XkN5DeU1xD9DeQ3lNZTHPyivobyG8so/DeU1lNdQzj95DeU1lNfQP2wor6G8htI/XkN5DeU11D9QXkN5DeXVP0N5DeU1lNc/NpTXUF5D2T8or6G8hvLaPxrKayivodw/DeU1lNdQ3j8AAAAAAADgPw==\"},\"shape\":[38],\"dtype\":\"float64\",\"order\":\"little\"}],[\"y\",{\"type\":\"ndarray\",\"array\":{\"type\":\"bytes\",\"data\":\"/V/shmoewT9AiNrj+tfAPzvfzrtMjcA/klPu0dY9wD9d5Ufm19G/Pym5UkhYG78/lxWpsNlVvj84dsj8IH69PyXnOsN4j7w/KrEP+oSCuz9WiflAhEq6P+aokjc+zbg/XSTrzMy9tj/++/7kOeKyPzeD7v5pDa4/YKCcdMrqqT9IXgXwxuamPwadZO+OZaQ/P1PAwGUvoj+U4GZ/xySgP+s+gkvHU5w/GvE8prYWmD/qWGt/WAiTP4sF6d06go8/ie8wArLEjD8qTyTsiyeLPwZmsGT4Aoo/01f+pJUiiT90+rEcX26IP7xeEQcl2Yc/v2CL5NVahz/cGAHzIe6GP1/6l0ZZj4Y/Lj9apdE7hj8cfaQOjvGFP9U2jtsIr4U/MXJaWhFzhT+pNgv8tDyFPw==\"},\"shape\":[38],\"dtype\":\"float64\",\"order\":\"little\"}]]}}},\"view\":{\"type\":\"object\",\"name\":\"CDSView\",\"id\":\"p2862\",\"attributes\":{\"filter\":{\"type\":\"object\",\"name\":\"AllIndices\",\"id\":\"p2863\"}}},\"glyph\":{\"type\":\"object\",\"name\":\"Line\",\"id\":\"p2858\",\"attributes\":{\"x\":{\"type\":\"field\",\"field\":\"x\"},\"y\":{\"type\":\"field\",\"field\":\"y\"},\"line_width\":1.5,\"line_dash\":[6]}},\"nonselection_glyph\":{\"type\":\"object\",\"name\":\"Line\",\"id\":\"p2859\",\"attributes\":{\"x\":{\"type\":\"field\",\"field\":\"x\"},\"y\":{\"type\":\"field\",\"field\":\"y\"},\"line_alpha\":0.1,\"line_width\":1.5,\"line_dash\":[6]}},\"muted_glyph\":{\"type\":\"object\",\"name\":\"Line\",\"id\":\"p2860\",\"attributes\":{\"x\":{\"type\":\"field\",\"field\":\"x\"},\"y\":{\"type\":\"field\",\"field\":\"y\"},\"line_alpha\":0.2,\"line_width\":1.5,\"line_dash\":[6]}}}},{\"type\":\"object\",\"name\":\"GlyphRenderer\",\"id\":\"p2872\",\"attributes\":{\"data_source\":{\"type\":\"object\",\"name\":\"ColumnDataSource\",\"id\":\"p2866\",\"attributes\":{\"selected\":{\"type\":\"object\",\"name\":\"Selection\",\"id\":\"p2867\",\"attributes\":{\"indices\":[],\"line_indices\":[]}},\"selection_policy\":{\"type\":\"object\",\"name\":\"UnionRenderers\",\"id\":\"p2868\"},\"data\":{\"type\":\"map\",\"entries\":[[\"x\",{\"type\":\"ndarray\",\"array\":{\"type\":\"bytes\",\"data\":\"AAAAAAAAAAAor6G8hvKaPyivobyG8qo/XkN5DeU1tD8or6G8hvK6P3kN5TWU18A/XkN5DeU1xD9DeQ3lNZTHPyivobyG8so/DeU1lNdQzj95DeU1lNfQP2wor6G8htI/XkN5DeU11D9ESyqFt3DVP15DeQ3lNdQ/bCivobyG0j95DeU1lNfQPw3lNZTXUM4/KK+hvIbyyj9DeQ3lNZTHP15DeQ3lNcQ/eQ3lNZTXwD+gzh+ciTK9P3kN5TWU18A/XkN5DeU1xD9DeQ3lNZTHPyivobyG8so/DeU1lNdQzj95DeU1lNfQP2wor6G8htI/XkN5DeU11D9QXkN5DeXVP0N5DeU1lNc/NpTXUF5D2T8or6G8hvLaPxrKayivodw/DeU1lNdQ3j8AAAAAAADgPw==\"},\"shape\":[38],\"dtype\":\"float64\",\"order\":\"little\"}],[\"y\",{\"type\":\"ndarray\",\"array\":{\"type\":\"bytes\",\"data\":\"/V/shmoewT9AiNrj+tfAPzvfzrtMjcA/klPu0dY9wD9d5Ufm19G/Pym5UkhYG78/lxWpsNlVvj84dsj8IH69PyXnOsN4j7w/KrEP+oSCuz9WiflAhEq6P+aokjc+zbg/XSTrzMy9tj/++/7kOeKyPzeD7v5pDa4/YKCcdMrqqT9IXgXwxuamPwadZO+OZaQ/P1PAwGUvoj+U4GZ/xySgP+s+gkvHU5w/GvE8prYWmD/qWGt/WAiTP4sF6d06go8/ie8wArLEjD8qTyTsiyeLPwZmsGT4Aoo/01f+pJUiiT90+rEcX26IP7xeEQcl2Yc/v2CL5NVahz/cGAHzIe6GP1/6l0ZZj4Y/Lj9apdE7hj8cfaQOjvGFP9U2jtsIr4U/MXJaWhFzhT+pNgv8tDyFPw==\"},\"shape\":[38],\"dtype\":\"float64\",\"order\":\"little\"}]]}}},\"view\":{\"type\":\"object\",\"name\":\"CDSView\",\"id\":\"p2873\",\"attributes\":{\"filter\":{\"type\":\"object\",\"name\":\"AllIndices\",\"id\":\"p2874\"}}},\"glyph\":{\"type\":\"object\",\"name\":\"Scatter\",\"id\":\"p2869\",\"attributes\":{\"x\":{\"type\":\"field\",\"field\":\"x\"},\"y\":{\"type\":\"field\",\"field\":\"y\"},\"size\":{\"type\":\"value\",\"value\":5},\"fill_color\":{\"type\":\"value\",\"value\":\"black\"}}},\"nonselection_glyph\":{\"type\":\"object\",\"name\":\"Scatter\",\"id\":\"p2870\",\"attributes\":{\"x\":{\"type\":\"field\",\"field\":\"x\"},\"y\":{\"type\":\"field\",\"field\":\"y\"},\"size\":{\"type\":\"value\",\"value\":5},\"line_alpha\":{\"type\":\"value\",\"value\":0.1},\"fill_color\":{\"type\":\"value\",\"value\":\"black\"},\"fill_alpha\":{\"type\":\"value\",\"value\":0.1},\"hatch_alpha\":{\"type\":\"value\",\"value\":0.1}}},\"muted_glyph\":{\"type\":\"object\",\"name\":\"Scatter\",\"id\":\"p2871\",\"attributes\":{\"x\":{\"type\":\"field\",\"field\":\"x\"},\"y\":{\"type\":\"field\",\"field\":\"y\"},\"size\":{\"type\":\"value\",\"value\":5},\"line_alpha\":{\"type\":\"value\",\"value\":0.2},\"fill_color\":{\"type\":\"value\",\"value\":\"black\"},\"fill_alpha\":{\"type\":\"value\",\"value\":0.2},\"hatch_alpha\":{\"type\":\"value\",\"value\":0.2}}}}}],\"toolbar\":{\"type\":\"object\",\"name\":\"Toolbar\",\"id\":\"p2831\",\"attributes\":{\"tools\":[{\"type\":\"object\",\"name\":\"BoxZoomTool\",\"id\":\"p2846\",\"attributes\":{\"overlay\":{\"type\":\"object\",\"name\":\"BoxAnnotation\",\"id\":\"p2847\",\"attributes\":{\"syncable\":false,\"level\":\"overlay\",\"visible\":false,\"left\":{\"type\":\"number\",\"value\":\"nan\"},\"right\":{\"type\":\"number\",\"value\":\"nan\"},\"top\":{\"type\":\"number\",\"value\":\"nan\"},\"bottom\":{\"type\":\"number\",\"value\":\"nan\"},\"left_units\":\"canvas\",\"right_units\":\"canvas\",\"top_units\":\"canvas\",\"bottom_units\":\"canvas\",\"line_color\":\"black\",\"line_alpha\":1.0,\"line_width\":2,\"line_dash\":[4,4],\"fill_color\":\"lightgrey\",\"fill_alpha\":0.5}}}},{\"type\":\"object\",\"name\":\"PanTool\",\"id\":\"p2852\"},{\"type\":\"object\",\"name\":\"HoverTool\",\"id\":\"p2853\",\"attributes\":{\"renderers\":\"auto\"}},{\"type\":\"object\",\"name\":\"ResetTool\",\"id\":\"p2854\"}]}},\"left\":[{\"type\":\"object\",\"name\":\"LinearAxis\",\"id\":\"p2841\",\"attributes\":{\"ticker\":{\"type\":\"object\",\"name\":\"BasicTicker\",\"id\":\"p2842\",\"attributes\":{\"mantissas\":[1,2,5]}},\"formatter\":{\"type\":\"object\",\"name\":\"BasicTickFormatter\",\"id\":\"p2843\"},\"axis_label\":\"Q_sas, self-activating switch burden\",\"major_label_policy\":{\"type\":\"object\",\"name\":\"AllLabels\",\"id\":\"p2844\"}}}],\"below\":[{\"type\":\"object\",\"name\":\"LinearAxis\",\"id\":\"p2836\",\"attributes\":{\"ticker\":{\"type\":\"object\",\"name\":\"BasicTicker\",\"id\":\"p2837\",\"attributes\":{\"mantissas\":[1,2,5]}},\"formatter\":{\"type\":\"object\",\"name\":\"BasicTickFormatter\",\"id\":\"p2838\"},\"axis_label\":\"Q_p, probe burden\",\"major_label_policy\":{\"type\":\"object\",\"name\":\"AllLabels\",\"id\":\"p2839\"}}}],\"center\":[{\"type\":\"object\",\"name\":\"Grid\",\"id\":\"p2840\",\"attributes\":{\"axis\":{\"id\":\"p2836\"}}},{\"type\":\"object\",\"name\":\"Grid\",\"id\":\"p2845\",\"attributes\":{\"dimension\":1,\"axis\":{\"id\":\"p2841\"}}},{\"type\":\"object\",\"name\":\"Legend\",\"id\":\"p2864\",\"attributes\":{\"click_policy\":\"hide\",\"label_text_font_size\":\"8pt\",\"items\":[{\"type\":\"object\",\"name\":\"LegendItem\",\"id\":\"p2865\",\"attributes\":{\"label\":{\"type\":\"value\",\"value\":\"true steady states\"},\"renderers\":[{\"id\":\"p2861\"},{\"id\":\"p2872\"}]}}]}}],\"frame_width\":360,\"frame_height\":360}},0,1,1,1]]}}]}};\n  const render_items = [{\"docid\":\"11d55a89-4ef9-4e35-9241-0a6817b6b611\",\"roots\":{\"p2875\":\"da0e76c1-41c1-413c-8dc4-7645a191eb1d\"},\"root_ids\":[\"p2875\"]}];\n  void root.Bokeh.embed.embed_items_notebook(docs_json, render_items);\n  }\n  if (root.Bokeh !== undefined) {\n    embed_document(root);\n  } else {\n    let attempts = 0;\n    const timer = setInterval(function(root) {\n      if (root.Bokeh !== undefined) {\n        clearInterval(timer);\n        embed_document(root);\n      } else {\n        attempts++;\n        if (attempts > 100) {\n          clearInterval(timer);\n          console.log(\"Bokeh: ERROR: Unable to run BokehJS code because BokehJS library is missing\");\n        }\n      }\n    }, 10, root)\n  }\n})(window);",
      "application/vnd.bokehjs_exec.v0+json": ""
     },
     "metadata": {
      "application/vnd.bokehjs_exec.v0+json": {
       "id": "p2875"
      }
     },
     "output_type": "display_data"
    }
   ],
   "execution_count": 90
  },
  {
   "metadata": {
    "ExecuteTime": {
     "end_time": "2025-03-23T21:20:52.093259Z",
     "start_time": "2025-03-23T21:20:52.090351Z"
    }
   },
   "cell_type": "code",
   "source": [
    "# SIMULATE MEASUREMENTS - SET CONTROLLER AND SIMULATION PARAMETER\n",
    "\n",
    "# controller parameters irrelevant, as we just have a constant zero chemical input\n",
    "controller_ctrledvar = 'ofp_mature'  # controlled variable\n",
    "control_delay = 0.0\n",
    "ref = jnp.array([0.0])\n",
    "u0 = 0.0\n",
    "\n",
    "# simulation parameters\n",
    "tf = (0.0, 72.0)  # assuming steady state reached in 24h\n",
    "meastimestep = 0.1  # hours\n",
    "euler_timestep = 1e-5\n",
    "\n",
    "# create an ODE solver\n",
    "ode_solver, us_size = odesols.create_euler_solver(odeuus_complete,\n",
    "                                                  control_delay=control_delay,\n",
    "                                                  meastimestep=meastimestep,\n",
    "                                                  euler_timestep=euler_timestep)"
   ],
   "id": "5a0c81dcca79dac9",
   "outputs": [],
   "execution_count": 91
  },
  {
   "metadata": {
    "ExecuteTime": {
     "end_time": "2025-03-23T21:20:56.257056Z",
     "start_time": "2025-03-23T21:20:52.127197Z"
    }
   },
   "cell_type": "code",
   "source": [
    "# SIMULATE MEASUREMENTS FOR REPORTERS ALONE FIRST\n",
    "# save q_swith for after this simulation, where it will be set to zero\n",
    "q_switch_bckup = par['q_switch']\n",
    "q_ofp_bckup = par['q_ofp']\n",
    "mature_ofp2_ss_individual = np.zeros(len(constrep_qs))  # initialise storage for steady-state mature protein levels\n",
    "l_ss_individual = np.zeros(len(constrep_qs))  # initialise storage for steady-state cell growth rates\n",
    "for i in range(0, len(constrep_qs)):\n",
    "    # set constitutive reporter parameters depending on which reporter is considered\n",
    "    par['q_switch'] = 0.0\n",
    "    par['q_ofp'] = 0.0\n",
    "    par['q_ofp2'] = constrep_qs[i]\n",
    "    par['mu_ofp2'] = constrep_mus[i]\n",
    "\n",
    "    # solve ODE\n",
    "    ts_jnp, xs_jnp, \\\n",
    "        ctrl_ss_memorecord_jnp, uexprecord_jnp, \\\n",
    "        refrecord_jnp = ode_sim(par,  # model parameters\n",
    "                                ode_solver,  # ODE solver for the cell with the synthetic gene circuit\n",
    "                                odeuus_complete,\n",
    "                                # ODE function for the cell with the synthetic gene circuit and the controller (also gives calculated and experienced control actions)\n",
    "                                controller_ctrledvar,  # name of the variable read and steered by the controller\n",
    "                                controller_update, controller_action,\n",
    "                                # function for updating the controller memory and calculating the control action\n",
    "                                model_auxil.x0_from_init_conds(init_conds,\n",
    "                                                               par,\n",
    "                                                               synth_genes, synth_miscs, controller_dynvars,\n",
    "                                                               modules_name2pos,\n",
    "                                                               controller_name2pos),  # initial condition VECTOR\n",
    "                                controller_memo0,  # initial controller memory record\n",
    "                                u0,\n",
    "                                # initial control action, applied before any measurement-informed actions reach the sy_probestem\n",
    "                                (len(synth_genes), len(module1_genes), len(module2_genes)),  # number of synthetic genes\n",
    "                                (len(synth_miscs), len(module1_miscs), len(module2_miscs)),\n",
    "                                # number of miscellaneous species\n",
    "                                modules_name2pos, controller_name2pos,\n",
    "                                # dictionaries mapping gene names to their positions in the state vector\n",
    "                                model_auxil.synth_gene_params_for_jax(par, synth_genes),\n",
    "                                # synthetic gene parameters in jax.array form\n",
    "                                tf, meastimestep,  # simulation time frame and measurement time step\n",
    "                                control_delay,  # delay before control action reaches the sy_probestem\n",
    "                                us_size,  # size of the control action record needed\n",
    "                                ref, ref_switcher,  # reference values and reference switcher\n",
    "                                )\n",
    "    # convert simulation results to numpy array_probes\n",
    "    ts = np.array(ts_jnp)\n",
    "    xs = np.array(xs_jnp)\n",
    "    uexprecord = np.array(uexprecord_jnp)\n",
    "\n",
    "    # record mature protein levels\n",
    "    mature_ofp2_ss_individual[i] = xs[-1, modules_name2pos['ofp2_mature']]\n",
    "\n",
    "    # calculate and record growth rates\n",
    "    _, ls_jnp, _, _, _, _, _ = model_auxil.get_e_l_Fr_nu_psi_T_D(ts, xs, par,\n",
    "                                                                 synth_genes, synth_miscs,\n",
    "                                                                 modules_name2pos,\n",
    "                                                                 module1_specterms, module2_specterms,\n",
    "                                                                 # arguments only used by the basic model\n",
    "                                                                 module1_F_calc, module2_F_calc,\n",
    "                                                                 uexprecord,\n",
    "                                                                 synth_genes_total_and_each, synth_miscs_total_and_each\n",
    "                                                                 )\n",
    "    l_ss_individual[i] = np.array(ls_jnp)[-1]\n",
    "\n",
    "# set switch and ofp parameters back to their original values\n",
    "par['q_switch'] = q_switch_bckup\n",
    "par['q_ofp'] = q_ofp_bckup"
   ],
   "id": "ce154cb69c80f82c",
   "outputs": [],
   "execution_count": 92
  },
  {
   "metadata": {
    "ExecuteTime": {
     "end_time": "2025-03-23T21:21:00.135456Z",
     "start_time": "2025-03-23T21:20:56.305018Z"
    }
   },
   "cell_type": "code",
   "source": [
    "# SIMULATE MEASUREMENTS WITH REPORTERS - RUN THE SIMULATION\n",
    "mature_ofp_ss = np.zeros(len(constrep_qs))\n",
    "F_switch_ss = np.zeros(len(constrep_qs))\n",
    "mature_ofp2_ss_withsas = np.zeros(len(constrep_qs))  # initialise storage for steady-state mature protein levels\n",
    "l_ss_withsas = np.zeros(len(constrep_qs))  # initialise storage for steady-state cell growth rates\n",
    "for i in range(0, len(constrep_qs)):\n",
    "    # set constitutive reporter parameters depending on which reporter is considered\n",
    "    par['q_ofp2'] = constrep_qs[i]\n",
    "    par['mu_ofp2'] = constrep_mus[i]\n",
    "    \n",
    "    # set up the ODE solver\n",
    "    ode_solver, us_size = odesols.create_euler_solver(odeuus_complete,\n",
    "                                                      control_delay=control_delay,\n",
    "                                                      meastimestep=meastimestep,\n",
    "                                                      euler_timestep=1e-5)\n",
    "\n",
    "    # solve ODE\n",
    "    timer = time.time()\n",
    "    ts_jnp, xs_jnp, \\\n",
    "        ctrl_memorecord_jnp, uexprecord_jnp, \\\n",
    "        refrecord_jnp = ode_sim(par,  # model parameters\n",
    "                                ode_solver,  # ODE solver for the cell with the synthetic gene circuit\n",
    "                                odeuus_complete,\n",
    "                                # ODE function for the cell with the synthetic gene circuit and the controller (also gives calculated and experienced control actions)\n",
    "                                controller_ctrledvar,  # name of the variable read and steered by the controller\n",
    "                                controller_update, controller_action,\n",
    "                                # function for updating the controller memory and calculating the control action\n",
    "                                model_auxil.x0_from_init_conds(init_conds,\n",
    "                                                               par,\n",
    "                                                               synth_genes, synth_miscs, controller_dynvars,\n",
    "                                                               modules_name2pos,\n",
    "                                                               controller_name2pos),  # initial condition VECTOR\n",
    "                                controller_memo0,  # initial controller memory record\n",
    "                                u0,\n",
    "                                # initial control action, applied before any measurement-informed actions reach the system\n",
    "                                (len(synth_genes), len(module1_genes), len(module2_genes)),  # number of synthetic genes\n",
    "                                (len(synth_miscs), len(module1_miscs), len(module2_miscs)),\n",
    "                                # number of miscellaneous species\n",
    "                                modules_name2pos, controller_name2pos,\n",
    "                                # dictionaries mapping gene names to their positions in the state vector\n",
    "                                model_auxil.synth_gene_params_for_jax(par, synth_genes),\n",
    "                                # synthetic gene parameters in jax.array form\n",
    "                                tf, meastimestep,  # simulation time frame and measurement time step\n",
    "                                control_delay,  # delay before control action reaches the system\n",
    "                                us_size,  # size of the control action record needed\n",
    "                                ref, ref_switcher,  # reference values and reference switcher\n",
    "                                )\n",
    "\n",
    "    # convert simulation results to numpy arrays\n",
    "    ts = np.array(ts_jnp)\n",
    "    xs = np.array(xs_jnp)\n",
    "    ctrl_memorecord = np.array(ctrl_memorecord_jnp)\n",
    "    uexprecord = np.array(uexprecord_jnp)\n",
    "    refrecord = np.array(refrecord_jnp)\n",
    "\n",
    "    # record mature protein levels\n",
    "    mature_ofp_ss[i] = xs[-1, modules_name2pos['ofp_mature']]\n",
    "    mature_ofp2_ss_withsas[i] = xs[-1,modules_name2pos['ofp2_mature']]\n",
    "\n",
    "    # calculate and record growth rates\n",
    "    _, ls_jnp, _, _, _, _, _ = model_auxil.get_e_l_Fr_nu_psi_T_D(ts, xs, par,\n",
    "                                                                 synth_genes, synth_miscs,\n",
    "                                                                 modules_name2pos,\n",
    "                                                                 module1_specterms, module2_specterms,\n",
    "                                                                 # arguments only used by the basic model\n",
    "                                                                 module1_F_calc, module2_F_calc,\n",
    "                                                                 uexprecord,\n",
    "                                                                 synth_genes_total_and_each, synth_miscs_total_and_each\n",
    "                                                                 )\n",
    "    l_ss_withsas[i] = np.array(ls_jnp)[-1]\n",
    "\n",
    "    # calculate the switch gene's transcription regulation function\n",
    "    F_switch_ss[i] = module1_F_calc(ts[-1], xs[-1, :], uexprecord[-1],\n",
    "                                    par=par, name2pos=modules_name2pos)[0]"
   ],
   "id": "d4cfa4a2d348cede",
   "outputs": [],
   "execution_count": 93
  },
  {
   "metadata": {
    "ExecuteTime": {
     "end_time": "2025-03-23T21:21:00.143436Z",
     "start_time": "2025-03-23T21:21:00.140424Z"
    }
   },
   "cell_type": "code",
   "source": [
    "# GET THE NORMALISED BURDENS OF CONSTITUTIVE REPORTERS\n",
    "Q_constrep_steady_states=constrep_qs/(par['q_r']+par['q_o'])"
   ],
   "id": "c64195636541cf7",
   "outputs": [],
   "execution_count": 94
  },
  {
   "metadata": {
    "ExecuteTime": {
     "end_time": "2025-03-23T21:21:00.200533Z",
     "start_time": "2025-03-23T21:21:00.197150Z"
    }
   },
   "cell_type": "code",
   "source": [
    "# GET THE BURDENS IMPOSED BY THE SELF-ACTIVATING SWITCH\n",
    "Q_sas_steady_states=np.zeros_like(constrep_qs)\n",
    "Q_sas_steady_states_est=np.zeros_like(constrep_qs)\n",
    "for i in range(0, len(constrep_qs)):\n",
    "    Q_sas_steady_states[i] = F_switch_ss[i] * (par['q_switch']+par['q_ofp'])/(par['q_r']+par['q_o'])\n",
    "    # estimated from\n",
    "    Q_sas_steady_states_est[i] = Q_calc_one(constrep_mus[i],  # maturation rate of the constitutive reporter's output fluorescent protein\n",
    "                           mature_ofp2_ss_individual[i], l_ss_individual[i],    # individual measurements for the const. reporter: output prot. conc., growth rate\n",
    "                           mature_ofp2_ss_withsas[i], l_ss_withsas[i],  # pair measurements for the const. reporter: output prot. concs., growth rate\n",
    "                           Q_constrep_steady_states[i]    # normalised resource competition factor for the constitutive reporter\n",
    "                           )  # using j-1 for ofpp level and growth rate as the constitutive reporter list has an extra zero at the beginning"
   ],
   "id": "b1124603351d6f23",
   "outputs": [],
   "execution_count": 95
  },
  {
   "metadata": {
    "ExecuteTime": {
     "end_time": "2025-03-23T21:21:00.314928Z",
     "start_time": "2025-03-23T21:21:00.247974Z"
    }
   },
   "cell_type": "code",
   "source": [
    "# PLOT BIFURCATION DIAGRAM\n",
    "\n",
    "# plot the steady states as actually observed\n",
    "constrep_fig = bkplot.figure(\n",
    "    frame_width=480,\n",
    "    frame_height=360,\n",
    "    x_axis_label=\"Q_constrep\",\n",
    "    y_axis_label=\"ofp_mature\",\n",
    "    # x_range=(0.0, 0.5),\n",
    "    # y_range=(0, max(an_bif_curve['ofp_mature'])),\n",
    "    tools=\"box_zoom,pan,hover,reset,save\"\n",
    ")\n",
    "constrep_fig.output_backend = 'svg'\n",
    "\n",
    "# plot the steady states\n",
    "constrep_fig.scatter(x=Q_constrep_steady_states, y=mature_ofp_ss,\n",
    "                marker='circle', size=7.5, \n",
    "               color='violet', legend_label='steady states')\n",
    "\n",
    "# legend formatting\n",
    "constrep_fig.legend.label_text_font_size = \"8pt\"\n",
    "constrep_fig.legend.location = \"bottom_left\"\n",
    "constrep_fig.legend.click_policy = 'hide'\n",
    "\n",
    "# plot the cbc trajectory for imposed and exerted burdens\n",
    "constrep_Q_fig = bkplot.figure(\n",
    "    frame_width=480,\n",
    "    frame_height=360,\n",
    "    x_axis_label=\"Q_constrep, reporter resource demand\",\n",
    "    y_axis_label=\"Q_sas, self-activating switch's demand\",\n",
    "    x_range=(0, 0.75),\n",
    "    y_range=(0, 0.25),\n",
    "    title='Burden plot',\n",
    "    tools=\"box_zoom,pan,hover,reset,save\"\n",
    ")\n",
    "constrep_Q_fig.output_backend = 'svg'\n",
    "# plot the analytical bifurcation curve\n",
    "constrep_Q_fig.line(x=an_bif_curve['Q_osynth'],\n",
    "             y=an_bif_curve['Q_sas'],\n",
    "             line_width=1.5, line_color='black', line_dash='dashed',\n",
    "             legend_label='true steady states')\n",
    "constrep_Q_fig.scatter(x=an_bif_curve['Q_osynth'],\n",
    "                y=an_bif_curve['Q_sas'],\n",
    "                marker='circle', size=5,\n",
    "                color='black', legend_label='true steady states')\n",
    "\n",
    "# plot the steady states\n",
    "constrep_Q_fig.scatter(x=Q_constrep_steady_states, y=Q_sas_steady_states,\n",
    "                marker='circle', size=7.5, \n",
    "               color='violet', legend_label='observed steady states (real)')\n",
    "# plot the estimated steady states\n",
    "constrep_Q_fig.scatter(x=Q_constrep_steady_states, y=Q_sas_steady_states_est,\n",
    "                marker='circle', size=7.5,\n",
    "               color='darkviolet', legend_label='observed steady states (est)')\n",
    "\n",
    "# legend formatting\n",
    "constrep_Q_fig.legend.label_text_font_size = \"8pt\"\n",
    "constrep_Q_fig.legend.location = \"top_right\"\n",
    "constrep_Q_fig.legend.click_policy = 'hide'\n",
    "\n",
    "\n",
    "# show plot\n",
    "bkplot.show(bklayouts.grid([[constrep_fig, constrep_Q_fig]]))"
   ],
   "id": "97ef4ee12d9a5258",
   "outputs": [
    {
     "data": {
      "text/html": [
       "\n",
       "  <div id=\"d163ad15-12c2-4432-b12a-aa23fbfa0ffc\" data-root-id=\"p3000\" style=\"display: contents;\"></div>\n"
      ]
     },
     "metadata": {},
     "output_type": "display_data"
    },
    {
     "data": {
      "application/javascript": "(function(root) {\n  function embed_document(root) {\n  const docs_json = {\"80bd5ce9-ba2a-4046-a95f-553849a802c1\":{\"version\":\"3.4.1\",\"title\":\"Bokeh Application\",\"roots\":[{\"type\":\"object\",\"name\":\"GridBox\",\"id\":\"p3000\",\"attributes\":{\"rows\":null,\"cols\":null,\"children\":[[{\"type\":\"object\",\"name\":\"Figure\",\"id\":\"p2884\",\"attributes\":{\"x_range\":{\"type\":\"object\",\"name\":\"DataRange1d\",\"id\":\"p2885\"},\"y_range\":{\"type\":\"object\",\"name\":\"DataRange1d\",\"id\":\"p2886\"},\"x_scale\":{\"type\":\"object\",\"name\":\"LinearScale\",\"id\":\"p2893\"},\"y_scale\":{\"type\":\"object\",\"name\":\"LinearScale\",\"id\":\"p2894\"},\"title\":{\"type\":\"object\",\"name\":\"Title\",\"id\":\"p2891\"},\"renderers\":[{\"type\":\"object\",\"name\":\"GlyphRenderer\",\"id\":\"p2921\",\"attributes\":{\"data_source\":{\"type\":\"object\",\"name\":\"ColumnDataSource\",\"id\":\"p2915\",\"attributes\":{\"selected\":{\"type\":\"object\",\"name\":\"Selection\",\"id\":\"p2916\",\"attributes\":{\"indices\":[],\"line_indices\":[]}},\"selection_policy\":{\"type\":\"object\",\"name\":\"UnionRenderers\",\"id\":\"p2917\"},\"data\":{\"type\":\"map\",\"entries\":[[\"x\",{\"type\":\"ndarray\",\"array\":{\"type\":\"bytes\",\"data\":\"AMUV7KxB4T/qvB/tv67eP9TvEwIm2to/vSIIF4wF1z+oVfwr8jDTPyIR4YGwuM4/9XbJq3wPxz+TuWOrkcy+P3MKaf5T9K4/QnCoginhQz8=\"},\"shape\":[10],\"dtype\":\"float64\",\"order\":\"little\"}],[\"y\",{\"type\":\"ndarray\",\"array\":{\"type\":\"bytes\",\"data\":\"Bfogzguj1ECaDTzEYcLVQLOjL/2TEtdAVyumLWCm2EC1FEJaTZ7aQAJ+VhWBO91AsbDHDwKU4EA14ON4hUXlQMCZbAPyABRBZMB6ZZaPFUE=\"},\"shape\":[10],\"dtype\":\"float64\",\"order\":\"little\"}]]}}},\"view\":{\"type\":\"object\",\"name\":\"CDSView\",\"id\":\"p2922\",\"attributes\":{\"filter\":{\"type\":\"object\",\"name\":\"AllIndices\",\"id\":\"p2923\"}}},\"glyph\":{\"type\":\"object\",\"name\":\"Scatter\",\"id\":\"p2918\",\"attributes\":{\"x\":{\"type\":\"field\",\"field\":\"x\"},\"y\":{\"type\":\"field\",\"field\":\"y\"},\"size\":{\"type\":\"value\",\"value\":7.5},\"line_color\":{\"type\":\"value\",\"value\":\"violet\"},\"fill_color\":{\"type\":\"value\",\"value\":\"violet\"},\"hatch_color\":{\"type\":\"value\",\"value\":\"violet\"}}},\"nonselection_glyph\":{\"type\":\"object\",\"name\":\"Scatter\",\"id\":\"p2919\",\"attributes\":{\"x\":{\"type\":\"field\",\"field\":\"x\"},\"y\":{\"type\":\"field\",\"field\":\"y\"},\"size\":{\"type\":\"value\",\"value\":7.5},\"line_color\":{\"type\":\"value\",\"value\":\"violet\"},\"line_alpha\":{\"type\":\"value\",\"value\":0.1},\"fill_color\":{\"type\":\"value\",\"value\":\"violet\"},\"fill_alpha\":{\"type\":\"value\",\"value\":0.1},\"hatch_color\":{\"type\":\"value\",\"value\":\"violet\"},\"hatch_alpha\":{\"type\":\"value\",\"value\":0.1}}},\"muted_glyph\":{\"type\":\"object\",\"name\":\"Scatter\",\"id\":\"p2920\",\"attributes\":{\"x\":{\"type\":\"field\",\"field\":\"x\"},\"y\":{\"type\":\"field\",\"field\":\"y\"},\"size\":{\"type\":\"value\",\"value\":7.5},\"line_color\":{\"type\":\"value\",\"value\":\"violet\"},\"line_alpha\":{\"type\":\"value\",\"value\":0.2},\"fill_color\":{\"type\":\"value\",\"value\":\"violet\"},\"fill_alpha\":{\"type\":\"value\",\"value\":0.2},\"hatch_color\":{\"type\":\"value\",\"value\":\"violet\"},\"hatch_alpha\":{\"type\":\"value\",\"value\":0.2}}}}}],\"toolbar\":{\"type\":\"object\",\"name\":\"Toolbar\",\"id\":\"p2892\",\"attributes\":{\"tools\":[{\"type\":\"object\",\"name\":\"BoxZoomTool\",\"id\":\"p2905\",\"attributes\":{\"overlay\":{\"type\":\"object\",\"name\":\"BoxAnnotation\",\"id\":\"p2906\",\"attributes\":{\"syncable\":false,\"level\":\"overlay\",\"visible\":false,\"left\":{\"type\":\"number\",\"value\":\"nan\"},\"right\":{\"type\":\"number\",\"value\":\"nan\"},\"top\":{\"type\":\"number\",\"value\":\"nan\"},\"bottom\":{\"type\":\"number\",\"value\":\"nan\"},\"left_units\":\"canvas\",\"right_units\":\"canvas\",\"top_units\":\"canvas\",\"bottom_units\":\"canvas\",\"line_color\":\"black\",\"line_alpha\":1.0,\"line_width\":2,\"line_dash\":[4,4],\"fill_color\":\"lightgrey\",\"fill_alpha\":0.5}}}},{\"type\":\"object\",\"name\":\"PanTool\",\"id\":\"p2911\"},{\"type\":\"object\",\"name\":\"HoverTool\",\"id\":\"p2912\",\"attributes\":{\"renderers\":\"auto\"}},{\"type\":\"object\",\"name\":\"ResetTool\",\"id\":\"p2913\"},{\"type\":\"object\",\"name\":\"SaveTool\",\"id\":\"p2914\"}]}},\"left\":[{\"type\":\"object\",\"name\":\"LinearAxis\",\"id\":\"p2900\",\"attributes\":{\"ticker\":{\"type\":\"object\",\"name\":\"BasicTicker\",\"id\":\"p2901\",\"attributes\":{\"mantissas\":[1,2,5]}},\"formatter\":{\"type\":\"object\",\"name\":\"BasicTickFormatter\",\"id\":\"p2902\"},\"axis_label\":\"ofp_mature\",\"major_label_policy\":{\"type\":\"object\",\"name\":\"AllLabels\",\"id\":\"p2903\"}}}],\"below\":[{\"type\":\"object\",\"name\":\"LinearAxis\",\"id\":\"p2895\",\"attributes\":{\"ticker\":{\"type\":\"object\",\"name\":\"BasicTicker\",\"id\":\"p2896\",\"attributes\":{\"mantissas\":[1,2,5]}},\"formatter\":{\"type\":\"object\",\"name\":\"BasicTickFormatter\",\"id\":\"p2897\"},\"axis_label\":\"Q_constrep\",\"major_label_policy\":{\"type\":\"object\",\"name\":\"AllLabels\",\"id\":\"p2898\"}}}],\"center\":[{\"type\":\"object\",\"name\":\"Grid\",\"id\":\"p2899\",\"attributes\":{\"axis\":{\"id\":\"p2895\"}}},{\"type\":\"object\",\"name\":\"Grid\",\"id\":\"p2904\",\"attributes\":{\"dimension\":1,\"axis\":{\"id\":\"p2900\"}}},{\"type\":\"object\",\"name\":\"Legend\",\"id\":\"p2924\",\"attributes\":{\"location\":\"bottom_left\",\"click_policy\":\"hide\",\"label_text_font_size\":\"8pt\",\"items\":[{\"type\":\"object\",\"name\":\"LegendItem\",\"id\":\"p2925\",\"attributes\":{\"label\":{\"type\":\"value\",\"value\":\"steady states\"},\"renderers\":[{\"id\":\"p2921\"}]}}]}}],\"frame_width\":480,\"frame_height\":360,\"output_backend\":\"svg\"}},0,0,1,1],[{\"type\":\"object\",\"name\":\"Figure\",\"id\":\"p2926\",\"attributes\":{\"x_range\":{\"type\":\"object\",\"name\":\"Range1d\",\"id\":\"p2936\",\"attributes\":{\"end\":0.75}},\"y_range\":{\"type\":\"object\",\"name\":\"Range1d\",\"id\":\"p2937\",\"attributes\":{\"end\":0.25}},\"x_scale\":{\"type\":\"object\",\"name\":\"LinearScale\",\"id\":\"p2938\"},\"y_scale\":{\"type\":\"object\",\"name\":\"LinearScale\",\"id\":\"p2939\"},\"title\":{\"type\":\"object\",\"name\":\"Title\",\"id\":\"p2929\",\"attributes\":{\"text\":\"Burden plot\"}},\"renderers\":[{\"type\":\"object\",\"name\":\"GlyphRenderer\",\"id\":\"p2966\",\"attributes\":{\"data_source\":{\"type\":\"object\",\"name\":\"ColumnDataSource\",\"id\":\"p2960\",\"attributes\":{\"selected\":{\"type\":\"object\",\"name\":\"Selection\",\"id\":\"p2961\",\"attributes\":{\"indices\":[],\"line_indices\":[]}},\"selection_policy\":{\"type\":\"object\",\"name\":\"UnionRenderers\",\"id\":\"p2962\"},\"data\":{\"type\":\"map\",\"entries\":[[\"x\",{\"type\":\"ndarray\",\"array\":{\"type\":\"bytes\",\"data\":\"AAAAAAAAAAAor6G8hvKaPyivobyG8qo/XkN5DeU1tD8or6G8hvK6P3kN5TWU18A/XkN5DeU1xD9DeQ3lNZTHPyivobyG8so/DeU1lNdQzj95DeU1lNfQP2wor6G8htI/XkN5DeU11D9ESyqFt3DVP15DeQ3lNdQ/bCivobyG0j95DeU1lNfQPw3lNZTXUM4/KK+hvIbyyj9DeQ3lNZTHP15DeQ3lNcQ/eQ3lNZTXwD+gzh+ciTK9P3kN5TWU18A/XkN5DeU1xD9DeQ3lNZTHPyivobyG8so/DeU1lNdQzj95DeU1lNfQP2wor6G8htI/XkN5DeU11D9QXkN5DeXVP0N5DeU1lNc/NpTXUF5D2T8or6G8hvLaPxrKayivodw/DeU1lNdQ3j8AAAAAAADgPw==\"},\"shape\":[38],\"dtype\":\"float64\",\"order\":\"little\"}],[\"y\",{\"type\":\"ndarray\",\"array\":{\"type\":\"bytes\",\"data\":\"/V/shmoewT9AiNrj+tfAPzvfzrtMjcA/klPu0dY9wD9d5Ufm19G/Pym5UkhYG78/lxWpsNlVvj84dsj8IH69PyXnOsN4j7w/KrEP+oSCuz9WiflAhEq6P+aokjc+zbg/XSTrzMy9tj/++/7kOeKyPzeD7v5pDa4/YKCcdMrqqT9IXgXwxuamPwadZO+OZaQ/P1PAwGUvoj+U4GZ/xySgP+s+gkvHU5w/GvE8prYWmD/qWGt/WAiTP4sF6d06go8/ie8wArLEjD8qTyTsiyeLPwZmsGT4Aoo/01f+pJUiiT90+rEcX26IP7xeEQcl2Yc/v2CL5NVahz/cGAHzIe6GP1/6l0ZZj4Y/Lj9apdE7hj8cfaQOjvGFP9U2jtsIr4U/MXJaWhFzhT+pNgv8tDyFPw==\"},\"shape\":[38],\"dtype\":\"float64\",\"order\":\"little\"}]]}}},\"view\":{\"type\":\"object\",\"name\":\"CDSView\",\"id\":\"p2967\",\"attributes\":{\"filter\":{\"type\":\"object\",\"name\":\"AllIndices\",\"id\":\"p2968\"}}},\"glyph\":{\"type\":\"object\",\"name\":\"Line\",\"id\":\"p2963\",\"attributes\":{\"x\":{\"type\":\"field\",\"field\":\"x\"},\"y\":{\"type\":\"field\",\"field\":\"y\"},\"line_width\":1.5,\"line_dash\":[6]}},\"nonselection_glyph\":{\"type\":\"object\",\"name\":\"Line\",\"id\":\"p2964\",\"attributes\":{\"x\":{\"type\":\"field\",\"field\":\"x\"},\"y\":{\"type\":\"field\",\"field\":\"y\"},\"line_alpha\":0.1,\"line_width\":1.5,\"line_dash\":[6]}},\"muted_glyph\":{\"type\":\"object\",\"name\":\"Line\",\"id\":\"p2965\",\"attributes\":{\"x\":{\"type\":\"field\",\"field\":\"x\"},\"y\":{\"type\":\"field\",\"field\":\"y\"},\"line_alpha\":0.2,\"line_width\":1.5,\"line_dash\":[6]}}}},{\"type\":\"object\",\"name\":\"GlyphRenderer\",\"id\":\"p2977\",\"attributes\":{\"data_source\":{\"type\":\"object\",\"name\":\"ColumnDataSource\",\"id\":\"p2971\",\"attributes\":{\"selected\":{\"type\":\"object\",\"name\":\"Selection\",\"id\":\"p2972\",\"attributes\":{\"indices\":[],\"line_indices\":[]}},\"selection_policy\":{\"type\":\"object\",\"name\":\"UnionRenderers\",\"id\":\"p2973\"},\"data\":{\"type\":\"map\",\"entries\":[[\"x\",{\"type\":\"ndarray\",\"array\":{\"type\":\"bytes\",\"data\":\"AAAAAAAAAAAor6G8hvKaPyivobyG8qo/XkN5DeU1tD8or6G8hvK6P3kN5TWU18A/XkN5DeU1xD9DeQ3lNZTHPyivobyG8so/DeU1lNdQzj95DeU1lNfQP2wor6G8htI/XkN5DeU11D9ESyqFt3DVP15DeQ3lNdQ/bCivobyG0j95DeU1lNfQPw3lNZTXUM4/KK+hvIbyyj9DeQ3lNZTHP15DeQ3lNcQ/eQ3lNZTXwD+gzh+ciTK9P3kN5TWU18A/XkN5DeU1xD9DeQ3lNZTHPyivobyG8so/DeU1lNdQzj95DeU1lNfQP2wor6G8htI/XkN5DeU11D9QXkN5DeXVP0N5DeU1lNc/NpTXUF5D2T8or6G8hvLaPxrKayivodw/DeU1lNdQ3j8AAAAAAADgPw==\"},\"shape\":[38],\"dtype\":\"float64\",\"order\":\"little\"}],[\"y\",{\"type\":\"ndarray\",\"array\":{\"type\":\"bytes\",\"data\":\"/V/shmoewT9AiNrj+tfAPzvfzrtMjcA/klPu0dY9wD9d5Ufm19G/Pym5UkhYG78/lxWpsNlVvj84dsj8IH69PyXnOsN4j7w/KrEP+oSCuz9WiflAhEq6P+aokjc+zbg/XSTrzMy9tj/++/7kOeKyPzeD7v5pDa4/YKCcdMrqqT9IXgXwxuamPwadZO+OZaQ/P1PAwGUvoj+U4GZ/xySgP+s+gkvHU5w/GvE8prYWmD/qWGt/WAiTP4sF6d06go8/ie8wArLEjD8qTyTsiyeLPwZmsGT4Aoo/01f+pJUiiT90+rEcX26IP7xeEQcl2Yc/v2CL5NVahz/cGAHzIe6GP1/6l0ZZj4Y/Lj9apdE7hj8cfaQOjvGFP9U2jtsIr4U/MXJaWhFzhT+pNgv8tDyFPw==\"},\"shape\":[38],\"dtype\":\"float64\",\"order\":\"little\"}]]}}},\"view\":{\"type\":\"object\",\"name\":\"CDSView\",\"id\":\"p2978\",\"attributes\":{\"filter\":{\"type\":\"object\",\"name\":\"AllIndices\",\"id\":\"p2979\"}}},\"glyph\":{\"type\":\"object\",\"name\":\"Scatter\",\"id\":\"p2974\",\"attributes\":{\"x\":{\"type\":\"field\",\"field\":\"x\"},\"y\":{\"type\":\"field\",\"field\":\"y\"},\"size\":{\"type\":\"value\",\"value\":5},\"fill_color\":{\"type\":\"value\",\"value\":\"black\"}}},\"nonselection_glyph\":{\"type\":\"object\",\"name\":\"Scatter\",\"id\":\"p2975\",\"attributes\":{\"x\":{\"type\":\"field\",\"field\":\"x\"},\"y\":{\"type\":\"field\",\"field\":\"y\"},\"size\":{\"type\":\"value\",\"value\":5},\"line_alpha\":{\"type\":\"value\",\"value\":0.1},\"fill_color\":{\"type\":\"value\",\"value\":\"black\"},\"fill_alpha\":{\"type\":\"value\",\"value\":0.1},\"hatch_alpha\":{\"type\":\"value\",\"value\":0.1}}},\"muted_glyph\":{\"type\":\"object\",\"name\":\"Scatter\",\"id\":\"p2976\",\"attributes\":{\"x\":{\"type\":\"field\",\"field\":\"x\"},\"y\":{\"type\":\"field\",\"field\":\"y\"},\"size\":{\"type\":\"value\",\"value\":5},\"line_alpha\":{\"type\":\"value\",\"value\":0.2},\"fill_color\":{\"type\":\"value\",\"value\":\"black\"},\"fill_alpha\":{\"type\":\"value\",\"value\":0.2},\"hatch_alpha\":{\"type\":\"value\",\"value\":0.2}}}}},{\"type\":\"object\",\"name\":\"GlyphRenderer\",\"id\":\"p2986\",\"attributes\":{\"data_source\":{\"type\":\"object\",\"name\":\"ColumnDataSource\",\"id\":\"p2980\",\"attributes\":{\"selected\":{\"type\":\"object\",\"name\":\"Selection\",\"id\":\"p2981\",\"attributes\":{\"indices\":[],\"line_indices\":[]}},\"selection_policy\":{\"type\":\"object\",\"name\":\"UnionRenderers\",\"id\":\"p2982\"},\"data\":{\"type\":\"map\",\"entries\":[[\"x\",{\"type\":\"ndarray\",\"array\":{\"type\":\"bytes\",\"data\":\"AMUV7KxB4T/qvB/tv67eP9TvEwIm2to/vSIIF4wF1z+oVfwr8jDTPyIR4YGwuM4/9XbJq3wPxz+TuWOrkcy+P3MKaf5T9K4/QnCoginhQz8=\"},\"shape\":[10],\"dtype\":\"float64\",\"order\":\"little\"}],[\"y\",{\"type\":\"ndarray\",\"array\":{\"type\":\"bytes\",\"data\":\"cX+cbmX0hD9JxH17x2aFP8N6vOKI9YU/HHpm11mthj8FUwBn4qSHP1BXwPDeCok/VIKH5URdiz8H68l8Z+mQPz945fsxdsA/k7bCM9YcwT8=\"},\"shape\":[10],\"dtype\":\"float64\",\"order\":\"little\"}]]}}},\"view\":{\"type\":\"object\",\"name\":\"CDSView\",\"id\":\"p2987\",\"attributes\":{\"filter\":{\"type\":\"object\",\"name\":\"AllIndices\",\"id\":\"p2988\"}}},\"glyph\":{\"type\":\"object\",\"name\":\"Scatter\",\"id\":\"p2983\",\"attributes\":{\"x\":{\"type\":\"field\",\"field\":\"x\"},\"y\":{\"type\":\"field\",\"field\":\"y\"},\"size\":{\"type\":\"value\",\"value\":7.5},\"line_color\":{\"type\":\"value\",\"value\":\"violet\"},\"fill_color\":{\"type\":\"value\",\"value\":\"violet\"},\"hatch_color\":{\"type\":\"value\",\"value\":\"violet\"}}},\"nonselection_glyph\":{\"type\":\"object\",\"name\":\"Scatter\",\"id\":\"p2984\",\"attributes\":{\"x\":{\"type\":\"field\",\"field\":\"x\"},\"y\":{\"type\":\"field\",\"field\":\"y\"},\"size\":{\"type\":\"value\",\"value\":7.5},\"line_color\":{\"type\":\"value\",\"value\":\"violet\"},\"line_alpha\":{\"type\":\"value\",\"value\":0.1},\"fill_color\":{\"type\":\"value\",\"value\":\"violet\"},\"fill_alpha\":{\"type\":\"value\",\"value\":0.1},\"hatch_color\":{\"type\":\"value\",\"value\":\"violet\"},\"hatch_alpha\":{\"type\":\"value\",\"value\":0.1}}},\"muted_glyph\":{\"type\":\"object\",\"name\":\"Scatter\",\"id\":\"p2985\",\"attributes\":{\"x\":{\"type\":\"field\",\"field\":\"x\"},\"y\":{\"type\":\"field\",\"field\":\"y\"},\"size\":{\"type\":\"value\",\"value\":7.5},\"line_color\":{\"type\":\"value\",\"value\":\"violet\"},\"line_alpha\":{\"type\":\"value\",\"value\":0.2},\"fill_color\":{\"type\":\"value\",\"value\":\"violet\"},\"fill_alpha\":{\"type\":\"value\",\"value\":0.2},\"hatch_color\":{\"type\":\"value\",\"value\":\"violet\"},\"hatch_alpha\":{\"type\":\"value\",\"value\":0.2}}}}},{\"type\":\"object\",\"name\":\"GlyphRenderer\",\"id\":\"p2996\",\"attributes\":{\"data_source\":{\"type\":\"object\",\"name\":\"ColumnDataSource\",\"id\":\"p2990\",\"attributes\":{\"selected\":{\"type\":\"object\",\"name\":\"Selection\",\"id\":\"p2991\",\"attributes\":{\"indices\":[],\"line_indices\":[]}},\"selection_policy\":{\"type\":\"object\",\"name\":\"UnionRenderers\",\"id\":\"p2992\"},\"data\":{\"type\":\"map\",\"entries\":[[\"x\",{\"type\":\"ndarray\",\"array\":{\"type\":\"bytes\",\"data\":\"AMUV7KxB4T/qvB/tv67eP9TvEwIm2to/vSIIF4wF1z+oVfwr8jDTPyIR4YGwuM4/9XbJq3wPxz+TuWOrkcy+P3MKaf5T9K4/QnCoginhQz8=\"},\"shape\":[10],\"dtype\":\"float64\",\"order\":\"little\"}],[\"y\",{\"type\":\"ndarray\",\"array\":{\"type\":\"bytes\",\"data\":\"LdugbWX0hD8A5f56x2aFP8/dQuKI9YU/ivPt1lmthj8+n3Nm4qSHP1RQE/DeCok/QIYi5URdiz/VITbuZOmQPysm3fsxdsA/vUm9M9YcwT8=\"},\"shape\":[10],\"dtype\":\"float64\",\"order\":\"little\"}]]}}},\"view\":{\"type\":\"object\",\"name\":\"CDSView\",\"id\":\"p2997\",\"attributes\":{\"filter\":{\"type\":\"object\",\"name\":\"AllIndices\",\"id\":\"p2998\"}}},\"glyph\":{\"type\":\"object\",\"name\":\"Scatter\",\"id\":\"p2993\",\"attributes\":{\"x\":{\"type\":\"field\",\"field\":\"x\"},\"y\":{\"type\":\"field\",\"field\":\"y\"},\"size\":{\"type\":\"value\",\"value\":7.5},\"line_color\":{\"type\":\"value\",\"value\":\"darkviolet\"},\"fill_color\":{\"type\":\"value\",\"value\":\"darkviolet\"},\"hatch_color\":{\"type\":\"value\",\"value\":\"darkviolet\"}}},\"nonselection_glyph\":{\"type\":\"object\",\"name\":\"Scatter\",\"id\":\"p2994\",\"attributes\":{\"x\":{\"type\":\"field\",\"field\":\"x\"},\"y\":{\"type\":\"field\",\"field\":\"y\"},\"size\":{\"type\":\"value\",\"value\":7.5},\"line_color\":{\"type\":\"value\",\"value\":\"darkviolet\"},\"line_alpha\":{\"type\":\"value\",\"value\":0.1},\"fill_color\":{\"type\":\"value\",\"value\":\"darkviolet\"},\"fill_alpha\":{\"type\":\"value\",\"value\":0.1},\"hatch_color\":{\"type\":\"value\",\"value\":\"darkviolet\"},\"hatch_alpha\":{\"type\":\"value\",\"value\":0.1}}},\"muted_glyph\":{\"type\":\"object\",\"name\":\"Scatter\",\"id\":\"p2995\",\"attributes\":{\"x\":{\"type\":\"field\",\"field\":\"x\"},\"y\":{\"type\":\"field\",\"field\":\"y\"},\"size\":{\"type\":\"value\",\"value\":7.5},\"line_color\":{\"type\":\"value\",\"value\":\"darkviolet\"},\"line_alpha\":{\"type\":\"value\",\"value\":0.2},\"fill_color\":{\"type\":\"value\",\"value\":\"darkviolet\"},\"fill_alpha\":{\"type\":\"value\",\"value\":0.2},\"hatch_color\":{\"type\":\"value\",\"value\":\"darkviolet\"},\"hatch_alpha\":{\"type\":\"value\",\"value\":0.2}}}}}],\"toolbar\":{\"type\":\"object\",\"name\":\"Toolbar\",\"id\":\"p2935\",\"attributes\":{\"tools\":[{\"type\":\"object\",\"name\":\"BoxZoomTool\",\"id\":\"p2950\",\"attributes\":{\"overlay\":{\"type\":\"object\",\"name\":\"BoxAnnotation\",\"id\":\"p2951\",\"attributes\":{\"syncable\":false,\"level\":\"overlay\",\"visible\":false,\"left\":{\"type\":\"number\",\"value\":\"nan\"},\"right\":{\"type\":\"number\",\"value\":\"nan\"},\"top\":{\"type\":\"number\",\"value\":\"nan\"},\"bottom\":{\"type\":\"number\",\"value\":\"nan\"},\"left_units\":\"canvas\",\"right_units\":\"canvas\",\"top_units\":\"canvas\",\"bottom_units\":\"canvas\",\"line_color\":\"black\",\"line_alpha\":1.0,\"line_width\":2,\"line_dash\":[4,4],\"fill_color\":\"lightgrey\",\"fill_alpha\":0.5}}}},{\"type\":\"object\",\"name\":\"PanTool\",\"id\":\"p2956\"},{\"type\":\"object\",\"name\":\"HoverTool\",\"id\":\"p2957\",\"attributes\":{\"renderers\":\"auto\"}},{\"type\":\"object\",\"name\":\"ResetTool\",\"id\":\"p2958\"},{\"type\":\"object\",\"name\":\"SaveTool\",\"id\":\"p2959\"}]}},\"left\":[{\"type\":\"object\",\"name\":\"LinearAxis\",\"id\":\"p2945\",\"attributes\":{\"ticker\":{\"type\":\"object\",\"name\":\"BasicTicker\",\"id\":\"p2946\",\"attributes\":{\"mantissas\":[1,2,5]}},\"formatter\":{\"type\":\"object\",\"name\":\"BasicTickFormatter\",\"id\":\"p2947\"},\"axis_label\":\"Q_sas, self-activating switch's demand\",\"major_label_policy\":{\"type\":\"object\",\"name\":\"AllLabels\",\"id\":\"p2948\"}}}],\"below\":[{\"type\":\"object\",\"name\":\"LinearAxis\",\"id\":\"p2940\",\"attributes\":{\"ticker\":{\"type\":\"object\",\"name\":\"BasicTicker\",\"id\":\"p2941\",\"attributes\":{\"mantissas\":[1,2,5]}},\"formatter\":{\"type\":\"object\",\"name\":\"BasicTickFormatter\",\"id\":\"p2942\"},\"axis_label\":\"Q_constrep, reporter resource demand\",\"major_label_policy\":{\"type\":\"object\",\"name\":\"AllLabels\",\"id\":\"p2943\"}}}],\"center\":[{\"type\":\"object\",\"name\":\"Grid\",\"id\":\"p2944\",\"attributes\":{\"axis\":{\"id\":\"p2940\"}}},{\"type\":\"object\",\"name\":\"Grid\",\"id\":\"p2949\",\"attributes\":{\"dimension\":1,\"axis\":{\"id\":\"p2945\"}}},{\"type\":\"object\",\"name\":\"Legend\",\"id\":\"p2969\",\"attributes\":{\"click_policy\":\"hide\",\"label_text_font_size\":\"8pt\",\"items\":[{\"type\":\"object\",\"name\":\"LegendItem\",\"id\":\"p2970\",\"attributes\":{\"label\":{\"type\":\"value\",\"value\":\"true steady states\"},\"renderers\":[{\"id\":\"p2966\"},{\"id\":\"p2977\"}]}},{\"type\":\"object\",\"name\":\"LegendItem\",\"id\":\"p2989\",\"attributes\":{\"label\":{\"type\":\"value\",\"value\":\"observed steady states (real)\"},\"renderers\":[{\"id\":\"p2986\"}]}},{\"type\":\"object\",\"name\":\"LegendItem\",\"id\":\"p2999\",\"attributes\":{\"label\":{\"type\":\"value\",\"value\":\"observed steady states (est)\"},\"renderers\":[{\"id\":\"p2996\"}]}}]}}],\"frame_width\":480,\"frame_height\":360,\"output_backend\":\"svg\"}},0,1,1,1]]}}]}};\n  const render_items = [{\"docid\":\"80bd5ce9-ba2a-4046-a95f-553849a802c1\",\"roots\":{\"p3000\":\"d163ad15-12c2-4432-b12a-aa23fbfa0ffc\"},\"root_ids\":[\"p3000\"]}];\n  void root.Bokeh.embed.embed_items_notebook(docs_json, render_items);\n  }\n  if (root.Bokeh !== undefined) {\n    embed_document(root);\n  } else {\n    let attempts = 0;\n    const timer = setInterval(function(root) {\n      if (root.Bokeh !== undefined) {\n        clearInterval(timer);\n        embed_document(root);\n      } else {\n        attempts++;\n        if (attempts > 100) {\n          clearInterval(timer);\n          console.log(\"Bokeh: ERROR: Unable to run BokehJS code because BokehJS library is missing\");\n        }\n      }\n    }, 10, root)\n  }\n})(window);",
      "application/vnd.bokehjs_exec.v0+json": ""
     },
     "metadata": {
      "application/vnd.bokehjs_exec.v0+json": {
       "id": "p3000"
      }
     },
     "output_type": "display_data"
    }
   ],
   "execution_count": 96
  },
  {
   "metadata": {
    "ExecuteTime": {
     "end_time": "2025-03-23T21:21:00.380492Z",
     "start_time": "2025-03-23T21:21:00.342903Z"
    }
   },
   "cell_type": "code",
   "source": [
    "# CDC PAPER - FIGURE 1 A\n",
    "# plot the steady states as actually observed\n",
    "intro_a_fig = bkplot.figure(\n",
    "    frame_width=100,\n",
    "    frame_height=100,\n",
    "    x_axis_label=\"Resource demand\\nfrom CRi\",\n",
    "    y_axis_label=\"MOI output\",\n",
    "    x_range=(0.0, 0.6),\n",
    "    y_range=(0, 5e5),\n",
    "    tools=\"box_zoom,pan,hover,reset,save\"\n",
    ")\n",
    "intro_a_fig.output_backend = 'svg'\n",
    "\n",
    "# plot the possible steady states\n",
    "intro_a_fig.line(x=an_bif_curve['Q_osynth'], y=an_bif_curve['ofp_mature'],\n",
    "                 line_width=1.5, line_dash='dashed', color='black',\n",
    "                 legend_label='Equilibria')\n",
    "\n",
    "# plot the characterisation outcomes\n",
    "intro_a_fig.scatter(x=Q_constrep_steady_states, y=mature_ofp_ss,\n",
    "                    marker='circle', size=5, color='#bb3385ff',\n",
    "                    legend_label='Observations')\n",
    "\n",
    "# legend formatting\n",
    "intro_a_fig.legend.location = \"top_right\"\n",
    "intro_a_fig.legend.label_text_font_size = \"7pt\"\n",
    "intro_a_fig.legend.padding=0\n",
    "intro_a_fig.legend.margin=2\n",
    "intro_a_fig.legend.spacing=0\n",
    "intro_a_fig.legend.glyph_width=5\n",
    "intro_a_fig.legend.click_policy = 'hide'\n",
    "\n",
    "# axis formatting\n",
    "intro_a_fig.yaxis.formatter=bkmodels.PrintfTickFormatter(format=\"%4.0e\")\n",
    "intro_a_fig.yaxis.ticker=bkmodels.BasicTicker(desired_num_ticks=6)\n",
    "intro_a_fig.xaxis.axis_label_text_font_size = \"8pt\"\n",
    "intro_a_fig.yaxis.axis_label_text_font_size = \"8pt\"\n",
    "intro_a_fig.xaxis.axis_label_text_color = \"black\"\n",
    "intro_a_fig.yaxis.axis_label_text_color = \"black\"\n",
    "intro_a_fig.xaxis.major_label_text_font_size = \"7pt\"\n",
    "intro_a_fig.yaxis.major_label_text_font_size = \"7pt\"\n",
    "intro_a_fig.xaxis.major_label_text_color = \"black\"\n",
    "intro_a_fig.yaxis.major_label_text_color = \"black\"\n",
    "\n",
    "bkplot.show(intro_a_fig)"
   ],
   "id": "f053fe58a1d118ed",
   "outputs": [
    {
     "data": {
      "text/html": [
       "\n",
       "  <div id=\"a2fbba03-d05f-42c0-8b75-1fb9d57233c3\" data-root-id=\"p3011\" style=\"display: contents;\"></div>\n"
      ]
     },
     "metadata": {},
     "output_type": "display_data"
    },
    {
     "data": {
      "application/javascript": "(function(root) {\n  function embed_document(root) {\n  const docs_json = {\"3b7c0278-6441-46ca-8deb-1ae467958f3b\":{\"version\":\"3.4.1\",\"title\":\"Bokeh Application\",\"roots\":[{\"type\":\"object\",\"name\":\"Figure\",\"id\":\"p3011\",\"attributes\":{\"x_range\":{\"type\":\"object\",\"name\":\"Range1d\",\"id\":\"p3020\",\"attributes\":{\"end\":0.6}},\"y_range\":{\"type\":\"object\",\"name\":\"Range1d\",\"id\":\"p3021\",\"attributes\":{\"end\":500000.0}},\"x_scale\":{\"type\":\"object\",\"name\":\"LinearScale\",\"id\":\"p3022\"},\"y_scale\":{\"type\":\"object\",\"name\":\"LinearScale\",\"id\":\"p3023\"},\"title\":{\"type\":\"object\",\"name\":\"Title\",\"id\":\"p3018\"},\"renderers\":[{\"type\":\"object\",\"name\":\"GlyphRenderer\",\"id\":\"p3050\",\"attributes\":{\"data_source\":{\"type\":\"object\",\"name\":\"ColumnDataSource\",\"id\":\"p3044\",\"attributes\":{\"selected\":{\"type\":\"object\",\"name\":\"Selection\",\"id\":\"p3045\",\"attributes\":{\"indices\":[],\"line_indices\":[]}},\"selection_policy\":{\"type\":\"object\",\"name\":\"UnionRenderers\",\"id\":\"p3046\"},\"data\":{\"type\":\"map\",\"entries\":[[\"x\",{\"type\":\"ndarray\",\"array\":{\"type\":\"bytes\",\"data\":\"AAAAAAAAAAAor6G8hvKaPyivobyG8qo/XkN5DeU1tD8or6G8hvK6P3kN5TWU18A/XkN5DeU1xD9DeQ3lNZTHPyivobyG8so/DeU1lNdQzj95DeU1lNfQP2wor6G8htI/XkN5DeU11D9ESyqFt3DVP15DeQ3lNdQ/bCivobyG0j95DeU1lNfQPw3lNZTXUM4/KK+hvIbyyj9DeQ3lNZTHP15DeQ3lNcQ/eQ3lNZTXwD+gzh+ciTK9P3kN5TWU18A/XkN5DeU1xD9DeQ3lNZTHPyivobyG8so/DeU1lNdQzj95DeU1lNfQP2wor6G8htI/XkN5DeU11D9QXkN5DeXVP0N5DeU1lNc/NpTXUF5D2T8or6G8hvLaPxrKayivodw/DeU1lNdQ3j8AAAAAAADgPw==\"},\"shape\":[38],\"dtype\":\"float64\",\"order\":\"little\"}],[\"y\",{\"type\":\"ndarray\",\"array\":{\"type\":\"bytes\",\"data\":\"xU17JaOTFUFfoymY4OMUQTWOHhHpNBRB8lRDdhCGE0FGCOUIjNYSQZAqI+NjJRJBM5d9ultxEUHu2glQy7gQQQFelHKr8g9BAZBXyqpeDkGjf6kRAKkMQZ3eDGbCtwpBsRL10lk+CEFpHTjmaBUEQea2r2VgTABBRn7UTMWu/ECP39svQ9b5QBNR47+5c/dAlLg74F1P9UAYXF6WjEjzQK4xkeQXQPFA3AwUMWru7UD2TK3VtAHoQOrjQoGIruNAkfWJDu2s4UC6ChJvuGjgQA909TRA7N5AqaDPf9Jl3UDJj1BxSR7cQAr1Q/XlA9tA0PBkZ6YL2kCkQbliMy7ZQPlDbHRjZthANN6hcm+w10CpU3/GfAnXQAoE70BVb9ZAWxD8uDjg1UBngv8QvlrVQA==\"},\"shape\":[38],\"dtype\":\"float64\",\"order\":\"little\"}]]}}},\"view\":{\"type\":\"object\",\"name\":\"CDSView\",\"id\":\"p3051\",\"attributes\":{\"filter\":{\"type\":\"object\",\"name\":\"AllIndices\",\"id\":\"p3052\"}}},\"glyph\":{\"type\":\"object\",\"name\":\"Line\",\"id\":\"p3047\",\"attributes\":{\"x\":{\"type\":\"field\",\"field\":\"x\"},\"y\":{\"type\":\"field\",\"field\":\"y\"},\"line_width\":1.5,\"line_dash\":[6]}},\"nonselection_glyph\":{\"type\":\"object\",\"name\":\"Line\",\"id\":\"p3048\",\"attributes\":{\"x\":{\"type\":\"field\",\"field\":\"x\"},\"y\":{\"type\":\"field\",\"field\":\"y\"},\"line_alpha\":0.1,\"line_width\":1.5,\"line_dash\":[6]}},\"muted_glyph\":{\"type\":\"object\",\"name\":\"Line\",\"id\":\"p3049\",\"attributes\":{\"x\":{\"type\":\"field\",\"field\":\"x\"},\"y\":{\"type\":\"field\",\"field\":\"y\"},\"line_alpha\":0.2,\"line_width\":1.5,\"line_dash\":[6]}}}},{\"type\":\"object\",\"name\":\"GlyphRenderer\",\"id\":\"p3061\",\"attributes\":{\"data_source\":{\"type\":\"object\",\"name\":\"ColumnDataSource\",\"id\":\"p3055\",\"attributes\":{\"selected\":{\"type\":\"object\",\"name\":\"Selection\",\"id\":\"p3056\",\"attributes\":{\"indices\":[],\"line_indices\":[]}},\"selection_policy\":{\"type\":\"object\",\"name\":\"UnionRenderers\",\"id\":\"p3057\"},\"data\":{\"type\":\"map\",\"entries\":[[\"x\",{\"type\":\"ndarray\",\"array\":{\"type\":\"bytes\",\"data\":\"AMUV7KxB4T/qvB/tv67eP9TvEwIm2to/vSIIF4wF1z+oVfwr8jDTPyIR4YGwuM4/9XbJq3wPxz+TuWOrkcy+P3MKaf5T9K4/QnCoginhQz8=\"},\"shape\":[10],\"dtype\":\"float64\",\"order\":\"little\"}],[\"y\",{\"type\":\"ndarray\",\"array\":{\"type\":\"bytes\",\"data\":\"Bfogzguj1ECaDTzEYcLVQLOjL/2TEtdAVyumLWCm2EC1FEJaTZ7aQAJ+VhWBO91AsbDHDwKU4EA14ON4hUXlQMCZbAPyABRBZMB6ZZaPFUE=\"},\"shape\":[10],\"dtype\":\"float64\",\"order\":\"little\"}]]}}},\"view\":{\"type\":\"object\",\"name\":\"CDSView\",\"id\":\"p3062\",\"attributes\":{\"filter\":{\"type\":\"object\",\"name\":\"AllIndices\",\"id\":\"p3063\"}}},\"glyph\":{\"type\":\"object\",\"name\":\"Scatter\",\"id\":\"p3058\",\"attributes\":{\"x\":{\"type\":\"field\",\"field\":\"x\"},\"y\":{\"type\":\"field\",\"field\":\"y\"},\"size\":{\"type\":\"value\",\"value\":5},\"line_color\":{\"type\":\"value\",\"value\":\"#bb3385ff\"},\"fill_color\":{\"type\":\"value\",\"value\":\"#bb3385ff\"},\"hatch_color\":{\"type\":\"value\",\"value\":\"#bb3385ff\"}}},\"nonselection_glyph\":{\"type\":\"object\",\"name\":\"Scatter\",\"id\":\"p3059\",\"attributes\":{\"x\":{\"type\":\"field\",\"field\":\"x\"},\"y\":{\"type\":\"field\",\"field\":\"y\"},\"size\":{\"type\":\"value\",\"value\":5},\"line_color\":{\"type\":\"value\",\"value\":\"#bb3385ff\"},\"line_alpha\":{\"type\":\"value\",\"value\":0.1},\"fill_color\":{\"type\":\"value\",\"value\":\"#bb3385ff\"},\"fill_alpha\":{\"type\":\"value\",\"value\":0.1},\"hatch_color\":{\"type\":\"value\",\"value\":\"#bb3385ff\"},\"hatch_alpha\":{\"type\":\"value\",\"value\":0.1}}},\"muted_glyph\":{\"type\":\"object\",\"name\":\"Scatter\",\"id\":\"p3060\",\"attributes\":{\"x\":{\"type\":\"field\",\"field\":\"x\"},\"y\":{\"type\":\"field\",\"field\":\"y\"},\"size\":{\"type\":\"value\",\"value\":5},\"line_color\":{\"type\":\"value\",\"value\":\"#bb3385ff\"},\"line_alpha\":{\"type\":\"value\",\"value\":0.2},\"fill_color\":{\"type\":\"value\",\"value\":\"#bb3385ff\"},\"fill_alpha\":{\"type\":\"value\",\"value\":0.2},\"hatch_color\":{\"type\":\"value\",\"value\":\"#bb3385ff\"},\"hatch_alpha\":{\"type\":\"value\",\"value\":0.2}}}}}],\"toolbar\":{\"type\":\"object\",\"name\":\"Toolbar\",\"id\":\"p3019\",\"attributes\":{\"tools\":[{\"type\":\"object\",\"name\":\"BoxZoomTool\",\"id\":\"p3034\",\"attributes\":{\"overlay\":{\"type\":\"object\",\"name\":\"BoxAnnotation\",\"id\":\"p3035\",\"attributes\":{\"syncable\":false,\"level\":\"overlay\",\"visible\":false,\"left\":{\"type\":\"number\",\"value\":\"nan\"},\"right\":{\"type\":\"number\",\"value\":\"nan\"},\"top\":{\"type\":\"number\",\"value\":\"nan\"},\"bottom\":{\"type\":\"number\",\"value\":\"nan\"},\"left_units\":\"canvas\",\"right_units\":\"canvas\",\"top_units\":\"canvas\",\"bottom_units\":\"canvas\",\"line_color\":\"black\",\"line_alpha\":1.0,\"line_width\":2,\"line_dash\":[4,4],\"fill_color\":\"lightgrey\",\"fill_alpha\":0.5}}}},{\"type\":\"object\",\"name\":\"PanTool\",\"id\":\"p3040\"},{\"type\":\"object\",\"name\":\"HoverTool\",\"id\":\"p3041\",\"attributes\":{\"renderers\":\"auto\"}},{\"type\":\"object\",\"name\":\"ResetTool\",\"id\":\"p3042\"},{\"type\":\"object\",\"name\":\"SaveTool\",\"id\":\"p3043\"}]}},\"left\":[{\"type\":\"object\",\"name\":\"LinearAxis\",\"id\":\"p3029\",\"attributes\":{\"ticker\":{\"type\":\"object\",\"name\":\"BasicTicker\",\"id\":\"p3066\",\"attributes\":{\"mantissas\":[1,2,5]}},\"formatter\":{\"type\":\"object\",\"name\":\"PrintfTickFormatter\",\"id\":\"p3065\",\"attributes\":{\"format\":\"%4.0e\"}},\"axis_label\":\"MOI output\",\"axis_label_text_color\":\"black\",\"axis_label_text_font_size\":\"8pt\",\"major_label_policy\":{\"type\":\"object\",\"name\":\"AllLabels\",\"id\":\"p3032\"},\"major_label_text_color\":\"black\",\"major_label_text_font_size\":\"7pt\"}}],\"below\":[{\"type\":\"object\",\"name\":\"LinearAxis\",\"id\":\"p3024\",\"attributes\":{\"ticker\":{\"type\":\"object\",\"name\":\"BasicTicker\",\"id\":\"p3025\",\"attributes\":{\"mantissas\":[1,2,5]}},\"formatter\":{\"type\":\"object\",\"name\":\"BasicTickFormatter\",\"id\":\"p3026\"},\"axis_label\":\"Resource demand\\nfrom CRi\",\"axis_label_text_color\":\"black\",\"axis_label_text_font_size\":\"8pt\",\"major_label_policy\":{\"type\":\"object\",\"name\":\"AllLabels\",\"id\":\"p3027\"},\"major_label_text_color\":\"black\",\"major_label_text_font_size\":\"7pt\"}}],\"center\":[{\"type\":\"object\",\"name\":\"Grid\",\"id\":\"p3028\",\"attributes\":{\"axis\":{\"id\":\"p3024\"}}},{\"type\":\"object\",\"name\":\"Grid\",\"id\":\"p3033\",\"attributes\":{\"dimension\":1,\"axis\":{\"id\":\"p3029\"}}},{\"type\":\"object\",\"name\":\"Legend\",\"id\":\"p3053\",\"attributes\":{\"click_policy\":\"hide\",\"label_text_font_size\":\"7pt\",\"glyph_width\":5,\"margin\":2,\"padding\":0,\"spacing\":0,\"items\":[{\"type\":\"object\",\"name\":\"LegendItem\",\"id\":\"p3054\",\"attributes\":{\"label\":{\"type\":\"value\",\"value\":\"Equilibria\"},\"renderers\":[{\"id\":\"p3050\"}]}},{\"type\":\"object\",\"name\":\"LegendItem\",\"id\":\"p3064\",\"attributes\":{\"label\":{\"type\":\"value\",\"value\":\"Observations\"},\"renderers\":[{\"id\":\"p3061\"}]}}]}}],\"frame_width\":100,\"frame_height\":100,\"output_backend\":\"svg\"}}]}};\n  const render_items = [{\"docid\":\"3b7c0278-6441-46ca-8deb-1ae467958f3b\",\"roots\":{\"p3011\":\"a2fbba03-d05f-42c0-8b75-1fb9d57233c3\"},\"root_ids\":[\"p3011\"]}];\n  void root.Bokeh.embed.embed_items_notebook(docs_json, render_items);\n  }\n  if (root.Bokeh !== undefined) {\n    embed_document(root);\n  } else {\n    let attempts = 0;\n    const timer = setInterval(function(root) {\n      if (root.Bokeh !== undefined) {\n        clearInterval(timer);\n        embed_document(root);\n      } else {\n        attempts++;\n        if (attempts > 100) {\n          clearInterval(timer);\n          console.log(\"Bokeh: ERROR: Unable to run BokehJS code because BokehJS library is missing\");\n        }\n      }\n    }, 10, root)\n  }\n})(window);",
      "application/vnd.bokehjs_exec.v0+json": ""
     },
     "metadata": {
      "application/vnd.bokehjs_exec.v0+json": {
       "id": "p3011"
      }
     },
     "output_type": "display_data"
    }
   ],
   "execution_count": 97
  },
  {
   "metadata": {
    "ExecuteTime": {
     "end_time": "2025-03-23T21:25:24.905650Z",
     "start_time": "2025-03-23T21:25:24.901692Z"
    }
   },
   "cell_type": "code",
   "source": [
    "# PARAMETER IDENTIFICATION BASED ON MEASUREMENTS\n",
    "\n",
    "perfectly_fitted_parvec = np.array([\n",
    "    cellvars['Q_switch_max'],\n",
    "    cellvars['Q_ofp_max'],\n",
    "    par['n_switch'],\n",
    "    par['K_switch'],\n",
    "    par['I_switch'],\n",
    "    par['baseline_switch'],\n",
    "    par['eta_switch']\n",
    "])\n",
    "\n",
    "init_parvec = jnp.array([\n",
    "    0.25,\n",
    "    0.25,\n",
    "    200.0,\n",
    "    0.5,\n",
    "    500.0,\n",
    "    0.5,\n",
    "    1.0\n",
    "])\n",
    "\n",
    "diffevo_bounds=[]\n",
    "for i in range(0,len(perfectly_fitted_parvec)):\n",
    "    diffevo_bounds.append((perfectly_fitted_parvec[i]/100, perfectly_fitted_parvec[i]*100))\n",
    "\n",
    "bounds=(perfectly_fitted_parvec/10, perfectly_fitted_parvec*10)\n",
    "\n"
   ],
   "id": "9979c7d1994a948f",
   "outputs": [],
   "execution_count": 110
  },
  {
   "metadata": {
    "ExecuteTime": {
     "end_time": "2025-03-23T21:25:27.136828Z",
     "start_time": "2025-03-23T21:25:27.133345Z"
    }
   },
   "cell_type": "code",
   "source": [
    "cost_func = lambda fitted_parvec: an_tools.id_cost(Q_sas_steady_states_est, Q_constrep_steady_states,\n",
    "                                                   par, cellvars,\n",
    "                                                   fitted_parvec)\n",
    "curve_func = lambda Q_sas_range, Q_switch_max, Q_ofp_max, n_switch, K_switch, I_switch, baseline_switch, eta_switch: an_tools.find_equilibria_for_Q_sas_range_id(Q_sas_range,\n",
    "                                                                   # range of burdens from other genes to consider\n",
    "                                                                   par,\n",
    "                                                                   Q_switch_max,\n",
    "                                                                   Q_ofp_max,\n",
    "                                                                   n_switch,\n",
    "                                                                   K_switch,\n",
    "                                                                   I_switch,\n",
    "                                                                   baseline_switch,\n",
    "                                                                   eta_switch\n",
    "                                                                   )"
   ],
   "id": "7caa76a62d5ef043",
   "outputs": [],
   "execution_count": 111
  },
  {
   "metadata": {
    "ExecuteTime": {
     "end_time": "2025-03-23T21:25:31.272996Z",
     "start_time": "2025-03-23T21:25:31.202012Z"
    }
   },
   "cell_type": "code",
   "source": [
    "# res = sp.optimize.curve_fit(curve_func, Q_sas_steady_states_est, Q_constrep_steady_states,\n",
    "#                                    p0=perfectly_fitted_parvec*1.05, maxfev=100000,\n",
    "#                                    nan_policy='omit', method='dogbox', bounds=bounds)\n",
    "# fitted_parvec = res[0]\n",
    "res = sp.optimize.differential_evolution(cost_func,bounds=diffevo_bounds)\n",
    "fitted_parvec = res.x\n",
    "# print('Fitted parameters: '+str(fitted_parvec))\n",
    "# print('Fitted parameter cost: '+str(cost_func(fitted_parvec)))"
   ],
   "id": "5f245a6ec0cc52a0",
   "outputs": [],
   "execution_count": 112
  },
  {
   "metadata": {
    "ExecuteTime": {
     "end_time": "2025-03-23T21:25:38.345077Z",
     "start_time": "2025-03-23T21:25:38.288410Z"
    }
   },
   "cell_type": "code",
   "source": [
    "# PLOT the fit\n",
    "fit_fig = bkplot.figure(\n",
    "    frame_width=480,\n",
    "    frame_height=360,\n",
    "    x_axis_label=\"Q_constrep, reporter resource demand\",\n",
    "    y_axis_label=\"Q_sas, self-activating switch's demand\",\n",
    "    # x_range=(0, 0.75),\n",
    "    # y_range=(0, 0.25),\n",
    "    title='Burden plot',\n",
    "    tools=\"box_zoom,pan,hover,reset,save\"\n",
    ")\n",
    "fit_fig.output_backend = 'svg'\n",
    "# plot the analytical bifurcation curve\n",
    "fit_fig.line(x=an_bif_curve['Q_osynth'],\n",
    "             y=an_bif_curve['Q_sas'],\n",
    "             line_width=1.5, line_color='black', line_dash='dashed',\n",
    "             legend_label='true steady states')\n",
    "fit_fig.scatter(x=an_bif_curve['Q_osynth'],\n",
    "                y=an_bif_curve['Q_sas'],\n",
    "                marker='circle', size=5,\n",
    "                color='black', legend_label='true steady states')\n",
    "\n",
    "# plot the estimated steady states\n",
    "fit_fig.scatter(x=Q_constrep_steady_states, y=Q_sas_steady_states_est,\n",
    "                marker='circle', size=7.5,\n",
    "               color='darkviolet', legend_label='observed steady states (est)')\n",
    "\n",
    "# legend formatting\n",
    "fit_fig.legend.label_text_font_size = \"8pt\"\n",
    "fit_fig.legend.location = \"top_right\"\n",
    "fit_fig.legend.click_policy = 'hide'\n",
    "\n",
    "\n",
    "# plot the fitted bifrucation curve\n",
    "Q_sas_mesh=np.linspace(min(Q_sas_steady_states_est),max(Q_sas_steady_states_est),100)\n",
    "Q_constrep_fit = an_tools.find_equilibria_for_Q_sas_range_id(Q_sas_mesh, par,\n",
    "                                                             fitted_parvec[0], fitted_parvec[1], fitted_parvec[2], fitted_parvec[3],\n",
    "                                                             fitted_parvec[4], fitted_parvec[5], fitted_parvec[6])\n",
    "fit_fig.line(x=Q_constrep_fit, y=Q_sas_mesh,\n",
    "             line_width=2.0,\n",
    "               color='cyan', legend_label='fitting')\n",
    "\n",
    "bkplot.show(fit_fig)"
   ],
   "id": "d925936b33ea1dde",
   "outputs": [
    {
     "data": {
      "text/html": [
       "\n",
       "  <div id=\"f6128625-91ba-44d6-a44b-f7e8d4504975\" data-root-id=\"p3311\" style=\"display: contents;\"></div>\n"
      ]
     },
     "metadata": {},
     "output_type": "display_data"
    },
    {
     "data": {
      "application/javascript": "(function(root) {\n  function embed_document(root) {\n  const docs_json = {\"cacddb19-7551-40fd-a3a0-4176773024c2\":{\"version\":\"3.4.1\",\"title\":\"Bokeh Application\",\"roots\":[{\"type\":\"object\",\"name\":\"Figure\",\"id\":\"p3311\",\"attributes\":{\"x_range\":{\"type\":\"object\",\"name\":\"DataRange1d\",\"id\":\"p3312\"},\"y_range\":{\"type\":\"object\",\"name\":\"DataRange1d\",\"id\":\"p3313\"},\"x_scale\":{\"type\":\"object\",\"name\":\"LinearScale\",\"id\":\"p3321\"},\"y_scale\":{\"type\":\"object\",\"name\":\"LinearScale\",\"id\":\"p3322\"},\"title\":{\"type\":\"object\",\"name\":\"Title\",\"id\":\"p3314\",\"attributes\":{\"text\":\"Burden plot\",\"text_color\":\"#5B5B5B\",\"text_font\":\"Helvetica\",\"text_font_size\":\"1.15em\"}},\"renderers\":[{\"type\":\"object\",\"name\":\"GlyphRenderer\",\"id\":\"p3349\",\"attributes\":{\"data_source\":{\"type\":\"object\",\"name\":\"ColumnDataSource\",\"id\":\"p3343\",\"attributes\":{\"selected\":{\"type\":\"object\",\"name\":\"Selection\",\"id\":\"p3344\",\"attributes\":{\"indices\":[],\"line_indices\":[]}},\"selection_policy\":{\"type\":\"object\",\"name\":\"UnionRenderers\",\"id\":\"p3345\"},\"data\":{\"type\":\"map\",\"entries\":[[\"x\",{\"type\":\"ndarray\",\"array\":{\"type\":\"bytes\",\"data\":\"AAAAAAAAAAAor6G8hvKaPyivobyG8qo/XkN5DeU1tD8or6G8hvK6P3kN5TWU18A/XkN5DeU1xD9DeQ3lNZTHPyivobyG8so/DeU1lNdQzj95DeU1lNfQP2wor6G8htI/XkN5DeU11D9ESyqFt3DVP15DeQ3lNdQ/bCivobyG0j95DeU1lNfQPw3lNZTXUM4/KK+hvIbyyj9DeQ3lNZTHP15DeQ3lNcQ/eQ3lNZTXwD+gzh+ciTK9P3kN5TWU18A/XkN5DeU1xD9DeQ3lNZTHPyivobyG8so/DeU1lNdQzj95DeU1lNfQP2wor6G8htI/XkN5DeU11D9QXkN5DeXVP0N5DeU1lNc/NpTXUF5D2T8or6G8hvLaPxrKayivodw/DeU1lNdQ3j8AAAAAAADgPw==\"},\"shape\":[38],\"dtype\":\"float64\",\"order\":\"little\"}],[\"y\",{\"type\":\"ndarray\",\"array\":{\"type\":\"bytes\",\"data\":\"/V/shmoewT9AiNrj+tfAPzvfzrtMjcA/klPu0dY9wD9d5Ufm19G/Pym5UkhYG78/lxWpsNlVvj84dsj8IH69PyXnOsN4j7w/KrEP+oSCuz9WiflAhEq6P+aokjc+zbg/XSTrzMy9tj/++/7kOeKyPzeD7v5pDa4/YKCcdMrqqT9IXgXwxuamPwadZO+OZaQ/P1PAwGUvoj+U4GZ/xySgP+s+gkvHU5w/GvE8prYWmD/qWGt/WAiTP4sF6d06go8/ie8wArLEjD8qTyTsiyeLPwZmsGT4Aoo/01f+pJUiiT90+rEcX26IP7xeEQcl2Yc/v2CL5NVahz/cGAHzIe6GP1/6l0ZZj4Y/Lj9apdE7hj8cfaQOjvGFP9U2jtsIr4U/MXJaWhFzhT+pNgv8tDyFPw==\"},\"shape\":[38],\"dtype\":\"float64\",\"order\":\"little\"}]]}}},\"view\":{\"type\":\"object\",\"name\":\"CDSView\",\"id\":\"p3350\",\"attributes\":{\"filter\":{\"type\":\"object\",\"name\":\"AllIndices\",\"id\":\"p3351\"}}},\"glyph\":{\"type\":\"object\",\"name\":\"Line\",\"id\":\"p3346\",\"attributes\":{\"x\":{\"type\":\"field\",\"field\":\"x\"},\"y\":{\"type\":\"field\",\"field\":\"y\"},\"line_width\":1.5,\"line_dash\":[6]}},\"nonselection_glyph\":{\"type\":\"object\",\"name\":\"Line\",\"id\":\"p3347\",\"attributes\":{\"x\":{\"type\":\"field\",\"field\":\"x\"},\"y\":{\"type\":\"field\",\"field\":\"y\"},\"line_alpha\":0.1,\"line_width\":1.5,\"line_dash\":[6]}},\"muted_glyph\":{\"type\":\"object\",\"name\":\"Line\",\"id\":\"p3348\",\"attributes\":{\"x\":{\"type\":\"field\",\"field\":\"x\"},\"y\":{\"type\":\"field\",\"field\":\"y\"},\"line_alpha\":0.2,\"line_width\":1.5,\"line_dash\":[6]}}}},{\"type\":\"object\",\"name\":\"GlyphRenderer\",\"id\":\"p3360\",\"attributes\":{\"data_source\":{\"type\":\"object\",\"name\":\"ColumnDataSource\",\"id\":\"p3354\",\"attributes\":{\"selected\":{\"type\":\"object\",\"name\":\"Selection\",\"id\":\"p3355\",\"attributes\":{\"indices\":[],\"line_indices\":[]}},\"selection_policy\":{\"type\":\"object\",\"name\":\"UnionRenderers\",\"id\":\"p3356\"},\"data\":{\"type\":\"map\",\"entries\":[[\"x\",{\"type\":\"ndarray\",\"array\":{\"type\":\"bytes\",\"data\":\"AAAAAAAAAAAor6G8hvKaPyivobyG8qo/XkN5DeU1tD8or6G8hvK6P3kN5TWU18A/XkN5DeU1xD9DeQ3lNZTHPyivobyG8so/DeU1lNdQzj95DeU1lNfQP2wor6G8htI/XkN5DeU11D9ESyqFt3DVP15DeQ3lNdQ/bCivobyG0j95DeU1lNfQPw3lNZTXUM4/KK+hvIbyyj9DeQ3lNZTHP15DeQ3lNcQ/eQ3lNZTXwD+gzh+ciTK9P3kN5TWU18A/XkN5DeU1xD9DeQ3lNZTHPyivobyG8so/DeU1lNdQzj95DeU1lNfQP2wor6G8htI/XkN5DeU11D9QXkN5DeXVP0N5DeU1lNc/NpTXUF5D2T8or6G8hvLaPxrKayivodw/DeU1lNdQ3j8AAAAAAADgPw==\"},\"shape\":[38],\"dtype\":\"float64\",\"order\":\"little\"}],[\"y\",{\"type\":\"ndarray\",\"array\":{\"type\":\"bytes\",\"data\":\"/V/shmoewT9AiNrj+tfAPzvfzrtMjcA/klPu0dY9wD9d5Ufm19G/Pym5UkhYG78/lxWpsNlVvj84dsj8IH69PyXnOsN4j7w/KrEP+oSCuz9WiflAhEq6P+aokjc+zbg/XSTrzMy9tj/++/7kOeKyPzeD7v5pDa4/YKCcdMrqqT9IXgXwxuamPwadZO+OZaQ/P1PAwGUvoj+U4GZ/xySgP+s+gkvHU5w/GvE8prYWmD/qWGt/WAiTP4sF6d06go8/ie8wArLEjD8qTyTsiyeLPwZmsGT4Aoo/01f+pJUiiT90+rEcX26IP7xeEQcl2Yc/v2CL5NVahz/cGAHzIe6GP1/6l0ZZj4Y/Lj9apdE7hj8cfaQOjvGFP9U2jtsIr4U/MXJaWhFzhT+pNgv8tDyFPw==\"},\"shape\":[38],\"dtype\":\"float64\",\"order\":\"little\"}]]}}},\"view\":{\"type\":\"object\",\"name\":\"CDSView\",\"id\":\"p3361\",\"attributes\":{\"filter\":{\"type\":\"object\",\"name\":\"AllIndices\",\"id\":\"p3362\"}}},\"glyph\":{\"type\":\"object\",\"name\":\"Scatter\",\"id\":\"p3357\",\"attributes\":{\"x\":{\"type\":\"field\",\"field\":\"x\"},\"y\":{\"type\":\"field\",\"field\":\"y\"},\"size\":{\"type\":\"value\",\"value\":5},\"fill_color\":{\"type\":\"value\",\"value\":\"black\"}}},\"nonselection_glyph\":{\"type\":\"object\",\"name\":\"Scatter\",\"id\":\"p3358\",\"attributes\":{\"x\":{\"type\":\"field\",\"field\":\"x\"},\"y\":{\"type\":\"field\",\"field\":\"y\"},\"size\":{\"type\":\"value\",\"value\":5},\"line_alpha\":{\"type\":\"value\",\"value\":0.1},\"fill_color\":{\"type\":\"value\",\"value\":\"black\"},\"fill_alpha\":{\"type\":\"value\",\"value\":0.1},\"hatch_alpha\":{\"type\":\"value\",\"value\":0.1}}},\"muted_glyph\":{\"type\":\"object\",\"name\":\"Scatter\",\"id\":\"p3359\",\"attributes\":{\"x\":{\"type\":\"field\",\"field\":\"x\"},\"y\":{\"type\":\"field\",\"field\":\"y\"},\"size\":{\"type\":\"value\",\"value\":5},\"line_alpha\":{\"type\":\"value\",\"value\":0.2},\"fill_color\":{\"type\":\"value\",\"value\":\"black\"},\"fill_alpha\":{\"type\":\"value\",\"value\":0.2},\"hatch_alpha\":{\"type\":\"value\",\"value\":0.2}}}}},{\"type\":\"object\",\"name\":\"GlyphRenderer\",\"id\":\"p3369\",\"attributes\":{\"data_source\":{\"type\":\"object\",\"name\":\"ColumnDataSource\",\"id\":\"p3363\",\"attributes\":{\"selected\":{\"type\":\"object\",\"name\":\"Selection\",\"id\":\"p3364\",\"attributes\":{\"indices\":[],\"line_indices\":[]}},\"selection_policy\":{\"type\":\"object\",\"name\":\"UnionRenderers\",\"id\":\"p3365\"},\"data\":{\"type\":\"map\",\"entries\":[[\"x\",{\"type\":\"ndarray\",\"array\":{\"type\":\"bytes\",\"data\":\"AMUV7KxB4T/qvB/tv67eP9TvEwIm2to/vSIIF4wF1z+oVfwr8jDTPyIR4YGwuM4/9XbJq3wPxz+TuWOrkcy+P3MKaf5T9K4/QnCoginhQz8=\"},\"shape\":[10],\"dtype\":\"float64\",\"order\":\"little\"}],[\"y\",{\"type\":\"ndarray\",\"array\":{\"type\":\"bytes\",\"data\":\"LdugbWX0hD8A5f56x2aFP8/dQuKI9YU/ivPt1lmthj8+n3Nm4qSHP1RQE/DeCok/QIYi5URdiz/VITbuZOmQPysm3fsxdsA/vUm9M9YcwT8=\"},\"shape\":[10],\"dtype\":\"float64\",\"order\":\"little\"}]]}}},\"view\":{\"type\":\"object\",\"name\":\"CDSView\",\"id\":\"p3370\",\"attributes\":{\"filter\":{\"type\":\"object\",\"name\":\"AllIndices\",\"id\":\"p3371\"}}},\"glyph\":{\"type\":\"object\",\"name\":\"Scatter\",\"id\":\"p3366\",\"attributes\":{\"x\":{\"type\":\"field\",\"field\":\"x\"},\"y\":{\"type\":\"field\",\"field\":\"y\"},\"size\":{\"type\":\"value\",\"value\":7.5},\"line_color\":{\"type\":\"value\",\"value\":\"darkviolet\"},\"fill_color\":{\"type\":\"value\",\"value\":\"darkviolet\"},\"hatch_color\":{\"type\":\"value\",\"value\":\"darkviolet\"}}},\"nonselection_glyph\":{\"type\":\"object\",\"name\":\"Scatter\",\"id\":\"p3367\",\"attributes\":{\"x\":{\"type\":\"field\",\"field\":\"x\"},\"y\":{\"type\":\"field\",\"field\":\"y\"},\"size\":{\"type\":\"value\",\"value\":7.5},\"line_color\":{\"type\":\"value\",\"value\":\"darkviolet\"},\"line_alpha\":{\"type\":\"value\",\"value\":0.1},\"fill_color\":{\"type\":\"value\",\"value\":\"darkviolet\"},\"fill_alpha\":{\"type\":\"value\",\"value\":0.1},\"hatch_color\":{\"type\":\"value\",\"value\":\"darkviolet\"},\"hatch_alpha\":{\"type\":\"value\",\"value\":0.1}}},\"muted_glyph\":{\"type\":\"object\",\"name\":\"Scatter\",\"id\":\"p3368\",\"attributes\":{\"x\":{\"type\":\"field\",\"field\":\"x\"},\"y\":{\"type\":\"field\",\"field\":\"y\"},\"size\":{\"type\":\"value\",\"value\":7.5},\"line_color\":{\"type\":\"value\",\"value\":\"darkviolet\"},\"line_alpha\":{\"type\":\"value\",\"value\":0.2},\"fill_color\":{\"type\":\"value\",\"value\":\"darkviolet\"},\"fill_alpha\":{\"type\":\"value\",\"value\":0.2},\"hatch_color\":{\"type\":\"value\",\"value\":\"darkviolet\"},\"hatch_alpha\":{\"type\":\"value\",\"value\":0.2}}}}},{\"type\":\"object\",\"name\":\"GlyphRenderer\",\"id\":\"p3379\",\"attributes\":{\"data_source\":{\"type\":\"object\",\"name\":\"ColumnDataSource\",\"id\":\"p3373\",\"attributes\":{\"selected\":{\"type\":\"object\",\"name\":\"Selection\",\"id\":\"p3374\",\"attributes\":{\"indices\":[],\"line_indices\":[]}},\"selection_policy\":{\"type\":\"object\",\"name\":\"UnionRenderers\",\"id\":\"p3375\"},\"data\":{\"type\":\"map\",\"entries\":[[\"x\",{\"type\":\"ndarray\",\"array\":{\"type\":\"bytes\",\"data\":\"AAAAAAAA8D8AAAAAAADwPwAAAAAAAPA/AAAAAAAA8D8AAAAAAADwPwAAAAAAAPA/AAAAAAAA8D8AAAAAAADwPwAAAAAAAPA/AAAAAAAA8D8AAAAAAADwPwAAAAAAAPA/AAAAAAAA8D8AAAAAAADwPwAAAAAAAPA/AAAAAAAA8D8AAAAAAADwPwAAAAAAAPA/AAAAAAAA8D8AAAAAAADwPwAAAAAAAPA/AAAAAAAA8D8AAAAAAADwPwAAAAAAAPA/AAAAAAAA8D8AAAAAAADwPwAAAAAAAPA/AAAAAAAA8D8AAAAAAADwPwAAAAAAAPA/AAAAAAAA8D8AAAAAAADwPwAAAAAAAPA/AAAAAAAA8D8AAAAAAADwPwAAAAAAAPA/AAAAAAAA8D8AAAAAAADwPwAAAAAAAPA/AAAAAAAA8D8AAAAAAADwPwAAAAAAAPA/AAAAAAAA8D8AAAAAAADwPwAAAAAAAPA/AAAAAAAA8D8AAAAAAADwPwAAAAAAAPA/AAAAAAAA8D8AAAAAAADwPwAAAAAAAPA/AAAAAAAA8D8AAAAAAADwPwAAAAAAAPA/AAAAAAAA8D8AAAAAAADwPwAAAAAAAPA/AAAAAAAA8D8AAAAAAADwPwAAAAAAAPA/AAAAAAAA8D8AAAAAAADwPwAAAAAAAPA/AAAAAAAA8D8AAAAAAADwPwAAAAAAAPA/AAAAAAAA8D8AAAAAAADwPwAAAAAAAPA/AAAAAAAA8D8AAAAAAADwPwAAAAAAAPA/AAAAAAAA8D8AAAAAAADwPwAAAAAAAPA/AAAAAAAA8D8AAAAAAADwPwAAAAAAAPA/AAAAAAAA8D8AAAAAAADwPwAAAAAAAPA/AAAAAAAA8D8AAAAAAADwPwAAAAAAAPA/AAAAAAAA8D8AAAAAAADwPwAAAAAAAPA/AAAAAAAA8D8AAAAAAADwPwAAAAAAAPA/AAAAAAAA8D8AAAAAAADwPwAAAAAAAPA/AAAAAAAA8D8AAAAAAADwPwAAAAAAAPA/AAAAAAAA8D8AAAAAAADwPwAAAAAAAPA/AAAAAAAA8D8=\"},\"shape\":[100],\"dtype\":\"float64\",\"order\":\"little\"}],[\"y\",{\"type\":\"ndarray\",\"array\":{\"type\":\"bytes\",\"data\":\"LdugbWX0hD+rC0xyOYKHPyg893YNEIo/pmyie+GdjD8knU2AtSuPP9FmfMLE3JA/EP/RxK4jkj9OlyfHmGqTP44vfcmCsZQ/zMfSy2z4lT8MYCjOVj+XP0r4fdBAhpg/iZDT0irNmT/IKCnVFBSbPwbBftf+Wpw/RlnU2eihnT+E8Snc0uieP+LEP2/eF6A/AZFqcFO7oD8hXZVxyF6hP0ApwHI9AqI/X/Xqc7Kloj9/wRV1J0mjP56NQHac7KM/vllrdxGQpD/dJZZ4hjOlP/zxwHn71qU/HL7renB6pj87ihZ85R2nP1tWQX1awac/eiJsfs9kqD+a7pZ/RAipP7m6wYC5q6k/2IbsgS5Pqj/4UheDo/KqPxcfQoQYlqs/N+tshY05rD9Wt5eGAt2sP3aDwod3gK0/lU/tiOwjrj+1GxiKYceuP9TnQovWaq8/+tk2xiUHsD8KQMxG4FiwPxmmYceaqrA/KQz3R1X8sD85cozID06xP0nYIUnKn7E/WD63yYTxsT9opExKP0OyP3gK4sr5lLI/iHB3S7Tmsj+X1gzMbjizP6c8okwpirM/t6I3zePbsz/HCM1Nni20P9ZuYs5Yf7Q/5tT3ThPRtD/2Oo3PzSK1PwWhIlCIdLU/FQe40ELGtT8lbU1R/Re2PzXT4tG3abY/RDl4UnK7tj9Unw3TLA23P2QFo1PnXrc/c2s41KGwtz+D0c1UXAK4P5M3Y9UWVLg/o534VdGluD+yA47Wi/e4P8JpI1dGSbk/0s+41wCbuT/hNU5Yu+y5P/Gb49h1Pro/AQJ5WTCQuj8RaA7a6uG6PyDOo1qlM7s/MDQ521+Fuz9Ams5bGte7P1AAZNzUKLw/X2b5XI96vD9vzI7dScy8P38yJF4EHr0/jpi53r5vvT+e/k5fecG9P65k5N8zE74/vsp5YO5kvj/NMA/hqLa+P92WpGFjCL8/7fw54h1avz/8Ys9i2Ku/PwzJZOOS/b8/jhf9saYnwD+Wykfyg1DAP519kjJhecA/pTDdcj6iwD+t4yezG8vAP7WWcvP488A/vUm9M9YcwT8=\"},\"shape\":[100],\"dtype\":\"float64\",\"order\":\"little\"}]]}}},\"view\":{\"type\":\"object\",\"name\":\"CDSView\",\"id\":\"p3380\",\"attributes\":{\"filter\":{\"type\":\"object\",\"name\":\"AllIndices\",\"id\":\"p3381\"}}},\"glyph\":{\"type\":\"object\",\"name\":\"Line\",\"id\":\"p3376\",\"attributes\":{\"x\":{\"type\":\"field\",\"field\":\"x\"},\"y\":{\"type\":\"field\",\"field\":\"y\"},\"line_color\":\"cyan\",\"line_width\":2.0}},\"nonselection_glyph\":{\"type\":\"object\",\"name\":\"Line\",\"id\":\"p3377\",\"attributes\":{\"x\":{\"type\":\"field\",\"field\":\"x\"},\"y\":{\"type\":\"field\",\"field\":\"y\"},\"line_color\":\"cyan\",\"line_alpha\":0.1,\"line_width\":2.0}},\"muted_glyph\":{\"type\":\"object\",\"name\":\"Line\",\"id\":\"p3378\",\"attributes\":{\"x\":{\"type\":\"field\",\"field\":\"x\"},\"y\":{\"type\":\"field\",\"field\":\"y\"},\"line_color\":\"cyan\",\"line_alpha\":0.2,\"line_width\":2.0}}}}],\"toolbar\":{\"type\":\"object\",\"name\":\"Toolbar\",\"id\":\"p3320\",\"attributes\":{\"tools\":[{\"type\":\"object\",\"name\":\"BoxZoomTool\",\"id\":\"p3333\",\"attributes\":{\"overlay\":{\"type\":\"object\",\"name\":\"BoxAnnotation\",\"id\":\"p3334\",\"attributes\":{\"syncable\":false,\"level\":\"overlay\",\"visible\":false,\"left\":{\"type\":\"number\",\"value\":\"nan\"},\"right\":{\"type\":\"number\",\"value\":\"nan\"},\"top\":{\"type\":\"number\",\"value\":\"nan\"},\"bottom\":{\"type\":\"number\",\"value\":\"nan\"},\"left_units\":\"canvas\",\"right_units\":\"canvas\",\"top_units\":\"canvas\",\"bottom_units\":\"canvas\",\"line_color\":\"black\",\"line_alpha\":1.0,\"line_width\":2,\"line_dash\":[4,4],\"fill_color\":\"lightgrey\",\"fill_alpha\":0.5}}}},{\"type\":\"object\",\"name\":\"PanTool\",\"id\":\"p3339\"},{\"type\":\"object\",\"name\":\"HoverTool\",\"id\":\"p3340\",\"attributes\":{\"renderers\":\"auto\"}},{\"type\":\"object\",\"name\":\"ResetTool\",\"id\":\"p3341\"},{\"type\":\"object\",\"name\":\"SaveTool\",\"id\":\"p3342\"}]}},\"left\":[{\"type\":\"object\",\"name\":\"LinearAxis\",\"id\":\"p3328\",\"attributes\":{\"ticker\":{\"type\":\"object\",\"name\":\"BasicTicker\",\"id\":\"p3329\",\"attributes\":{\"mantissas\":[1,2,5]}},\"formatter\":{\"type\":\"object\",\"name\":\"BasicTickFormatter\",\"id\":\"p3330\"},\"axis_label\":\"Q_sas, self-activating switch's demand\",\"axis_label_standoff\":10,\"axis_label_text_color\":\"#5B5B5B\",\"axis_label_text_font\":\"Helvetica\",\"axis_label_text_font_size\":\"1.25em\",\"axis_label_text_font_style\":\"normal\",\"major_label_policy\":{\"type\":\"object\",\"name\":\"AllLabels\",\"id\":\"p3331\"},\"major_label_text_color\":\"#5B5B5B\",\"major_label_text_font\":\"Helvetica\",\"major_label_text_font_size\":\"1.025em\",\"axis_line_color\":\"#5B5B5B\",\"axis_line_alpha\":0,\"major_tick_line_color\":\"#5B5B5B\",\"major_tick_line_alpha\":0,\"minor_tick_line_color\":\"#5B5B5B\",\"minor_tick_line_alpha\":0}}],\"below\":[{\"type\":\"object\",\"name\":\"LinearAxis\",\"id\":\"p3323\",\"attributes\":{\"ticker\":{\"type\":\"object\",\"name\":\"BasicTicker\",\"id\":\"p3324\",\"attributes\":{\"mantissas\":[1,2,5]}},\"formatter\":{\"type\":\"object\",\"name\":\"BasicTickFormatter\",\"id\":\"p3325\"},\"axis_label\":\"Q_constrep, reporter resource demand\",\"axis_label_standoff\":10,\"axis_label_text_color\":\"#5B5B5B\",\"axis_label_text_font\":\"Helvetica\",\"axis_label_text_font_size\":\"1.25em\",\"axis_label_text_font_style\":\"normal\",\"major_label_policy\":{\"type\":\"object\",\"name\":\"AllLabels\",\"id\":\"p3326\"},\"major_label_text_color\":\"#5B5B5B\",\"major_label_text_font\":\"Helvetica\",\"major_label_text_font_size\":\"1.025em\",\"axis_line_color\":\"#5B5B5B\",\"axis_line_alpha\":0,\"major_tick_line_color\":\"#5B5B5B\",\"major_tick_line_alpha\":0,\"minor_tick_line_color\":\"#5B5B5B\",\"minor_tick_line_alpha\":0}}],\"center\":[{\"type\":\"object\",\"name\":\"Grid\",\"id\":\"p3327\",\"attributes\":{\"axis\":{\"id\":\"p3323\"}}},{\"type\":\"object\",\"name\":\"Grid\",\"id\":\"p3332\",\"attributes\":{\"dimension\":1,\"axis\":{\"id\":\"p3328\"}}},{\"type\":\"object\",\"name\":\"Legend\",\"id\":\"p3352\",\"attributes\":{\"border_line_alpha\":0,\"background_fill_alpha\":0.25,\"click_policy\":\"hide\",\"label_text_color\":\"#5B5B5B\",\"label_text_font\":\"Helvetica\",\"label_text_font_size\":\"8pt\",\"label_standoff\":8,\"glyph_width\":15,\"spacing\":8,\"items\":[{\"type\":\"object\",\"name\":\"LegendItem\",\"id\":\"p3353\",\"attributes\":{\"label\":{\"type\":\"value\",\"value\":\"true steady states\"},\"renderers\":[{\"id\":\"p3349\"},{\"id\":\"p3360\"}]}},{\"type\":\"object\",\"name\":\"LegendItem\",\"id\":\"p3372\",\"attributes\":{\"label\":{\"type\":\"value\",\"value\":\"observed steady states (est)\"},\"renderers\":[{\"id\":\"p3369\"}]}},{\"type\":\"object\",\"name\":\"LegendItem\",\"id\":\"p3382\",\"attributes\":{\"label\":{\"type\":\"value\",\"value\":\"fitting\"},\"renderers\":[{\"id\":\"p3379\"}]}}]}}],\"frame_width\":480,\"frame_height\":360,\"output_backend\":\"svg\"}}]}};\n  const render_items = [{\"docid\":\"cacddb19-7551-40fd-a3a0-4176773024c2\",\"roots\":{\"p3311\":\"f6128625-91ba-44d6-a44b-f7e8d4504975\"},\"root_ids\":[\"p3311\"]}];\n  void root.Bokeh.embed.embed_items_notebook(docs_json, render_items);\n  }\n  if (root.Bokeh !== undefined) {\n    embed_document(root);\n  } else {\n    let attempts = 0;\n    const timer = setInterval(function(root) {\n      if (root.Bokeh !== undefined) {\n        clearInterval(timer);\n        embed_document(root);\n      } else {\n        attempts++;\n        if (attempts > 100) {\n          clearInterval(timer);\n          console.log(\"Bokeh: ERROR: Unable to run BokehJS code because BokehJS library is missing\");\n        }\n      }\n    }, 10, root)\n  }\n})(window);",
      "application/vnd.bokehjs_exec.v0+json": ""
     },
     "metadata": {
      "application/vnd.bokehjs_exec.v0+json": {
       "id": "p3311"
      }
     },
     "output_type": "display_data"
    }
   ],
   "execution_count": 113
  }
 ],
 "metadata": {
  "kernelspec": {
   "display_name": "Python 3",
   "language": "python",
   "name": "python3"
  },
  "language_info": {
   "codemirror_mode": {
    "name": "ipython",
    "version": 2
   },
   "file_extension": ".py",
   "mimetype": "text/x-python",
   "name": "python",
   "nbconvert_exporter": "python",
   "pygments_lexer": "ipython2",
   "version": "2.7.6"
  }
 },
 "nbformat": 4,
 "nbformat_minor": 5
}
