{
 "cells": [
  {
   "cell_type": "code",
   "id": "initial_id",
   "metadata": {
    "collapsed": true,
    "ExecuteTime": {
     "end_time": "2025-02-28T16:14:49.223585Z",
     "start_time": "2025-02-28T16:14:49.220240Z"
    }
   },
   "source": [
    "# PROBE_CHARACTERISATION.IPYNB - A showcase of how the CBC probe module can be characterised using constitutive reporters\n",
    "# By Kirill Sechkar"
   ],
   "outputs": [],
   "execution_count": 1
  },
  {
   "metadata": {
    "ExecuteTime": {
     "end_time": "2025-02-28T16:14:50.276267Z",
     "start_time": "2025-02-28T16:14:49.229068Z"
    }
   },
   "cell_type": "code",
   "source": [
    "# PACKAGE IMPORTS\n",
    "import numpy as np\n",
    "import jax\n",
    "import jax.numpy as jnp\n",
    "import functools\n",
    "import pandas as pd\n",
    "from bokeh import plotting as bkplot, models as bkmodels, layouts as bklayouts, io as bkio\n",
    "from bokeh.colors import RGB as bkRGB\n",
    "\n",
    "import time\n",
    "\n",
    "# CIRCUIT AND EXTERNAL INPUT IMPORTS\n",
    "from sim_tools.cell_model import *\n",
    "import sim_tools.genetic_modules as gms\n",
    "import sim_tools.controllers as ctrls\n",
    "import sim_tools.reference_switchers as refsws\n",
    "import sim_tools.ode_solvers as odesols\n",
    "from probe_char_tools import *\n",
    "\n",
    "# set up jax\n",
    "jax.config.update('jax_platform_name', 'cpu')\n",
    "jax.config.update(\"jax_enable_x64\", True)\n",
    "\n",
    "# set up bokeh\n",
    "bkio.reset_output()\n",
    "bkplot.output_notebook()"
   ],
   "id": "f9389c2a6d578687",
   "outputs": [
    {
     "data": {
      "text/html": [
       "    <style>\n",
       "        .bk-notebook-logo {\n",
       "            display: block;\n",
       "            width: 20px;\n",
       "            height: 20px;\n",
       "            background-image: url(data:image/png;base64,iVBORw0KGgoAAAANSUhEUgAAABQAAAAUCAYAAACNiR0NAAAABHNCSVQICAgIfAhkiAAAAAlwSFlzAAALEgAACxIB0t1+/AAAABx0RVh0U29mdHdhcmUAQWRvYmUgRmlyZXdvcmtzIENTNui8sowAAAOkSURBVDiNjZRtaJVlGMd/1/08zzln5zjP1LWcU9N0NkN8m2CYjpgQYQXqSs0I84OLIC0hkEKoPtiH3gmKoiJDU7QpLgoLjLIQCpEsNJ1vqUOdO7ppbuec5+V+rj4ctwzd8IIbbi6u+8f1539dt3A78eXC7QizUF7gyV1fD1Yqg4JWz84yffhm0qkFqBogB9rM8tZdtwVsPUhWhGcFJngGeWrPzHm5oaMmkfEg1usvLFyc8jLRqDOMru7AyC8saQr7GG7f5fvDeH7Ej8CM66nIF+8yngt6HWaKh7k49Soy9nXurCi1o3qUbS3zWfrYeQDTB/Qj6kX6Ybhw4B+bOYoLKCC9H3Nu/leUTZ1JdRWkkn2ldcCamzrcf47KKXdAJllSlxAOkRgyHsGC/zRday5Qld9DyoM4/q/rUoy/CXh3jzOu3bHUVZeU+DEn8FInkPBFlu3+nW3Nw0mk6vCDiWg8CeJaxEwuHS3+z5RgY+YBR6V1Z1nxSOfoaPa4LASWxxdNp+VWTk7+4vzaou8v8PN+xo+KY2xsw6une2frhw05CTYOmQvsEhjhWjn0bmXPjpE1+kplmmkP3suftwTubK9Vq22qKmrBhpY4jvd5afdRA3wGjFAgcnTK2s4hY0/GPNIb0nErGMCRxWOOX64Z8RAC4oCXdklmEvcL8o0BfkNK4lUg9HTl+oPlQxdNo3Mg4Nv175e/1LDGzZen30MEjRUtmXSfiTVu1kK8W4txyV6BMKlbgk3lMwYCiusNy9fVfvvwMxv8Ynl6vxoByANLTWplvuj/nF9m2+PDtt1eiHPBr1oIfhCChQMBw6Aw0UulqTKZdfVvfG7VcfIqLG9bcldL/+pdWTLxLUy8Qq38heUIjh4XlzZxzQm19lLFlr8vdQ97rjZVOLf8nclzckbcD4wxXMidpX30sFd37Fv/GtwwhzhxGVAprjbg0gCAEeIgwCZyTV2Z1REEW8O4py0wsjeloKoMr6iCY6dP92H6Vw/oTyICIthibxjm/DfN9lVz8IqtqKYLUXfoKVMVQVVJOElGjrnnUt9T9wbgp8AyYKaGlqingHZU/uG2NTZSVqwHQTWkx9hxjkpWDaCg6Ckj5qebgBVbT3V3NNXMSiWSDdGV3hrtzla7J+duwPOToIg42ChPQOQjspnSlp1V+Gjdged7+8UN5CRAV7a5EdFNwCjEaBR27b3W890TE7g24NAP/mMDXRWrGoFPQI9ls/MWO2dWFAar/xcOIImbbpA3zgAAAABJRU5ErkJggg==);\n",
       "        }\n",
       "    </style>\n",
       "    <div>\n",
       "        <a href=\"https://bokeh.org\" target=\"_blank\" class=\"bk-notebook-logo\"></a>\n",
       "        <span id=\"f0294dcd-5485-4ff2-b99d-aeaebfeae8ec\">Loading BokehJS ...</span>\n",
       "    </div>\n"
      ]
     },
     "metadata": {},
     "output_type": "display_data"
    },
    {
     "data": {
      "application/javascript": "'use strict';\n(function(root) {\n  function now() {\n    return new Date();\n  }\n\n  const force = true;\n\n  if (typeof root._bokeh_onload_callbacks === \"undefined\" || force === true) {\n    root._bokeh_onload_callbacks = [];\n    root._bokeh_is_loading = undefined;\n  }\n\nconst JS_MIME_TYPE = 'application/javascript';\n  const HTML_MIME_TYPE = 'text/html';\n  const EXEC_MIME_TYPE = 'application/vnd.bokehjs_exec.v0+json';\n  const CLASS_NAME = 'output_bokeh rendered_html';\n\n  /**\n   * Render data to the DOM node\n   */\n  function render(props, node) {\n    const script = document.createElement(\"script\");\n    node.appendChild(script);\n  }\n\n  /**\n   * Handle when an output is cleared or removed\n   */\n  function handleClearOutput(event, handle) {\n    function drop(id) {\n      const view = Bokeh.index.get_by_id(id)\n      if (view != null) {\n        view.model.document.clear()\n        Bokeh.index.delete(view)\n      }\n    }\n\n    const cell = handle.cell;\n\n    const id = cell.output_area._bokeh_element_id;\n    const server_id = cell.output_area._bokeh_server_id;\n\n    // Clean up Bokeh references\n    if (id != null) {\n      drop(id)\n    }\n\n    if (server_id !== undefined) {\n      // Clean up Bokeh references\n      const cmd_clean = \"from bokeh.io.state import curstate; print(curstate().uuid_to_server['\" + server_id + \"'].get_sessions()[0].document.roots[0]._id)\";\n      cell.notebook.kernel.execute(cmd_clean, {\n        iopub: {\n          output: function(msg) {\n            const id = msg.content.text.trim()\n            drop(id)\n          }\n        }\n      });\n      // Destroy server and session\n      const cmd_destroy = \"import bokeh.io.notebook as ion; ion.destroy_server('\" + server_id + \"')\";\n      cell.notebook.kernel.execute(cmd_destroy);\n    }\n  }\n\n  /**\n   * Handle when a new output is added\n   */\n  function handleAddOutput(event, handle) {\n    const output_area = handle.output_area;\n    const output = handle.output;\n\n    // limit handleAddOutput to display_data with EXEC_MIME_TYPE content only\n    if ((output.output_type != \"display_data\") || (!Object.prototype.hasOwnProperty.call(output.data, EXEC_MIME_TYPE))) {\n      return\n    }\n\n    const toinsert = output_area.element.find(\".\" + CLASS_NAME.split(' ')[0]);\n\n    if (output.metadata[EXEC_MIME_TYPE][\"id\"] !== undefined) {\n      toinsert[toinsert.length - 1].firstChild.textContent = output.data[JS_MIME_TYPE];\n      // store reference to embed id on output_area\n      output_area._bokeh_element_id = output.metadata[EXEC_MIME_TYPE][\"id\"];\n    }\n    if (output.metadata[EXEC_MIME_TYPE][\"server_id\"] !== undefined) {\n      const bk_div = document.createElement(\"div\");\n      bk_div.innerHTML = output.data[HTML_MIME_TYPE];\n      const script_attrs = bk_div.children[0].attributes;\n      for (let i = 0; i < script_attrs.length; i++) {\n        toinsert[toinsert.length - 1].firstChild.setAttribute(script_attrs[i].name, script_attrs[i].value);\n        toinsert[toinsert.length - 1].firstChild.textContent = bk_div.children[0].textContent\n      }\n      // store reference to server id on output_area\n      output_area._bokeh_server_id = output.metadata[EXEC_MIME_TYPE][\"server_id\"];\n    }\n  }\n\n  function register_renderer(events, OutputArea) {\n\n    function append_mime(data, metadata, element) {\n      // create a DOM node to render to\n      const toinsert = this.create_output_subarea(\n        metadata,\n        CLASS_NAME,\n        EXEC_MIME_TYPE\n      );\n      this.keyboard_manager.register_events(toinsert);\n      // Render to node\n      const props = {data: data, metadata: metadata[EXEC_MIME_TYPE]};\n      render(props, toinsert[toinsert.length - 1]);\n      element.append(toinsert);\n      return toinsert\n    }\n\n    /* Handle when an output is cleared or removed */\n    events.on('clear_output.CodeCell', handleClearOutput);\n    events.on('delete.Cell', handleClearOutput);\n\n    /* Handle when a new output is added */\n    events.on('output_added.OutputArea', handleAddOutput);\n\n    /**\n     * Register the mime type and append_mime function with output_area\n     */\n    OutputArea.prototype.register_mime_type(EXEC_MIME_TYPE, append_mime, {\n      /* Is output safe? */\n      safe: true,\n      /* Index of renderer in `output_area.display_order` */\n      index: 0\n    });\n  }\n\n  // register the mime type if in Jupyter Notebook environment and previously unregistered\n  if (root.Jupyter !== undefined) {\n    const events = require('base/js/events');\n    const OutputArea = require('notebook/js/outputarea').OutputArea;\n\n    if (OutputArea.prototype.mime_types().indexOf(EXEC_MIME_TYPE) == -1) {\n      register_renderer(events, OutputArea);\n    }\n  }\n  if (typeof (root._bokeh_timeout) === \"undefined\" || force === true) {\n    root._bokeh_timeout = Date.now() + 5000;\n    root._bokeh_failed_load = false;\n  }\n\n  const NB_LOAD_WARNING = {'data': {'text/html':\n     \"<div style='background-color: #fdd'>\\n\"+\n     \"<p>\\n\"+\n     \"BokehJS does not appear to have successfully loaded. If loading BokehJS from CDN, this \\n\"+\n     \"may be due to a slow or bad network connection. Possible fixes:\\n\"+\n     \"</p>\\n\"+\n     \"<ul>\\n\"+\n     \"<li>re-rerun `output_notebook()` to attempt to load from CDN again, or</li>\\n\"+\n     \"<li>use INLINE resources instead, as so:</li>\\n\"+\n     \"</ul>\\n\"+\n     \"<code>\\n\"+\n     \"from bokeh.resources import INLINE\\n\"+\n     \"output_notebook(resources=INLINE)\\n\"+\n     \"</code>\\n\"+\n     \"</div>\"}};\n\n  function display_loaded(error = null) {\n    const el = document.getElementById(\"f0294dcd-5485-4ff2-b99d-aeaebfeae8ec\");\n    if (el != null) {\n      const html = (() => {\n        if (typeof root.Bokeh === \"undefined\") {\n          if (error == null) {\n            return \"BokehJS is loading ...\";\n          } else {\n            return \"BokehJS failed to load.\";\n          }\n        } else {\n          const prefix = `BokehJS ${root.Bokeh.version}`;\n          if (error == null) {\n            return `${prefix} successfully loaded.`;\n          } else {\n            return `${prefix} <b>encountered errors</b> while loading and may not function as expected.`;\n          }\n        }\n      })();\n      el.innerHTML = html;\n\n      if (error != null) {\n        const wrapper = document.createElement(\"div\");\n        wrapper.style.overflow = \"auto\";\n        wrapper.style.height = \"5em\";\n        wrapper.style.resize = \"vertical\";\n        const content = document.createElement(\"div\");\n        content.style.fontFamily = \"monospace\";\n        content.style.whiteSpace = \"pre-wrap\";\n        content.style.backgroundColor = \"rgb(255, 221, 221)\";\n        content.textContent = error.stack ?? error.toString();\n        wrapper.append(content);\n        el.append(wrapper);\n      }\n    } else if (Date.now() < root._bokeh_timeout) {\n      setTimeout(() => display_loaded(error), 100);\n    }\n  }\n\n  function run_callbacks() {\n    try {\n      root._bokeh_onload_callbacks.forEach(function(callback) {\n        if (callback != null)\n          callback();\n      });\n    } finally {\n      delete root._bokeh_onload_callbacks\n    }\n    console.debug(\"Bokeh: all callbacks have finished\");\n  }\n\n  function load_libs(css_urls, js_urls, callback) {\n    if (css_urls == null) css_urls = [];\n    if (js_urls == null) js_urls = [];\n\n    root._bokeh_onload_callbacks.push(callback);\n    if (root._bokeh_is_loading > 0) {\n      console.debug(\"Bokeh: BokehJS is being loaded, scheduling callback at\", now());\n      return null;\n    }\n    if (js_urls == null || js_urls.length === 0) {\n      run_callbacks();\n      return null;\n    }\n    console.debug(\"Bokeh: BokehJS not loaded, scheduling load and callback at\", now());\n    root._bokeh_is_loading = css_urls.length + js_urls.length;\n\n    function on_load() {\n      root._bokeh_is_loading--;\n      if (root._bokeh_is_loading === 0) {\n        console.debug(\"Bokeh: all BokehJS libraries/stylesheets loaded\");\n        run_callbacks()\n      }\n    }\n\n    function on_error(url) {\n      console.error(\"failed to load \" + url);\n    }\n\n    for (let i = 0; i < css_urls.length; i++) {\n      const url = css_urls[i];\n      const element = document.createElement(\"link\");\n      element.onload = on_load;\n      element.onerror = on_error.bind(null, url);\n      element.rel = \"stylesheet\";\n      element.type = \"text/css\";\n      element.href = url;\n      console.debug(\"Bokeh: injecting link tag for BokehJS stylesheet: \", url);\n      document.body.appendChild(element);\n    }\n\n    for (let i = 0; i < js_urls.length; i++) {\n      const url = js_urls[i];\n      const element = document.createElement('script');\n      element.onload = on_load;\n      element.onerror = on_error.bind(null, url);\n      element.async = false;\n      element.src = url;\n      console.debug(\"Bokeh: injecting script tag for BokehJS library: \", url);\n      document.head.appendChild(element);\n    }\n  };\n\n  function inject_raw_css(css) {\n    const element = document.createElement(\"style\");\n    element.appendChild(document.createTextNode(css));\n    document.body.appendChild(element);\n  }\n\n  const js_urls = [\"https://cdn.bokeh.org/bokeh/release/bokeh-3.4.1.min.js\", \"https://cdn.bokeh.org/bokeh/release/bokeh-gl-3.4.1.min.js\", \"https://cdn.bokeh.org/bokeh/release/bokeh-widgets-3.4.1.min.js\", \"https://cdn.bokeh.org/bokeh/release/bokeh-tables-3.4.1.min.js\", \"https://cdn.bokeh.org/bokeh/release/bokeh-mathjax-3.4.1.min.js\"];\n  const css_urls = [];\n\n  const inline_js = [    function(Bokeh) {\n      Bokeh.set_log_level(\"info\");\n    },\nfunction(Bokeh) {\n    }\n  ];\n\n  function run_inline_js() {\n    if (root.Bokeh !== undefined || force === true) {\n      try {\n            for (let i = 0; i < inline_js.length; i++) {\n      inline_js[i].call(root, root.Bokeh);\n    }\n\n      } catch (error) {display_loaded(error);throw error;\n      }if (force === true) {\n        display_loaded();\n      }} else if (Date.now() < root._bokeh_timeout) {\n      setTimeout(run_inline_js, 100);\n    } else if (!root._bokeh_failed_load) {\n      console.log(\"Bokeh: BokehJS failed to load within specified timeout.\");\n      root._bokeh_failed_load = true;\n    } else if (force !== true) {\n      const cell = $(document.getElementById(\"f0294dcd-5485-4ff2-b99d-aeaebfeae8ec\")).parents('.cell').data().cell;\n      cell.output_area.append_execute_result(NB_LOAD_WARNING)\n    }\n  }\n\n  if (root._bokeh_is_loading === 0) {\n    console.debug(\"Bokeh: BokehJS loaded, going straight to plotting\");\n    run_inline_js();\n  } else {\n    load_libs(css_urls, js_urls, function() {\n      console.debug(\"Bokeh: BokehJS plotting callback run at\", now());\n      run_inline_js();\n    });\n  }\n}(window));",
      "application/vnd.bokehjs_load.v0+json": "'use strict';\n(function(root) {\n  function now() {\n    return new Date();\n  }\n\n  const force = true;\n\n  if (typeof root._bokeh_onload_callbacks === \"undefined\" || force === true) {\n    root._bokeh_onload_callbacks = [];\n    root._bokeh_is_loading = undefined;\n  }\n\n\n  if (typeof (root._bokeh_timeout) === \"undefined\" || force === true) {\n    root._bokeh_timeout = Date.now() + 5000;\n    root._bokeh_failed_load = false;\n  }\n\n  const NB_LOAD_WARNING = {'data': {'text/html':\n     \"<div style='background-color: #fdd'>\\n\"+\n     \"<p>\\n\"+\n     \"BokehJS does not appear to have successfully loaded. If loading BokehJS from CDN, this \\n\"+\n     \"may be due to a slow or bad network connection. Possible fixes:\\n\"+\n     \"</p>\\n\"+\n     \"<ul>\\n\"+\n     \"<li>re-rerun `output_notebook()` to attempt to load from CDN again, or</li>\\n\"+\n     \"<li>use INLINE resources instead, as so:</li>\\n\"+\n     \"</ul>\\n\"+\n     \"<code>\\n\"+\n     \"from bokeh.resources import INLINE\\n\"+\n     \"output_notebook(resources=INLINE)\\n\"+\n     \"</code>\\n\"+\n     \"</div>\"}};\n\n  function display_loaded(error = null) {\n    const el = document.getElementById(\"f0294dcd-5485-4ff2-b99d-aeaebfeae8ec\");\n    if (el != null) {\n      const html = (() => {\n        if (typeof root.Bokeh === \"undefined\") {\n          if (error == null) {\n            return \"BokehJS is loading ...\";\n          } else {\n            return \"BokehJS failed to load.\";\n          }\n        } else {\n          const prefix = `BokehJS ${root.Bokeh.version}`;\n          if (error == null) {\n            return `${prefix} successfully loaded.`;\n          } else {\n            return `${prefix} <b>encountered errors</b> while loading and may not function as expected.`;\n          }\n        }\n      })();\n      el.innerHTML = html;\n\n      if (error != null) {\n        const wrapper = document.createElement(\"div\");\n        wrapper.style.overflow = \"auto\";\n        wrapper.style.height = \"5em\";\n        wrapper.style.resize = \"vertical\";\n        const content = document.createElement(\"div\");\n        content.style.fontFamily = \"monospace\";\n        content.style.whiteSpace = \"pre-wrap\";\n        content.style.backgroundColor = \"rgb(255, 221, 221)\";\n        content.textContent = error.stack ?? error.toString();\n        wrapper.append(content);\n        el.append(wrapper);\n      }\n    } else if (Date.now() < root._bokeh_timeout) {\n      setTimeout(() => display_loaded(error), 100);\n    }\n  }\n\n  function run_callbacks() {\n    try {\n      root._bokeh_onload_callbacks.forEach(function(callback) {\n        if (callback != null)\n          callback();\n      });\n    } finally {\n      delete root._bokeh_onload_callbacks\n    }\n    console.debug(\"Bokeh: all callbacks have finished\");\n  }\n\n  function load_libs(css_urls, js_urls, callback) {\n    if (css_urls == null) css_urls = [];\n    if (js_urls == null) js_urls = [];\n\n    root._bokeh_onload_callbacks.push(callback);\n    if (root._bokeh_is_loading > 0) {\n      console.debug(\"Bokeh: BokehJS is being loaded, scheduling callback at\", now());\n      return null;\n    }\n    if (js_urls == null || js_urls.length === 0) {\n      run_callbacks();\n      return null;\n    }\n    console.debug(\"Bokeh: BokehJS not loaded, scheduling load and callback at\", now());\n    root._bokeh_is_loading = css_urls.length + js_urls.length;\n\n    function on_load() {\n      root._bokeh_is_loading--;\n      if (root._bokeh_is_loading === 0) {\n        console.debug(\"Bokeh: all BokehJS libraries/stylesheets loaded\");\n        run_callbacks()\n      }\n    }\n\n    function on_error(url) {\n      console.error(\"failed to load \" + url);\n    }\n\n    for (let i = 0; i < css_urls.length; i++) {\n      const url = css_urls[i];\n      const element = document.createElement(\"link\");\n      element.onload = on_load;\n      element.onerror = on_error.bind(null, url);\n      element.rel = \"stylesheet\";\n      element.type = \"text/css\";\n      element.href = url;\n      console.debug(\"Bokeh: injecting link tag for BokehJS stylesheet: \", url);\n      document.body.appendChild(element);\n    }\n\n    for (let i = 0; i < js_urls.length; i++) {\n      const url = js_urls[i];\n      const element = document.createElement('script');\n      element.onload = on_load;\n      element.onerror = on_error.bind(null, url);\n      element.async = false;\n      element.src = url;\n      console.debug(\"Bokeh: injecting script tag for BokehJS library: \", url);\n      document.head.appendChild(element);\n    }\n  };\n\n  function inject_raw_css(css) {\n    const element = document.createElement(\"style\");\n    element.appendChild(document.createTextNode(css));\n    document.body.appendChild(element);\n  }\n\n  const js_urls = [\"https://cdn.bokeh.org/bokeh/release/bokeh-3.4.1.min.js\", \"https://cdn.bokeh.org/bokeh/release/bokeh-gl-3.4.1.min.js\", \"https://cdn.bokeh.org/bokeh/release/bokeh-widgets-3.4.1.min.js\", \"https://cdn.bokeh.org/bokeh/release/bokeh-tables-3.4.1.min.js\", \"https://cdn.bokeh.org/bokeh/release/bokeh-mathjax-3.4.1.min.js\"];\n  const css_urls = [];\n\n  const inline_js = [    function(Bokeh) {\n      Bokeh.set_log_level(\"info\");\n    },\nfunction(Bokeh) {\n    }\n  ];\n\n  function run_inline_js() {\n    if (root.Bokeh !== undefined || force === true) {\n      try {\n            for (let i = 0; i < inline_js.length; i++) {\n      inline_js[i].call(root, root.Bokeh);\n    }\n\n      } catch (error) {display_loaded(error);throw error;\n      }if (force === true) {\n        display_loaded();\n      }} else if (Date.now() < root._bokeh_timeout) {\n      setTimeout(run_inline_js, 100);\n    } else if (!root._bokeh_failed_load) {\n      console.log(\"Bokeh: BokehJS failed to load within specified timeout.\");\n      root._bokeh_failed_load = true;\n    } else if (force !== true) {\n      const cell = $(document.getElementById(\"f0294dcd-5485-4ff2-b99d-aeaebfeae8ec\")).parents('.cell').data().cell;\n      cell.output_area.append_execute_result(NB_LOAD_WARNING)\n    }\n  }\n\n  if (root._bokeh_is_loading === 0) {\n    console.debug(\"Bokeh: BokehJS loaded, going straight to plotting\");\n    run_inline_js();\n  } else {\n    load_libs(css_urls, js_urls, function() {\n      console.debug(\"Bokeh: BokehJS plotting callback run at\", now());\n      run_inline_js();\n    });\n  }\n}(window));"
     },
     "metadata": {},
     "output_type": "display_data"
    }
   ],
   "execution_count": 2
  },
  {
   "metadata": {
    "ExecuteTime": {
     "end_time": "2025-02-28T16:14:50.330217Z",
     "start_time": "2025-02-28T16:14:50.327599Z"
    }
   },
   "cell_type": "code",
   "source": [
    "# PART 1: CHARACTERISE CONSTITUTIVE REPORTERS\n",
    "\n",
    "# DEFINE CONSTITUTIVE REPORTER PARAMETERS\n",
    "# for simplicity, just consider different promoter strengths for same copy numbers and RBSs\n",
    "# assuming protein maturation rates known (andidentical for simplicity)\n",
    "\n",
    "# default parameteres for all constitutive reporters\n",
    "constrep_default_par={}\n",
    "constrep_default_par['func_'] = 1.0  # gene functionality - 1 if working, 0 if mutated\n",
    "constrep_default_par['c_'] = 10.0  # copy no. (nM)\n",
    "constrep_default_par['a_'] = 100.0  # promoter strength (unitless)\n",
    "constrep_default_par['b_'] = 6.0  # mRNA decay rate (/h)\n",
    "constrep_default_par['k+_'] = 60.0  # ribosome binding rate (/h/nM)\n",
    "constrep_default_par['k-_'] = 60.0  # ribosome unbinding rate (/h)\n",
    "constrep_default_par['n_'] = 300.0  # protein length (aa)\n",
    "constrep_default_par['d_'] = 0.0  # rate of active protein degradation by synthetic protease - zero by default (/h/nM)\n",
    "# default maturation rate\n",
    "constrep_default_par['mu_ofp2']=1/(13.6/60)   # sfGFP maturation time of 13.6 min\n",
    "\n",
    "# define promoter strengths considered\n",
    "# feasible range between 40 and 2500 (Sechkar et al., Nature Comms 2024)\n",
    "# you don't have to, but order of increasing magnitudes will make things look neat\n",
    "constrep_as=[50,2000]\n",
    "\n",
    "# define maturation rates considered\n",
    "constrep_mus = [1/(13.6/60), 1/(13.6/60)]  # sfGFP maturation time of 13.6 min\n",
    "\n",
    "# define reporter pairs to consider\n",
    "constrep_pairs = [(0,1)]"
   ],
   "id": "cf278c028a38b3c",
   "outputs": [],
   "execution_count": 3
  },
  {
   "metadata": {
    "ExecuteTime": {
     "end_time": "2025-02-28T16:14:50.424702Z",
     "start_time": "2025-02-28T16:14:50.381423Z"
    }
   },
   "cell_type": "code",
   "source": [
    "# SET SIMULATION AND CONTROLLER PARAMETERS\n",
    "\n",
    "# set controller parameters - irrelevant for the constitutive reporter characterisation\n",
    "refs = jnp.array([0.0])\n",
    "control_delay = 0  # control action delay\n",
    "u0 = 0.0  # initial control action\n",
    "\n",
    " # set simulation parameters\n",
    "tf = (0.0, 48.0)  # simulation time frame - assuming the steady state is reached in 50 hours\n",
    "\n",
    "# measurement time step\n",
    "meastimestep = 48.0  # hours - we only care about the steady state at the end\n",
    "\n",
    "# choose Euler integration timestep\n",
    "euler_timestep = 1e-5  # hours"
   ],
   "id": "ea3d4a25629fcdf1",
   "outputs": [
    {
     "name": "stderr",
     "output_type": "stream",
     "text": [
      "An NVIDIA GPU may be present on this machine, but a CUDA-enabled jaxlib is not installed. Falling back to cpu.\n"
     ]
    }
   ],
   "execution_count": 4
  },
  {
   "metadata": {
    "ExecuteTime": {
     "end_time": "2025-02-28T16:14:50.453884Z",
     "start_time": "2025-02-28T16:14:50.450086Z"
    }
   },
   "cell_type": "code",
   "source": [
    "# INITIALISE AND PARAMETERISE THE CELL MODEL AND ODE SOLVER\n",
    "\n",
    "# initialise cell model\n",
    "cellmodel_auxil = CellModelAuxiliary()  # auxiliary tools for simulating the model and plotting simulation outcomes\n",
    "cellmodel_par = cellmodel_auxil.default_params()  # get default parameter values\n",
    "init_conds = cellmodel_auxil.default_init_conds(cellmodel_par)  # get default initial conditions\n",
    "\n",
    "# add reference tracker switcher\n",
    "cellmodel_par_with_refswitch, ref_switcher = cellmodel_auxil.add_reference_switcher(cellmodel_par,  # cell model parameters\n",
    "                                                                                    refsws.no_switching_initialise, # function initialising the reference switcher (none here)\n",
    "                                                                                    refsws.no_switching_switch  # function switching the references to be tracked (none here)\n",
    "                                                                                    )\n",
    "\n",
    "# load synthetic genetic modules and the controller\n",
    "odeuus_complete, \\\n",
    "    module1_F_calc, module2_F_calc, \\\n",
    "    module1_specterms, module2_specterms, \\\n",
    "    controller_action, controller_update, \\\n",
    "    par, init_conds, controller_memo0, \\\n",
    "    synth_genes_total_ss_and_each, synth_miscs_total_ss_and_each, \\\n",
    "    controller_memos, controller_dynvars, controller_ctrledvar, \\\n",
    "    modules_name2pos, modules_styles, controller_name2pos, controller_styles, \\\n",
    "    module1_v_with_F_calc, module2_v_with_F_calc = cellmodel_auxil.add_modules_and_controller(\n",
    "        # module 1 - one constitutive reporter\n",
    "        gms.constfp_initialise,  # function initialising the circuit\n",
    "        gms.constfp_ode,  # function defining the circuit ODEs\n",
    "        gms.constfp_F_calc, # function calculating the circuit genes' transcription regulation functions\n",
    "        gms.constfp_specterms, # function calculating the circuit genes effective mRNA levels (due to possible co-expression from the same operons)\n",
    "        # module 2 - another constitutive reporter\n",
    "        gms.constfp2_initialise,  # function initialising the circuit\n",
    "        gms.constfp2_ode,  # function defining the circuit ODEs\n",
    "        gms.constfp2_F_calc, # function calculating the circuit genes' transcription regulation functions\n",
    "        gms.constfp2_specterms, # function calculating the circuit genes effective mRNA levels (due to possible co-expression from the same operons)\n",
    "        # controller\n",
    "        ctrls.cci_initialise,  # function initialising the controller\n",
    "        ctrls.cci_action,  # function calculating the controller action\n",
    "        ctrls.cci_ode,  # function defining the controller ODEs\n",
    "        ctrls.cci_update,  # function updating the controller based on measurements\n",
    "        # cell model parameters and initial conditions\n",
    "        cellmodel_par_with_refswitch, init_conds)\n",
    "\n",
    "# unpack the synthetic genes and miscellaneous species lists\n",
    "synth_genes = synth_genes_total_ss_and_each[0]\n",
    "module1_genes = synth_genes_total_ss_and_each[1]\n",
    "module2_genes = synth_genes_total_ss_and_each[2]\n",
    "synth_miscs = synth_miscs_total_ss_and_each[0]\n",
    "module1_miscs = synth_miscs_total_ss_and_each[1]\n",
    "module2_miscs = synth_miscs_total_ss_and_each[2]\n",
    "\n",
    "# set constitutive reporter parameters to default values\n",
    "for gene in synth_genes:\n",
    "    for key in constrep_default_par.keys():\n",
    "        cellmodel_par[key+gene] = constrep_default_par[key]\n",
    "\n",
    "ode_solver, us_size = odesols.create_euler_solver(odeuus_complete,\n",
    "                                                  control_delay=control_delay,\n",
    "                                                  meastimestep=meastimestep,\n",
    "                                                  euler_timestep=euler_timestep)"
   ],
   "id": "8b8f1d810534f400",
   "outputs": [],
   "execution_count": 5
  },
  {
   "metadata": {
    "ExecuteTime": {
     "end_time": "2025-02-28T16:14:51.822972Z",
     "start_time": "2025-02-28T16:14:50.499783Z"
    }
   },
   "cell_type": "code",
   "source": [
    "# SIMULATE MEASUREMENTS FOR INDIVIDUAL REPORTERS\n",
    "mature_ofp_ss_individual = np.zeros(len(constrep_as)) # initialise storage for steady-state mature protein levels\n",
    "l_ss_individual = np.zeros(len(constrep_as))   # initialise storage for steady-state cell growth rates\n",
    "for i in range(0,len(constrep_as)):\n",
    "    # set constitutive reporter parameters depending on which reporter is considered\n",
    "    cellmodel_par['a_ofp'] = constrep_as[i]\n",
    "    cellmodel_par['a_ofp2'] = 0 #   no second reporter in the cell\n",
    "\n",
    "    # solve ODE\n",
    "    ts_jnp, xs_jnp,\\\n",
    "    ctrl_ss_memorecord_jnp, uexprecord_jnp, \\\n",
    "    refrecord_jnp  = ode_sim(par,   # model parameters\n",
    "                             ode_solver,    # ODE solver for the cell with the synthetic gene circuit\n",
    "                             odeuus_complete,    # ODE function for the cell with the synthetic gene circuit and the controller (also gives calculated and experienced control actions)\n",
    "                             controller_ctrledvar,    # name of the variable read and steered by the controller\n",
    "                             controller_update, controller_action,   # function for updating the controller memory and calculating the control action\n",
    "                             cellmodel_auxil.x0_from_init_conds(init_conds,\n",
    "                                                                par,\n",
    "                                                                synth_genes, synth_miscs, controller_dynvars,\n",
    "                                                                modules_name2pos,\n",
    "                                                                controller_name2pos),   # initial condition VECTOR\n",
    "                             controller_memo0,  # initial controller memory record\n",
    "                             u0,    # initial control action, applied before any measurement-informed actions reach the sy_probestem\n",
    "                             (len(synth_genes), len(module1_genes), len(module2_genes)),    # number of synthetic genes\n",
    "                             (len(synth_miscs), len(module1_miscs), len(module2_miscs)),    # number of miscellaneous species\n",
    "                             modules_name2pos, controller_name2pos, # dictionaries mapping gene names to their positions in the state vector\n",
    "                             cellmodel_auxil.synth_gene_params_for_jax(par, synth_genes),   # synthetic gene parameters in jax.array form\n",
    "                             tf, meastimestep,  # simulation time frame and measurement time step\n",
    "                             control_delay,  # delay before control action reaches the sy_probestem\n",
    "                             us_size,  # size of the control action record needed\n",
    "                             refs, ref_switcher,  # reference values and reference switcher\n",
    "                             )\n",
    "    # convert simulation results to numpy array_probes\n",
    "    ts = np.array(ts_jnp)\n",
    "    xs = np.array(xs_jnp)\n",
    "\n",
    "    # record mature protein levels\n",
    "    mature_ofp_ss_individual[i] = xs[-1,modules_name2pos['ofp_mature']]\n",
    "\n",
    "    # calculate and record growth rates\n",
    "    _, ls_jnp, _, _, _, _, _ = cellmodel_auxil.get_e_l_Fr_nu_psi_T_D(ts, xs, par,\n",
    "                                                                    synth_genes, synth_miscs,\n",
    "                                                                    modules_name2pos,\n",
    "                                                                    module1_specterms, module2_specterms)\n",
    "    l_ss_individual[i] = np.array(ls_jnp)[-1]"
   ],
   "id": "67941b5613a1b9b9",
   "outputs": [],
   "execution_count": 6
  },
  {
   "metadata": {
    "ExecuteTime": {
     "end_time": "2025-02-28T16:14:52.439562Z",
     "start_time": "2025-02-28T16:14:51.836624Z"
    }
   },
   "cell_type": "code",
   "source": [
    "# SIMULATE MEASUREMENTS FOR REPORTER PAIRS\n",
    "\n",
    "mature_ofp_ss_pairs = {} # initialise storage for steady state mature protein levels\n",
    "l_ss_pairs = {}   # initialise storage for growth rates\n",
    "\n",
    "# simulate measurements for each reporter pair\n",
    "for i in range(0,len(constrep_pairs)):\n",
    "    constrep_pair = constrep_pairs[i]\n",
    "\n",
    "    # set constitutive reporter parameters depending on which pair is considered\n",
    "    cellmodel_par['a_'+synth_genes[constrep_pair[0]]] = constrep_as[constrep_pair[0]]\n",
    "    cellmodel_par['a_'+synth_genes[constrep_pair[1]]] = constrep_as[constrep_pair[1]]\n",
    "\n",
    "    # solve ODE\n",
    "    ts_jnp, xs_jnp,\\\n",
    "    ctrl_ss_memorecord_jnp, uexprecord_jnp, \\\n",
    "    refrecord_jnp  = ode_sim(par,   # model parameters\n",
    "                             ode_solver,    # ODE solver for the cell with the synthetic gene circuit\n",
    "                             odeuus_complete,    # ODE function for the cell with the synthetic gene circuit and the controller (also gives calculated and experienced control actions)\n",
    "                             controller_ctrledvar,    # name of the variable read and steered by the controller\n",
    "                             controller_update, controller_action,   # function for updating the controller memory and calculating the control action\n",
    "                             cellmodel_auxil.x0_from_init_conds(init_conds,\n",
    "                                                                par,\n",
    "                                                                synth_genes, synth_miscs, controller_dynvars,\n",
    "                                                                modules_name2pos,\n",
    "                                                                controller_name2pos),   # initial condition VECTOR\n",
    "                             controller_memo0,  # initial controller memory record\n",
    "                             u0,    # initial control action, applied before any measurement-informed actions reach the sy_probestem\n",
    "                             (len(synth_genes), len(module1_genes), len(module2_genes)),    # number of synthetic genes\n",
    "                             (len(synth_miscs), len(module1_miscs), len(module2_miscs)),    # number of miscellaneous species\n",
    "                             modules_name2pos, controller_name2pos, # dictionaries mapping gene names to their positions in the state vector\n",
    "                             cellmodel_auxil.synth_gene_params_for_jax(par, synth_genes),   # synthetic gene parameters in jax.array form\n",
    "                             tf, meastimestep,  # simulation time frame and measurement time step\n",
    "                             control_delay,  # delay before control action reaches the sy_probestem\n",
    "                             us_size,  # size of the control action record needed\n",
    "                             refs, ref_switcher,  # reference values and reference switcher\n",
    "                             )\n",
    "    # convert simulation results to numpy array_probes\n",
    "    ts = np.array(ts_jnp)\n",
    "    xs = np.array(xs_jnp)\n",
    "\n",
    "    # record abolsute mature protein levels for the pair\n",
    "    mature_ofp_ss_pairs[constrep_pair] = {}\n",
    "    mature_ofp_ss_pairs[constrep_pair][constrep_pair[0]] = xs[-1,modules_name2pos['ofp_mature']]\n",
    "    mature_ofp_ss_pairs[constrep_pair][constrep_pair[1]] = xs[-1,modules_name2pos['ofp2_mature']]\n",
    "\n",
    "    # calculate and record growth rate for the pair\n",
    "    _, ls_jnp, _, _, _, _, _ = cellmodel_auxil.get_e_l_Fr_nu_psi_T_D(ts, xs, par,\n",
    "                                                                    synth_genes, synth_miscs,\n",
    "                                                                    modules_name2pos,\n",
    "                                                                    module1_specterms, module2_specterms)\n",
    "    l_ss_pairs[constrep_pair] = np.array(ls_jnp)[-1]"
   ],
   "id": "f1f1118967304b3a",
   "outputs": [],
   "execution_count": 7
  },
  {
   "metadata": {
    "ExecuteTime": {
     "end_time": "2025-02-28T16:14:52.448359Z",
     "start_time": "2025-02-28T16:14:52.445319Z"
    }
   },
   "cell_type": "code",
   "source": [
    "# CALCULATE RESOURCE COMPETITION FACTORS FOR THE REPORTERS\n",
    "Q_constrep = -np.ones(len(constrep_as)) # initialise resource competition factors array with impossible -1 values\n",
    "\n",
    "# calculate Q values for the reporters\n",
    "for i in range(0,len(constrep_pairs)):\n",
    "    constrep_pair = constrep_pairs[i]\n",
    "\n",
    "    # get the Q values\n",
    "    Q0, Q1 = Q_calc_both(constrep_mus[constrep_pair[0]], constrep_mus[constrep_pair[1]],                # maturation rates of the first and second output fluorescent proteins\n",
    "                         mature_ofp_ss_individual[constrep_pair[0]], l_ss_individual[constrep_pair[0]], # individual measurements for the first module: output prot. conc., growth rate\n",
    "                         mature_ofp_ss_individual[constrep_pair[1]], l_ss_individual[constrep_pair[1]], # individual measurements for the second module: output prot. conc., growth rate\n",
    "                         mature_ofp_ss_pairs[constrep_pair][constrep_pair[0]],\n",
    "                         mature_ofp_ss_pairs[constrep_pair][constrep_pair[1]], l_ss_pairs[constrep_pair]    # pair measurements (this and above lines): output prot. concs., growth rate\n",
    "                         )\n",
    "\n",
    "    # get Q for the first reporter in the pair - if not already found from measurements for another pair\n",
    "    if (Q_constrep[constrep_pair[0]] == -1):\n",
    "        Q_constrep[constrep_pair[0]] = Q0\n",
    "\n",
    "\n",
    "    # get Q for the second reporter in the pair - if not already found from measurements for another pair\n",
    "    if (Q_constrep[constrep_pair[1]] == -1):\n",
    "        Q_constrep[constrep_pair[1]] = Q1"
   ],
   "id": "23ace6e95d40cd6f",
   "outputs": [],
   "execution_count": 8
  },
  {
   "metadata": {
    "ExecuteTime": {
     "end_time": "2025-02-28T16:14:52.502432Z",
     "start_time": "2025-02-28T16:14:52.499811Z"
    }
   },
   "cell_type": "code",
   "source": [
    "# PART 2: CHARACTERISE THE PROBE\n",
    "\n",
    "# DEFINE PROBE PARAMETERS\n",
    "probe_par = {}\n",
    "probe_par['c_ta'] = 100.0\n",
    "probe_par['a_ta'] = 10.0\n",
    "probe_par['c_b'] = 100.0\n",
    "probe_par['a_b'] = 5000.0\n",
    "probe_par['mu_b'] = 1/(13.6/60)\n",
    "\n",
    "# define inducer levels to consider\n",
    "# you don't have to, but order of increasing magnitudes will make things look neat\n",
    "us=[0, 1, 10, 100, 1000]"
   ],
   "id": "9d0ae39184a1fcf4",
   "outputs": [],
   "execution_count": 9
  },
  {
   "metadata": {
    "ExecuteTime": {
     "end_time": "2025-02-28T16:14:52.551728Z",
     "start_time": "2025-02-28T16:14:52.548924Z"
    }
   },
   "cell_type": "code",
   "source": [
    "# SET SIMULATION AND CONTROLLER PARAMETERS\n",
    "\n",
    "# set controller parameters - constant chemical inducer level\n",
    "refs = jnp.array([0.0]) # control references - irrelevant for constant control input\n",
    "control_delay = 0  # control action delay - irrelevant for constant control input\n",
    "u0 = 0.0  # initial control action - just a default that we'll adjust based on the input considered\n",
    "\n",
    " # set simulation parameters\n",
    "tf = (0.0, 48.0)  # simulation time frame - assuming the steady state is reached in 50 hours\n",
    "\n",
    "# measurement time step\n",
    "meastimestep = 48.0  # hours - we only care about the steady state at the end"
   ],
   "id": "9f55b9f2450b0c6a",
   "outputs": [],
   "execution_count": 10
  },
  {
   "metadata": {
    "ExecuteTime": {
     "end_time": "2025-02-28T16:14:52.603114Z",
     "start_time": "2025-02-28T16:14:52.599067Z"
    }
   },
   "cell_type": "code",
   "source": [
    "# INITIALISE AND PARAMETERISE THE CELL MODEL\n",
    "\n",
    "# initialise cell model\n",
    "cellmodel_auxil = CellModelAuxiliary()  # auxiliary tools for simulating the model and plotting simulation outcomes\n",
    "cellmodel_par = cellmodel_auxil.default_params()  # get default parameter values\n",
    "init_conds = cellmodel_auxil.default_init_conds(cellmodel_par)  # get default initial conditions\n",
    "\n",
    "# add reference tracker switcher\n",
    "cellmodel_par_with_refswitch, ref_switcher = cellmodel_auxil.add_reference_switcher(cellmodel_par,  # cell model parameters\n",
    "                                                                                    refsws.no_switching_initialise, # function initialising the reference switcher (none here)\n",
    "                                                                                    refsws.no_switching_switch  # function switching the references to be tracked (none here)\n",
    "                                                                                    )\n",
    "\n",
    "# load synthetic genetic modules and the controller\n",
    "odeuus_complete, \\\n",
    "    module1_F_calc, module2_F_calc, \\\n",
    "    module1_specterms, module2_specterms, \\\n",
    "    controller_action, controller_update, \\\n",
    "    par, init_conds, controller_memo0, \\\n",
    "    synth_genes_total_ss_and_each, synth_miscs_total_ss_and_each, \\\n",
    "    controller_memos, controller_dynvars, controller_ctrledvar, \\\n",
    "    modules_name2pos, modules_styles, controller_name2pos, controller_styles, \\\n",
    "    module1_v_with_F_calc, module2_v_with_F_calc = cellmodel_auxil.add_modules_and_controller(\n",
    "        # module 1 - one constitutive reporter\n",
    "        gms.constfp_initialise,  # function initialising the circuit\n",
    "        gms.constfp_ode,  # function defining the circuit ODEs\n",
    "        gms.constfp_F_calc, # function calculating the circuit genes' transcription regulation functions\n",
    "        gms.constfp_specterms, # function calculating the circuit genes effective mRNA levels (due to possible co-expression from the same operons)\n",
    "        # module 2 - the probe\n",
    "        gms.cicc_initialise,  # function initialising the circuit\n",
    "        gms.cicc_ode,  # function defining the circuit ODEs\n",
    "        gms.cicc_F_calc, # function calculating the circuit genes' transcription regulation functions\n",
    "        gms.cicc_specterms, # function calculating the circuit genes effective mRNA levels (due to possible co-expression from the same operons)\n",
    "        # controller\n",
    "        ctrls.cci_initialise,  # function initialising the controller\n",
    "        ctrls.cci_action,  # function calculating the controller action\n",
    "        ctrls.cci_ode,  # function defining the controller ODEs\n",
    "        ctrls.cci_update,  # function updating the controller based on measurements\n",
    "        # cell model parameters and initial conditions\n",
    "        cellmodel_par_with_refswitch, init_conds)\n",
    "\n",
    "# unpack the synthetic genes and miscellaneous species lists\n",
    "synth_genes = synth_genes_total_ss_and_each[0]\n",
    "module1_genes = synth_genes_total_ss_and_each[1]\n",
    "module2_genes = synth_genes_total_ss_and_each[2]\n",
    "synth_miscs = synth_miscs_total_ss_and_each[0]\n",
    "module1_miscs = synth_miscs_total_ss_and_each[1]\n",
    "module2_miscs = synth_miscs_total_ss_and_each[2]\n",
    "\n",
    "# set constitutive reporter parameters to default values\n",
    "for gene in synth_genes:\n",
    "    for key in constrep_default_par.keys():\n",
    "        cellmodel_par[key+gene] = constrep_default_par[key]\n",
    "\n",
    "# set up the ODE solver\n",
    "ode_solver, us_size = odesols.create_euler_solver(odeuus_complete,\n",
    "                                                  control_delay=control_delay,\n",
    "                                                  meastimestep=meastimestep,\n",
    "                                                  euler_timestep=euler_timestep)"
   ],
   "id": "60379aa67bcf2c65",
   "outputs": [],
   "execution_count": 11
  },
  {
   "metadata": {
    "ExecuteTime": {
     "end_time": "2025-02-28T16:44:49.233065Z",
     "start_time": "2025-02-28T16:44:40.024527Z"
    }
   },
   "cell_type": "code",
   "source": [
    "# SIMULATE MEASUREMENTS OF THE PROBE'S STEADY STATE WITH DIFFERENT REPORTERS AND INPUTS\n",
    "\n",
    "# add the 'no constitutive reporter case' by inserting zero transcription rate at the constitutive reporter list's beginning (if needed)\n",
    "if(0 not in constrep_as):\n",
    "    constrep_as.insert(0, 0.0)\n",
    "    constrep_mus.insert(0, 0.0)\n",
    "\n",
    "# initialise storage - us on axis 0, Q_constreps on axis 1\n",
    "l_ss = -np.ones((len(us),len(constrep_as)))         # cell growth rates\n",
    "y_probes = -np.ones((len(us),len(constrep_as)))           # probe outputs, i.e. mature probe output protein levels (alias mature_b_ss)\n",
    "Q_probes = -np.ones((len(us),len(constrep_as)))     # calculated normalised resource competition factors\n",
    "\n",
    "# simulate measurements for each inducer level and constitutive reporter combination\n",
    "for i in range(0,len(us)):\n",
    "    for j in range(0, len(constrep_as)):\n",
    "        # set the inducer level for the next simulationm\n",
    "        init_conds['inducer_level'] = us[i]\n",
    "\n",
    "        # set the constitutive reporter parameter for the next simulation\n",
    "        cellmodel_par['a_ofp'] = constrep_as[j]\n",
    "        \n",
    "        # solve ODE\n",
    "        ts_jnp, xs_jnp,\\\n",
    "        ctrl_memorecord_jnp, uexprecord_jnp, \\\n",
    "        refrecord_jnp  = ode_sim(par,   # model parameters\n",
    "                                 ode_solver,    # ODE solver for the cell with the synthetic gene circuit\n",
    "                                 odeuus_complete,    # ODE function for the cell with the synthetic gene circuit and the controller (also gives calculated and experienced control actions)\n",
    "                                 controller_ctrledvar,    # name of the variable read and steered by the controller\n",
    "                                 controller_update, controller_action,   # function for updating the controller memory and calculating the control action\n",
    "                                 cellmodel_auxil.x0_from_init_conds(init_conds,\n",
    "                                                                    par,\n",
    "                                                                    synth_genes, synth_miscs, controller_dynvars,\n",
    "                                                                    modules_name2pos,\n",
    "                                                                    controller_name2pos),   # initial condition VECTOR\n",
    "                                 controller_memo0,  # initial controller memory record\n",
    "                                 u0,    # initial control action, applied before any measurement-informed actions reach the sy_probestem\n",
    "                                 (len(synth_genes), len(module1_genes), len(module2_genes)),    # number of synthetic genes\n",
    "                                 (len(synth_miscs), len(module1_miscs), len(module2_miscs)),    # number of miscellaneous species\n",
    "                                 modules_name2pos, controller_name2pos, # dictionaries mapping gene names to their positions in the state vector\n",
    "                                 cellmodel_auxil.synth_gene_params_for_jax(par, synth_genes),   # synthetic gene parameters in jax.array form\n",
    "                                 tf, meastimestep,  # simulation time frame and measurement time step\n",
    "                                 control_delay,  # delay before control action reaches the sy_probestem\n",
    "                                 us_size,  # size of the control action record needed\n",
    "                                 refs, ref_switcher,  # reference values and reference switcher\n",
    "                                 )\n",
    "        # convert simulation results to numpy array_probes\n",
    "        ts = np.array(ts_jnp)\n",
    "        xs = np.array(xs_jnp)\n",
    "        \n",
    "        # record probe output\n",
    "        y_probes[i,j] = xs[-1,modules_name2pos['b_mature']]\n",
    "        \n",
    "        # record growth rate\n",
    "        _, ls_jnp, _, _, _, _, _ = cellmodel_auxil.get_e_l_Fr_nu_psi_T_D(ts, xs, par,\n",
    "                                                                        synth_genes, synth_miscs,\n",
    "                                                                        modules_name2pos,\n",
    "                                                                        module1_specterms, module2_specterms)\n",
    "        l = np.array(ls_jnp)[-1]\n",
    "        l_ss[i, j] = l\n",
    "\n",
    "        # record the probe's normalised resource competition factor\n",
    "        if(constrep_as[j] == 0.0):  # if there is no reporter from whose output it can be deduced, skip this step\n",
    "            continue\n",
    "        Q_probes[i, j] = Q_calc_one(constrep_mus[j-1],                                      # maturation rate of the constitutive reporter's output fluorescent protein\n",
    "                                    mature_ofp_ss_individual[j-1], l_ss_individual[j-1],    # individual measurements for the const. reporter: output prot. conc., growth rate\n",
    "                                    xs[-1, modules_name2pos['ofp_mature']], l,              # pair measurements for the const. reporter: output prot. concs., growth rate\n",
    "                                    Q_constrep[j-1]                                         # normalised resource competition factor for the constitutive reporter\n",
    "                                    )   # using j-1 as the constitutive reporter list has an extra zero at the beginning"
   ],
   "id": "b56f38c849dbd6c1",
   "outputs": [
    {
     "name": "stdout",
     "output_type": "stream",
     "text": [
      "0 0.0\n",
      "0.0\n",
      "0 50\n",
      "0.0\n",
      "0 2000\n",
      "0.0\n",
      "1 0.0\n",
      "1.0\n",
      "1 50\n",
      "1.0\n",
      "1 2000\n",
      "1.0\n",
      "10 0.0\n",
      "10.0\n",
      "10 50\n",
      "10.0\n",
      "10 2000\n",
      "10.0\n",
      "100 0.0\n",
      "100.0\n",
      "100 50\n",
      "100.0\n",
      "100 2000\n",
      "100.0\n",
      "1000 0.0\n",
      "1000.0\n",
      "1000 50\n",
      "1000.0\n",
      "1000 2000\n",
      "1000.0\n"
     ]
    }
   ],
   "execution_count": 31
  },
  {
   "metadata": {
    "ExecuteTime": {
     "end_time": "2025-02-28T16:44:51.196348Z",
     "start_time": "2025-02-28T16:44:51.192949Z"
    }
   },
   "cell_type": "code",
   "source": "",
   "id": "79124909ac99b40a",
   "outputs": [
    {
     "name": "stdout",
     "output_type": "stream",
     "text": [
      "[[-1.          0.00277856  0.0015959 ]\n",
      " [-1.          0.00289577  0.00165971]\n",
      " [-1.          0.0046459   0.00265634]\n",
      " [-1.          0.00503837  0.00289173]\n",
      " [-1.          0.00504976  0.00289863]]\n"
     ]
    }
   ],
   "execution_count": 32
  }
 ],
 "metadata": {
  "kernelspec": {
   "display_name": "Python 3",
   "language": "python",
   "name": "python3"
  },
  "language_info": {
   "codemirror_mode": {
    "name": "ipython",
    "version": 2
   },
   "file_extension": ".py",
   "mimetype": "text/x-python",
   "name": "python",
   "nbconvert_exporter": "python",
   "pygments_lexer": "ipython2",
   "version": "2.7.6"
  }
 },
 "nbformat": 4,
 "nbformat_minor": 5
}
