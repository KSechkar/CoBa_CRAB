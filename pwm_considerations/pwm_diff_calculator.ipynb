{
 "cells": [
  {
   "cell_type": "code",
   "id": "initial_id",
   "metadata": {
    "collapsed": true,
    "ExecuteTime": {
     "end_time": "2025-01-23T17:25:56.664073Z",
     "start_time": "2025-01-23T17:25:56.658120Z"
    }
   },
   "source": [
    " #PWM_DIFF_CALCULATOR.IPYNB - calculating a bound on the pulse interval to cap deviation from the mean in PWM control\n",
    "\n",
    " # source for diffusion coeff: https://journals.asm.org/doi/10.1128/jb.185.5.1485-1491.2003#T1\n",
    "\n",
    "# PACKAGE IMPORTS\n",
    "import numpy as np\n",
    "import scipy\n",
    "import jax\n",
    "import jax.numpy as jnp\n",
    "import jaxopt\n",
    "import functools\n",
    "import diffrax as diffrax\n",
    "from diffrax import diffeqsolve, ODETerm, SaveAt, PIDController, SteadyStateEvent\n",
    "\n",
    "# plotting and data handling\n",
    "import pandas as pd\n",
    "from bokeh import plotting as bkplot, models as bkmodels, layouts as bklayouts, palettes as bkpalettes, io as bkio\n",
    "from bokeh.colors import RGB as bkRGB\n",
    "from contourpy import contour_generator as cgen\n",
    "import matplotlib as mpltlb\n",
    "\n",
    "# miscellaneous\n",
    "import time\n",
    "\n",
    "# PACKAGE SETUP\n",
    "# set up jax\n",
    "jax.config.update('jax_platform_name', 'cpu')\n",
    "jax.config.update(\"jax_enable_x64\", True)\n",
    "\n",
    "# set up bokeh\n",
    "bkio.reset_output()\n",
    "bkplot.output_notebook()"
   ],
   "outputs": [
    {
     "data": {
      "text/html": [
       "    <style>\n",
       "        .bk-notebook-logo {\n",
       "            display: block;\n",
       "            width: 20px;\n",
       "            height: 20px;\n",
       "            background-image: url(data:image/png;base64,iVBORw0KGgoAAAANSUhEUgAAABQAAAAUCAYAAACNiR0NAAAABHNCSVQICAgIfAhkiAAAAAlwSFlzAAALEgAACxIB0t1+/AAAABx0RVh0U29mdHdhcmUAQWRvYmUgRmlyZXdvcmtzIENTNui8sowAAAOkSURBVDiNjZRtaJVlGMd/1/08zzln5zjP1LWcU9N0NkN8m2CYjpgQYQXqSs0I84OLIC0hkEKoPtiH3gmKoiJDU7QpLgoLjLIQCpEsNJ1vqUOdO7ppbuec5+V+rj4ctwzd8IIbbi6u+8f1539dt3A78eXC7QizUF7gyV1fD1Yqg4JWz84yffhm0qkFqBogB9rM8tZdtwVsPUhWhGcFJngGeWrPzHm5oaMmkfEg1usvLFyc8jLRqDOMru7AyC8saQr7GG7f5fvDeH7Ej8CM66nIF+8yngt6HWaKh7k49Soy9nXurCi1o3qUbS3zWfrYeQDTB/Qj6kX6Ybhw4B+bOYoLKCC9H3Nu/leUTZ1JdRWkkn2ldcCamzrcf47KKXdAJllSlxAOkRgyHsGC/zRday5Qld9DyoM4/q/rUoy/CXh3jzOu3bHUVZeU+DEn8FInkPBFlu3+nW3Nw0mk6vCDiWg8CeJaxEwuHS3+z5RgY+YBR6V1Z1nxSOfoaPa4LASWxxdNp+VWTk7+4vzaou8v8PN+xo+KY2xsw6une2frhw05CTYOmQvsEhjhWjn0bmXPjpE1+kplmmkP3suftwTubK9Vq22qKmrBhpY4jvd5afdRA3wGjFAgcnTK2s4hY0/GPNIb0nErGMCRxWOOX64Z8RAC4oCXdklmEvcL8o0BfkNK4lUg9HTl+oPlQxdNo3Mg4Nv175e/1LDGzZen30MEjRUtmXSfiTVu1kK8W4txyV6BMKlbgk3lMwYCiusNy9fVfvvwMxv8Ynl6vxoByANLTWplvuj/nF9m2+PDtt1eiHPBr1oIfhCChQMBw6Aw0UulqTKZdfVvfG7VcfIqLG9bcldL/+pdWTLxLUy8Qq38heUIjh4XlzZxzQm19lLFlr8vdQ97rjZVOLf8nclzckbcD4wxXMidpX30sFd37Fv/GtwwhzhxGVAprjbg0gCAEeIgwCZyTV2Z1REEW8O4py0wsjeloKoMr6iCY6dP92H6Vw/oTyICIthibxjm/DfN9lVz8IqtqKYLUXfoKVMVQVVJOElGjrnnUt9T9wbgp8AyYKaGlqingHZU/uG2NTZSVqwHQTWkx9hxjkpWDaCg6Ckj5qebgBVbT3V3NNXMSiWSDdGV3hrtzla7J+duwPOToIg42ChPQOQjspnSlp1V+Gjdged7+8UN5CRAV7a5EdFNwCjEaBR27b3W890TE7g24NAP/mMDXRWrGoFPQI9ls/MWO2dWFAar/xcOIImbbpA3zgAAAABJRU5ErkJggg==);\n",
       "        }\n",
       "    </style>\n",
       "    <div>\n",
       "        <a href=\"https://bokeh.org\" target=\"_blank\" class=\"bk-notebook-logo\"></a>\n",
       "        <span id=\"ad0410a7-d8f3-419d-a096-5a0bad62dd9d\">Loading BokehJS ...</span>\n",
       "    </div>\n"
      ]
     },
     "metadata": {},
     "output_type": "display_data"
    },
    {
     "data": {
      "application/javascript": "'use strict';\n(function(root) {\n  function now() {\n    return new Date();\n  }\n\n  const force = true;\n\n  if (typeof root._bokeh_onload_callbacks === \"undefined\" || force === true) {\n    root._bokeh_onload_callbacks = [];\n    root._bokeh_is_loading = undefined;\n  }\n\nconst JS_MIME_TYPE = 'application/javascript';\n  const HTML_MIME_TYPE = 'text/html';\n  const EXEC_MIME_TYPE = 'application/vnd.bokehjs_exec.v0+json';\n  const CLASS_NAME = 'output_bokeh rendered_html';\n\n  /**\n   * Render data to the DOM node\n   */\n  function render(props, node) {\n    const script = document.createElement(\"script\");\n    node.appendChild(script);\n  }\n\n  /**\n   * Handle when an output is cleared or removed\n   */\n  function handleClearOutput(event, handle) {\n    function drop(id) {\n      const view = Bokeh.index.get_by_id(id)\n      if (view != null) {\n        view.model.document.clear()\n        Bokeh.index.delete(view)\n      }\n    }\n\n    const cell = handle.cell;\n\n    const id = cell.output_area._bokeh_element_id;\n    const server_id = cell.output_area._bokeh_server_id;\n\n    // Clean up Bokeh references\n    if (id != null) {\n      drop(id)\n    }\n\n    if (server_id !== undefined) {\n      // Clean up Bokeh references\n      const cmd_clean = \"from bokeh.io.state import curstate; print(curstate().uuid_to_server['\" + server_id + \"'].get_sessions()[0].document.roots[0]._id)\";\n      cell.notebook.kernel.execute(cmd_clean, {\n        iopub: {\n          output: function(msg) {\n            const id = msg.content.text.trim()\n            drop(id)\n          }\n        }\n      });\n      // Destroy server and session\n      const cmd_destroy = \"import bokeh.io.notebook as ion; ion.destroy_server('\" + server_id + \"')\";\n      cell.notebook.kernel.execute(cmd_destroy);\n    }\n  }\n\n  /**\n   * Handle when a new output is added\n   */\n  function handleAddOutput(event, handle) {\n    const output_area = handle.output_area;\n    const output = handle.output;\n\n    // limit handleAddOutput to display_data with EXEC_MIME_TYPE content only\n    if ((output.output_type != \"display_data\") || (!Object.prototype.hasOwnProperty.call(output.data, EXEC_MIME_TYPE))) {\n      return\n    }\n\n    const toinsert = output_area.element.find(\".\" + CLASS_NAME.split(' ')[0]);\n\n    if (output.metadata[EXEC_MIME_TYPE][\"id\"] !== undefined) {\n      toinsert[toinsert.length - 1].firstChild.textContent = output.data[JS_MIME_TYPE];\n      // store reference to embed id on output_area\n      output_area._bokeh_element_id = output.metadata[EXEC_MIME_TYPE][\"id\"];\n    }\n    if (output.metadata[EXEC_MIME_TYPE][\"server_id\"] !== undefined) {\n      const bk_div = document.createElement(\"div\");\n      bk_div.innerHTML = output.data[HTML_MIME_TYPE];\n      const script_attrs = bk_div.children[0].attributes;\n      for (let i = 0; i < script_attrs.length; i++) {\n        toinsert[toinsert.length - 1].firstChild.setAttribute(script_attrs[i].name, script_attrs[i].value);\n        toinsert[toinsert.length - 1].firstChild.textContent = bk_div.children[0].textContent\n      }\n      // store reference to server id on output_area\n      output_area._bokeh_server_id = output.metadata[EXEC_MIME_TYPE][\"server_id\"];\n    }\n  }\n\n  function register_renderer(events, OutputArea) {\n\n    function append_mime(data, metadata, element) {\n      // create a DOM node to render to\n      const toinsert = this.create_output_subarea(\n        metadata,\n        CLASS_NAME,\n        EXEC_MIME_TYPE\n      );\n      this.keyboard_manager.register_events(toinsert);\n      // Render to node\n      const props = {data: data, metadata: metadata[EXEC_MIME_TYPE]};\n      render(props, toinsert[toinsert.length - 1]);\n      element.append(toinsert);\n      return toinsert\n    }\n\n    /* Handle when an output is cleared or removed */\n    events.on('clear_output.CodeCell', handleClearOutput);\n    events.on('delete.Cell', handleClearOutput);\n\n    /* Handle when a new output is added */\n    events.on('output_added.OutputArea', handleAddOutput);\n\n    /**\n     * Register the mime type and append_mime function with output_area\n     */\n    OutputArea.prototype.register_mime_type(EXEC_MIME_TYPE, append_mime, {\n      /* Is output safe? */\n      safe: true,\n      /* Index of renderer in `output_area.display_order` */\n      index: 0\n    });\n  }\n\n  // register the mime type if in Jupyter Notebook environment and previously unregistered\n  if (root.Jupyter !== undefined) {\n    const events = require('base/js/events');\n    const OutputArea = require('notebook/js/outputarea').OutputArea;\n\n    if (OutputArea.prototype.mime_types().indexOf(EXEC_MIME_TYPE) == -1) {\n      register_renderer(events, OutputArea);\n    }\n  }\n  if (typeof (root._bokeh_timeout) === \"undefined\" || force === true) {\n    root._bokeh_timeout = Date.now() + 5000;\n    root._bokeh_failed_load = false;\n  }\n\n  const NB_LOAD_WARNING = {'data': {'text/html':\n     \"<div style='background-color: #fdd'>\\n\"+\n     \"<p>\\n\"+\n     \"BokehJS does not appear to have successfully loaded. If loading BokehJS from CDN, this \\n\"+\n     \"may be due to a slow or bad network connection. Possible fixes:\\n\"+\n     \"</p>\\n\"+\n     \"<ul>\\n\"+\n     \"<li>re-rerun `output_notebook()` to attempt to load from CDN again, or</li>\\n\"+\n     \"<li>use INLINE resources instead, as so:</li>\\n\"+\n     \"</ul>\\n\"+\n     \"<code>\\n\"+\n     \"from bokeh.resources import INLINE\\n\"+\n     \"output_notebook(resources=INLINE)\\n\"+\n     \"</code>\\n\"+\n     \"</div>\"}};\n\n  function display_loaded(error = null) {\n    const el = document.getElementById(\"ad0410a7-d8f3-419d-a096-5a0bad62dd9d\");\n    if (el != null) {\n      const html = (() => {\n        if (typeof root.Bokeh === \"undefined\") {\n          if (error == null) {\n            return \"BokehJS is loading ...\";\n          } else {\n            return \"BokehJS failed to load.\";\n          }\n        } else {\n          const prefix = `BokehJS ${root.Bokeh.version}`;\n          if (error == null) {\n            return `${prefix} successfully loaded.`;\n          } else {\n            return `${prefix} <b>encountered errors</b> while loading and may not function as expected.`;\n          }\n        }\n      })();\n      el.innerHTML = html;\n\n      if (error != null) {\n        const wrapper = document.createElement(\"div\");\n        wrapper.style.overflow = \"auto\";\n        wrapper.style.height = \"5em\";\n        wrapper.style.resize = \"vertical\";\n        const content = document.createElement(\"div\");\n        content.style.fontFamily = \"monospace\";\n        content.style.whiteSpace = \"pre-wrap\";\n        content.style.backgroundColor = \"rgb(255, 221, 221)\";\n        content.textContent = error.stack ?? error.toString();\n        wrapper.append(content);\n        el.append(wrapper);\n      }\n    } else if (Date.now() < root._bokeh_timeout) {\n      setTimeout(() => display_loaded(error), 100);\n    }\n  }\n\n  function run_callbacks() {\n    try {\n      root._bokeh_onload_callbacks.forEach(function(callback) {\n        if (callback != null)\n          callback();\n      });\n    } finally {\n      delete root._bokeh_onload_callbacks\n    }\n    console.debug(\"Bokeh: all callbacks have finished\");\n  }\n\n  function load_libs(css_urls, js_urls, callback) {\n    if (css_urls == null) css_urls = [];\n    if (js_urls == null) js_urls = [];\n\n    root._bokeh_onload_callbacks.push(callback);\n    if (root._bokeh_is_loading > 0) {\n      console.debug(\"Bokeh: BokehJS is being loaded, scheduling callback at\", now());\n      return null;\n    }\n    if (js_urls == null || js_urls.length === 0) {\n      run_callbacks();\n      return null;\n    }\n    console.debug(\"Bokeh: BokehJS not loaded, scheduling load and callback at\", now());\n    root._bokeh_is_loading = css_urls.length + js_urls.length;\n\n    function on_load() {\n      root._bokeh_is_loading--;\n      if (root._bokeh_is_loading === 0) {\n        console.debug(\"Bokeh: all BokehJS libraries/stylesheets loaded\");\n        run_callbacks()\n      }\n    }\n\n    function on_error(url) {\n      console.error(\"failed to load \" + url);\n    }\n\n    for (let i = 0; i < css_urls.length; i++) {\n      const url = css_urls[i];\n      const element = document.createElement(\"link\");\n      element.onload = on_load;\n      element.onerror = on_error.bind(null, url);\n      element.rel = \"stylesheet\";\n      element.type = \"text/css\";\n      element.href = url;\n      console.debug(\"Bokeh: injecting link tag for BokehJS stylesheet: \", url);\n      document.body.appendChild(element);\n    }\n\n    for (let i = 0; i < js_urls.length; i++) {\n      const url = js_urls[i];\n      const element = document.createElement('script');\n      element.onload = on_load;\n      element.onerror = on_error.bind(null, url);\n      element.async = false;\n      element.src = url;\n      console.debug(\"Bokeh: injecting script tag for BokehJS library: \", url);\n      document.head.appendChild(element);\n    }\n  };\n\n  function inject_raw_css(css) {\n    const element = document.createElement(\"style\");\n    element.appendChild(document.createTextNode(css));\n    document.body.appendChild(element);\n  }\n\n  const js_urls = [\"https://cdn.bokeh.org/bokeh/release/bokeh-3.4.1.min.js\", \"https://cdn.bokeh.org/bokeh/release/bokeh-gl-3.4.1.min.js\", \"https://cdn.bokeh.org/bokeh/release/bokeh-widgets-3.4.1.min.js\", \"https://cdn.bokeh.org/bokeh/release/bokeh-tables-3.4.1.min.js\", \"https://cdn.bokeh.org/bokeh/release/bokeh-mathjax-3.4.1.min.js\"];\n  const css_urls = [];\n\n  const inline_js = [    function(Bokeh) {\n      Bokeh.set_log_level(\"info\");\n    },\nfunction(Bokeh) {\n    }\n  ];\n\n  function run_inline_js() {\n    if (root.Bokeh !== undefined || force === true) {\n      try {\n            for (let i = 0; i < inline_js.length; i++) {\n      inline_js[i].call(root, root.Bokeh);\n    }\n\n      } catch (error) {display_loaded(error);throw error;\n      }if (force === true) {\n        display_loaded();\n      }} else if (Date.now() < root._bokeh_timeout) {\n      setTimeout(run_inline_js, 100);\n    } else if (!root._bokeh_failed_load) {\n      console.log(\"Bokeh: BokehJS failed to load within specified timeout.\");\n      root._bokeh_failed_load = true;\n    } else if (force !== true) {\n      const cell = $(document.getElementById(\"ad0410a7-d8f3-419d-a096-5a0bad62dd9d\")).parents('.cell').data().cell;\n      cell.output_area.append_execute_result(NB_LOAD_WARNING)\n    }\n  }\n\n  if (root._bokeh_is_loading === 0) {\n    console.debug(\"Bokeh: BokehJS loaded, going straight to plotting\");\n    run_inline_js();\n  } else {\n    load_libs(css_urls, js_urls, function() {\n      console.debug(\"Bokeh: BokehJS plotting callback run at\", now());\n      run_inline_js();\n    });\n  }\n}(window));",
      "application/vnd.bokehjs_load.v0+json": "'use strict';\n(function(root) {\n  function now() {\n    return new Date();\n  }\n\n  const force = true;\n\n  if (typeof root._bokeh_onload_callbacks === \"undefined\" || force === true) {\n    root._bokeh_onload_callbacks = [];\n    root._bokeh_is_loading = undefined;\n  }\n\n\n  if (typeof (root._bokeh_timeout) === \"undefined\" || force === true) {\n    root._bokeh_timeout = Date.now() + 5000;\n    root._bokeh_failed_load = false;\n  }\n\n  const NB_LOAD_WARNING = {'data': {'text/html':\n     \"<div style='background-color: #fdd'>\\n\"+\n     \"<p>\\n\"+\n     \"BokehJS does not appear to have successfully loaded. If loading BokehJS from CDN, this \\n\"+\n     \"may be due to a slow or bad network connection. Possible fixes:\\n\"+\n     \"</p>\\n\"+\n     \"<ul>\\n\"+\n     \"<li>re-rerun `output_notebook()` to attempt to load from CDN again, or</li>\\n\"+\n     \"<li>use INLINE resources instead, as so:</li>\\n\"+\n     \"</ul>\\n\"+\n     \"<code>\\n\"+\n     \"from bokeh.resources import INLINE\\n\"+\n     \"output_notebook(resources=INLINE)\\n\"+\n     \"</code>\\n\"+\n     \"</div>\"}};\n\n  function display_loaded(error = null) {\n    const el = document.getElementById(\"ad0410a7-d8f3-419d-a096-5a0bad62dd9d\");\n    if (el != null) {\n      const html = (() => {\n        if (typeof root.Bokeh === \"undefined\") {\n          if (error == null) {\n            return \"BokehJS is loading ...\";\n          } else {\n            return \"BokehJS failed to load.\";\n          }\n        } else {\n          const prefix = `BokehJS ${root.Bokeh.version}`;\n          if (error == null) {\n            return `${prefix} successfully loaded.`;\n          } else {\n            return `${prefix} <b>encountered errors</b> while loading and may not function as expected.`;\n          }\n        }\n      })();\n      el.innerHTML = html;\n\n      if (error != null) {\n        const wrapper = document.createElement(\"div\");\n        wrapper.style.overflow = \"auto\";\n        wrapper.style.height = \"5em\";\n        wrapper.style.resize = \"vertical\";\n        const content = document.createElement(\"div\");\n        content.style.fontFamily = \"monospace\";\n        content.style.whiteSpace = \"pre-wrap\";\n        content.style.backgroundColor = \"rgb(255, 221, 221)\";\n        content.textContent = error.stack ?? error.toString();\n        wrapper.append(content);\n        el.append(wrapper);\n      }\n    } else if (Date.now() < root._bokeh_timeout) {\n      setTimeout(() => display_loaded(error), 100);\n    }\n  }\n\n  function run_callbacks() {\n    try {\n      root._bokeh_onload_callbacks.forEach(function(callback) {\n        if (callback != null)\n          callback();\n      });\n    } finally {\n      delete root._bokeh_onload_callbacks\n    }\n    console.debug(\"Bokeh: all callbacks have finished\");\n  }\n\n  function load_libs(css_urls, js_urls, callback) {\n    if (css_urls == null) css_urls = [];\n    if (js_urls == null) js_urls = [];\n\n    root._bokeh_onload_callbacks.push(callback);\n    if (root._bokeh_is_loading > 0) {\n      console.debug(\"Bokeh: BokehJS is being loaded, scheduling callback at\", now());\n      return null;\n    }\n    if (js_urls == null || js_urls.length === 0) {\n      run_callbacks();\n      return null;\n    }\n    console.debug(\"Bokeh: BokehJS not loaded, scheduling load and callback at\", now());\n    root._bokeh_is_loading = css_urls.length + js_urls.length;\n\n    function on_load() {\n      root._bokeh_is_loading--;\n      if (root._bokeh_is_loading === 0) {\n        console.debug(\"Bokeh: all BokehJS libraries/stylesheets loaded\");\n        run_callbacks()\n      }\n    }\n\n    function on_error(url) {\n      console.error(\"failed to load \" + url);\n    }\n\n    for (let i = 0; i < css_urls.length; i++) {\n      const url = css_urls[i];\n      const element = document.createElement(\"link\");\n      element.onload = on_load;\n      element.onerror = on_error.bind(null, url);\n      element.rel = \"stylesheet\";\n      element.type = \"text/css\";\n      element.href = url;\n      console.debug(\"Bokeh: injecting link tag for BokehJS stylesheet: \", url);\n      document.body.appendChild(element);\n    }\n\n    for (let i = 0; i < js_urls.length; i++) {\n      const url = js_urls[i];\n      const element = document.createElement('script');\n      element.onload = on_load;\n      element.onerror = on_error.bind(null, url);\n      element.async = false;\n      element.src = url;\n      console.debug(\"Bokeh: injecting script tag for BokehJS library: \", url);\n      document.head.appendChild(element);\n    }\n  };\n\n  function inject_raw_css(css) {\n    const element = document.createElement(\"style\");\n    element.appendChild(document.createTextNode(css));\n    document.body.appendChild(element);\n  }\n\n  const js_urls = [\"https://cdn.bokeh.org/bokeh/release/bokeh-3.4.1.min.js\", \"https://cdn.bokeh.org/bokeh/release/bokeh-gl-3.4.1.min.js\", \"https://cdn.bokeh.org/bokeh/release/bokeh-widgets-3.4.1.min.js\", \"https://cdn.bokeh.org/bokeh/release/bokeh-tables-3.4.1.min.js\", \"https://cdn.bokeh.org/bokeh/release/bokeh-mathjax-3.4.1.min.js\"];\n  const css_urls = [];\n\n  const inline_js = [    function(Bokeh) {\n      Bokeh.set_log_level(\"info\");\n    },\nfunction(Bokeh) {\n    }\n  ];\n\n  function run_inline_js() {\n    if (root.Bokeh !== undefined || force === true) {\n      try {\n            for (let i = 0; i < inline_js.length; i++) {\n      inline_js[i].call(root, root.Bokeh);\n    }\n\n      } catch (error) {display_loaded(error);throw error;\n      }if (force === true) {\n        display_loaded();\n      }} else if (Date.now() < root._bokeh_timeout) {\n      setTimeout(run_inline_js, 100);\n    } else if (!root._bokeh_failed_load) {\n      console.log(\"Bokeh: BokehJS failed to load within specified timeout.\");\n      root._bokeh_failed_load = true;\n    } else if (force !== true) {\n      const cell = $(document.getElementById(\"ad0410a7-d8f3-419d-a096-5a0bad62dd9d\")).parents('.cell').data().cell;\n      cell.output_area.append_execute_result(NB_LOAD_WARNING)\n    }\n  }\n\n  if (root._bokeh_is_loading === 0) {\n    console.debug(\"Bokeh: BokehJS loaded, going straight to plotting\");\n    run_inline_js();\n  } else {\n    load_libs(css_urls, js_urls, function() {\n      console.debug(\"Bokeh: BokehJS plotting callback run at\", now());\n      run_inline_js();\n    });\n  }\n}(window));"
     },
     "metadata": {},
     "output_type": "display_data"
    }
   ],
   "execution_count": 9
  },
  {
   "metadata": {
    "ExecuteTime": {
     "end_time": "2025-01-23T17:25:56.721052Z",
     "start_time": "2025-01-23T17:25:56.716772Z"
    }
   },
   "cell_type": "code",
   "source": [
    "# CALCULATOR DEFINITION\n",
    "\n",
    "def T_alpha_calc(alpha,  # maximum deviation from assumed inducer level, % of pulse concentration u_max\n",
    "            l,  # length of tubing between the valve and the microfluidic chip, cm\n",
    "            V,  # volume of 1 cm of tubing, uL\n",
    "            nu,  # flow rate of the medium through the tubing, uL/min\n",
    "            D,  # diffusion coefficient of the inducer, cm^2/min\n",
    "            r_alpha_calc    # function for finding r_alpha - depends on the bound we set\n",
    "            ):\n",
    "    # get the Lambda value\n",
    "    Lambda = 0.5*np.pi*(alpha/100)\n",
    "\n",
    "    # get the r_alpha value\n",
    "    r_alpha = r_alpha_calc(Lambda)\n",
    "\n",
    "    # get the T_alpha\n",
    "    T_alpha = np.sqrt(-((np.pi**2) * l * (V**3) * D) /\n",
    "                      ((nu**3) * np.log(r_alpha)))\n",
    "\n",
    "    # return the calculated T_alpha\n",
    "    return T_alpha\n",
    "\n",
    "# algebraic calculation of r_alpha, based on a very lenient bound\n",
    "def r_alpha_algebraic(Lambda):\n",
    "    return Lambda/(Lambda+1)\n",
    "\n",
    "# a tighter bound on r_alpha, based on a numerical solution\n",
    "def r_alpha_numerical(Lambda, func_for_root):\n",
    "    func_for_root_of_r_alpha = lambda r_alpha: func_for_root(r_alpha, Lambda)\n",
    "\n",
    "    # define an interval to search for the root\n",
    "    r_alpha_lower_bound = 0 # will have func<0\n",
    "    r_alpha_upper_bound = 0.99 # we need to consider the (0,1) interval, but at 1 the function is infinite => get some value close to 1 with func>0\n",
    "    while(func_for_root_of_r_alpha(r_alpha_upper_bound)<=0):   # scan values 1-1e(-n) until we find a value where func>0\n",
    "        r_alpha_upper_bound = 1-0.1*(1-r_alpha_upper_bound)\n",
    "\n",
    "    # find the root\n",
    "    threshold_problem = jaxopt.Bisection(optimality_fun=func_for_root_of_r_alpha,\n",
    "                                         lower=r_alpha_lower_bound, upper=r_alpha_upper_bound,\n",
    "                                         maxiter=10000, tol=1e-18,\n",
    "                                         check_bracket=False)\n",
    "    r_alpha = (threshold_problem.run()).params\n",
    "\n",
    "    return r_alpha"
   ],
   "id": "f2ea9bcb647d22ce",
   "outputs": [],
   "execution_count": 10
  },
  {
   "metadata": {
    "ExecuteTime": {
     "end_time": "2025-01-23T17:25:56.787405Z",
     "start_time": "2025-01-23T17:25:56.783787Z"
    }
   },
   "cell_type": "code",
   "source": [
    "# BEST-ACHIEVABLE RESOLUTION FINDER\n",
    "\n",
    "def alpha_best_calc(l,  # length of tubing between the valve and the microfluidic chip, cm\n",
    "            V,  # volume of 1 cm of tubing, uL\n",
    "            nu,  # flow rate of the medium through the tubing, uL/min\n",
    "            D,  # diffusion coefficient of the inducer, cm^2/min\n",
    "            r_alpha_calc,    # function for finding r_alpha - depends on the bound we set\n",
    "            alpha_values = np.linspace(50, 0.25, 200)    # values of alpha to sweep through\n",
    "            ):\n",
    "    for i in range(0, len(alpha_values)):\n",
    "        T_alpha = T_alpha_calc(alpha_values_fine[j], l, V, nu, D, r_alpha_calc)\n",
    "        rho_alpha = 100*DT/T_alpha   # finest resolution, % of u_max\n",
    "        if(rho_alpha<=alpha_values[i]):\n",
    "            alpha_best = alpha_values[i]\n",
    "        else:\n",
    "            break\n",
    "    return alpha_best"
   ],
   "id": "a54a464b016a9b11",
   "outputs": [],
   "execution_count": 11
  },
  {
   "metadata": {
    "ExecuteTime": {
     "end_time": "2025-01-23T17:25:56.846595Z",
     "start_time": "2025-01-23T17:25:56.843381Z"
    }
   },
   "cell_type": "code",
   "source": [
    "# DEFINE PARAMETERS\n",
    "\n",
    "# get the volume of 1 cm of tubing, uL\n",
    "internal_diameter_in = 1/32  # internal diameter of the tubing in inches\n",
    "internal_radius_m = internal_diameter_in * 0.0254 / 2  # internal radius in metres\n",
    "volume_per_cm_m3 = np.pi * (internal_radius_m**2) /100  # volume of 1 cm of tubing in m^3\n",
    "V = volume_per_cm_m3 * 1e9  # volume of 1 cm of tubing in uL\n",
    "print(f\"Volume of 1 cm of tubing: {V} uL\")\n",
    "\n",
    "# set the flow rate of the medium through the tubing, uL/min\n",
    "nu = 20  # uL/min - common cruise flow rate\n",
    "print(f\"Flow rate of the medium through the tubing: {nu} uL/min\")\n",
    "\n",
    "# set the diffusion coefficient of the inducer, cm^2/min\n",
    "D_cm2_s = 8.8e-6  # cm^2/s - diffusion coefficient of inducer in water at 37C\n",
    "D = D_cm2_s * 60  # diffusion coefficient in cm^2/min\n",
    "print(f\"Diffusion coefficient of the inducer: {D} cm^2/min\")\n"
   ],
   "id": "29ea6778a4f0ab7",
   "outputs": [
    {
     "name": "stdout",
     "output_type": "stream",
     "text": [
      "Volume of 1 cm of tubing: 4.948315225561501 uL\n",
      "Flow rate of the medium through the tubing: 20 uL/min\n",
      "Diffusion coefficient of the inducer: 0.000528 cm^2/min\n"
     ]
    }
   ],
   "execution_count": 12
  },
  {
   "metadata": {
    "ExecuteTime": {
     "end_time": "2025-01-23T17:25:56.897091Z",
     "start_time": "2025-01-23T17:25:56.893951Z"
    }
   },
   "cell_type": "code",
   "source": [
    "# CALCULATE T_ALPHA for given l values\n",
    "\n",
    "# set the maximum deviation from the assumed inducer level, % of pulse concentration u_max\n",
    "alpha = 5\n",
    "\n",
    "# set the range of l values to consider\n",
    "l_values = np.linspace(10, 100, 9)\n",
    "control_delays = l_values*V/nu   # control delays associated with the tubing lengths\n",
    "\n",
    "# set the alpha values to consider\n",
    "alpha_values =[10, 5, 1]\n",
    "\n",
    "# define how we calculate r_alpha\n",
    "# func_for_root_r_alpha_numerical = lambda r_alpha, Lambda: (r_alpha+0.5*r_alpha**2/(1-r_alpha**2))-Lambda\n",
    "# r_alpha_calc = lambda Lambda: r_alpha_numerical(Lambda,func_for_root_r_alpha_numerical)\n",
    "r_alpha_calc = r_alpha_algebraic\n",
    "\n",
    "# find the T_alpha values for the given l and alpha values\n",
    "T_alphas=np.zeros((len(alpha_values), len(l_values)))    # initialise\n",
    "for i in range(0, len(alpha_values)):\n",
    "    for j in range(0, len(l_values)):\n",
    "        T_alphas[i,j] = T_alpha_calc(alpha_values[i], l_values[j], V, nu, D, r_alpha_calc)*60\n"
   ],
   "id": "c68216af3f839812",
   "outputs": [],
   "execution_count": 13
  },
  {
   "metadata": {
    "ExecuteTime": {
     "end_time": "2025-01-23T17:25:56.983327Z",
     "start_time": "2025-01-23T17:25:56.945488Z"
    }
   },
   "cell_type": "code",
   "source": [
    "# PLOT T_ALPHAS\n",
    "\n",
    "# the range of T_alpha values\n",
    "T_alpha_range = (0.75*np.min(T_alphas), 1.25 * np.max(T_alphas))\n",
    "\n",
    "# initialise\n",
    "T_alpha_fig = bkplot.figure(\n",
    "    frame_width=240,\n",
    "    frame_height=180,\n",
    "    x_range=(l_values[0], l_values[-1]),\n",
    "    y_range=T_alpha_range,\n",
    "    x_axis_label=\"Tubing length l, cm\",\n",
    "    y_axis_label=\"T_α%, s\",\n",
    "    y_axis_type=\"log\",\n",
    "    tools=\"box_zoom,pan,hover,reset,save\"\n",
    ")\n",
    "# set svg backend\n",
    "T_alpha_fig.output_backend = \"svg\"\n",
    "\n",
    "# plot the cat protein concentrations\n",
    "for i in range(0, len(alpha_values)):\n",
    "    T_alpha_fig.line(l_values,T_alphas[i,:], line_width=2, legend_label=f\"T_{alpha_values[i]}%\",\n",
    "             line_color=bkpalettes.Plasma5[i])\n",
    "\n",
    "# create an extra x range for plotting integrase protein concentrations\n",
    "T_alpha_fig.extra_x_ranges = {\"t~\": bkmodels.Range1d(start=control_delays[0], end=control_delays[-1])}\n",
    "T_alpha_fig.add_layout(bkmodels.LinearAxis(x_range_name=\"t~\", axis_label=\"Control delay 𝜏, min\"), 'above')  # add the alternative axis\n",
    "\n",
    "# create an extra y range for seconds as time units\n",
    "DT=0.5\n",
    "T_alpha_fig.extra_y_ranges = {\"s\": bkmodels.Range1d(start=DT/T_alpha_range[0]*100, end=DT/T_alpha_range[1]*100)}\n",
    "T_alpha_fig.add_layout(bkmodels.LinearAxis(y_range_name=\"s\", axis_label=\"PWM resolution, % of u_max\"), 'right')  # add the alternative axis\n",
    "\n",
    "# add legend\n",
    "T_alpha_fig.legend.location = \"bottom\"\n",
    "T_alpha_fig.legend.orientation = \"horizontal\"\n",
    "T_alpha_fig.legend.label_text_font_size=\"8pt\"\n",
    "T_alpha_fig.legend.glyph_width = 8\n",
    "T_alpha_fig.legend.spacing = 10\n",
    "T_alpha_fig.legend.padding = 2\n",
    "T_alpha_fig.legend.margin = 2\n",
    "\n",
    "\n",
    "# set fonts\n",
    "T_alpha_fig.xaxis.axis_label_text_font_size = \"8pt\"\n",
    "T_alpha_fig.xaxis.major_label_text_font_size = \"8pt\"\n",
    "T_alpha_fig.yaxis.axis_label_text_font_size = \"8pt\"\n",
    "T_alpha_fig.yaxis.major_label_text_font_size = \"8pt\"\n",
    "\n",
    "# show plots\n",
    "bkplot.show(T_alpha_fig)"
   ],
   "id": "b57577d71a663a3e",
   "outputs": [
    {
     "data": {
      "text/html": [
       "\n",
       "  <div id=\"c4edee2c-c060-4bf8-9c51-9b5c3b327ce3\" data-root-id=\"p1167\" style=\"display: contents;\"></div>\n"
      ]
     },
     "metadata": {},
     "output_type": "display_data"
    },
    {
     "data": {
      "application/javascript": "(function(root) {\n  function embed_document(root) {\n  const docs_json = {\"6c657318-379f-4ce8-b312-5af7392de562\":{\"version\":\"3.4.1\",\"title\":\"Bokeh Application\",\"roots\":[{\"type\":\"object\",\"name\":\"Figure\",\"id\":\"p1167\",\"attributes\":{\"x_range\":{\"type\":\"object\",\"name\":\"Range1d\",\"id\":\"p1176\",\"attributes\":{\"start\":10.0,\"end\":100.0}},\"y_range\":{\"type\":\"object\",\"name\":\"Range1d\",\"id\":\"p1177\",\"attributes\":{\"start\":0.6191493404606919,\"end\":4.715098847775126}},\"x_scale\":{\"type\":\"object\",\"name\":\"LinearScale\",\"id\":\"p1178\"},\"y_scale\":{\"type\":\"object\",\"name\":\"LogScale\",\"id\":\"p1179\"},\"extra_x_ranges\":{\"type\":\"map\",\"entries\":[[\"t~\",{\"type\":\"object\",\"name\":\"Range1d\",\"id\":\"p1231\",\"attributes\":{\"start\":2.4741576127807505,\"end\":24.741576127807505}}]]},\"extra_y_ranges\":{\"type\":\"map\",\"entries\":[[\"s\",{\"type\":\"object\",\"name\":\"Range1d\",\"id\":\"p1236\",\"attributes\":{\"start\":80.75596101385875,\"end\":10.604231557858661}}]]},\"title\":{\"type\":\"object\",\"name\":\"Title\",\"id\":\"p1174\"},\"renderers\":[{\"type\":\"object\",\"name\":\"GlyphRenderer\",\"id\":\"p1206\",\"attributes\":{\"data_source\":{\"type\":\"object\",\"name\":\"ColumnDataSource\",\"id\":\"p1200\",\"attributes\":{\"selected\":{\"type\":\"object\",\"name\":\"Selection\",\"id\":\"p1201\",\"attributes\":{\"indices\":[],\"line_indices\":[]}},\"selection_policy\":{\"type\":\"object\",\"name\":\"UnionRenderers\",\"id\":\"p1202\"},\"data\":{\"type\":\"map\",\"entries\":[[\"x\",{\"type\":\"ndarray\",\"array\":{\"type\":\"bytes\",\"data\":\"AAAAAAAAJEAAAAAAAEA1QAAAAAAAQEBAAAAAAADgRUAAAAAAAIBLQAAAAAAAkFBAAAAAAABgU0AAAAAAADBWQAAAAAAAAFlA\"},\"shape\":[9],\"dtype\":\"float64\",\"order\":\"little\"}],[\"y\",{\"type\":\"ndarray\",\"array\":{\"type\":\"bytes\",\"data\":\"SoM2WdsV8z/lCpONTNL7P7wk0UQNNAFAK7OGWsD1A0AB9MPKLGEGQCKq6zHfjwhA7maqK9OQCkAzdM2Dtm0MQJwMt8s3LQ5A\"},\"shape\":[9],\"dtype\":\"float64\",\"order\":\"little\"}]]}}},\"view\":{\"type\":\"object\",\"name\":\"CDSView\",\"id\":\"p1207\",\"attributes\":{\"filter\":{\"type\":\"object\",\"name\":\"AllIndices\",\"id\":\"p1208\"}}},\"glyph\":{\"type\":\"object\",\"name\":\"Line\",\"id\":\"p1203\",\"attributes\":{\"x\":{\"type\":\"field\",\"field\":\"x\"},\"y\":{\"type\":\"field\",\"field\":\"y\"},\"line_color\":\"#0C0786\",\"line_width\":2}},\"nonselection_glyph\":{\"type\":\"object\",\"name\":\"Line\",\"id\":\"p1204\",\"attributes\":{\"x\":{\"type\":\"field\",\"field\":\"x\"},\"y\":{\"type\":\"field\",\"field\":\"y\"},\"line_color\":\"#0C0786\",\"line_alpha\":0.1,\"line_width\":2}},\"muted_glyph\":{\"type\":\"object\",\"name\":\"Line\",\"id\":\"p1205\",\"attributes\":{\"x\":{\"type\":\"field\",\"field\":\"x\"},\"y\":{\"type\":\"field\",\"field\":\"y\"},\"line_color\":\"#0C0786\",\"line_alpha\":0.2,\"line_width\":2}}}},{\"type\":\"object\",\"name\":\"GlyphRenderer\",\"id\":\"p1217\",\"attributes\":{\"data_source\":{\"type\":\"object\",\"name\":\"ColumnDataSource\",\"id\":\"p1211\",\"attributes\":{\"selected\":{\"type\":\"object\",\"name\":\"Selection\",\"id\":\"p1212\",\"attributes\":{\"indices\":[],\"line_indices\":[]}},\"selection_policy\":{\"type\":\"object\",\"name\":\"UnionRenderers\",\"id\":\"p1213\"},\"data\":{\"type\":\"map\",\"entries\":[[\"x\",{\"type\":\"ndarray\",\"array\":{\"type\":\"bytes\",\"data\":\"AAAAAAAAJEAAAAAAAEA1QAAAAAAAQEBAAAAAAADgRUAAAAAAAIBLQAAAAAAAkFBAAAAAAABgU0AAAAAAADBWQAAAAAAAAFlA\"},\"shape\":[9],\"dtype\":\"float64\",\"order\":\"little\"}],[\"y\",{\"type\":\"ndarray\",\"array\":{\"type\":\"bytes\",\"data\":\"eJGdsK6p8D8h2wRIP0r4PzURoHoRCv4/ly6eTChtAUCnyFW69IkDQECLYmu8cQVAsj5YHpQxB0B/qKsb79EIQGprSNSiWApA\"},\"shape\":[9],\"dtype\":\"float64\",\"order\":\"little\"}]]}}},\"view\":{\"type\":\"object\",\"name\":\"CDSView\",\"id\":\"p1218\",\"attributes\":{\"filter\":{\"type\":\"object\",\"name\":\"AllIndices\",\"id\":\"p1219\"}}},\"glyph\":{\"type\":\"object\",\"name\":\"Line\",\"id\":\"p1214\",\"attributes\":{\"x\":{\"type\":\"field\",\"field\":\"x\"},\"y\":{\"type\":\"field\",\"field\":\"y\"},\"line_color\":\"#7C02A7\",\"line_width\":2}},\"nonselection_glyph\":{\"type\":\"object\",\"name\":\"Line\",\"id\":\"p1215\",\"attributes\":{\"x\":{\"type\":\"field\",\"field\":\"x\"},\"y\":{\"type\":\"field\",\"field\":\"y\"},\"line_color\":\"#7C02A7\",\"line_alpha\":0.1,\"line_width\":2}},\"muted_glyph\":{\"type\":\"object\",\"name\":\"Line\",\"id\":\"p1216\",\"attributes\":{\"x\":{\"type\":\"field\",\"field\":\"x\"},\"y\":{\"type\":\"field\",\"field\":\"y\"},\"line_color\":\"#7C02A7\",\"line_alpha\":0.2,\"line_width\":2}}}},{\"type\":\"object\",\"name\":\"GlyphRenderer\",\"id\":\"p1227\",\"attributes\":{\"data_source\":{\"type\":\"object\",\"name\":\"ColumnDataSource\",\"id\":\"p1221\",\"attributes\":{\"selected\":{\"type\":\"object\",\"name\":\"Selection\",\"id\":\"p1222\",\"attributes\":{\"indices\":[],\"line_indices\":[]}},\"selection_policy\":{\"type\":\"object\",\"name\":\"UnionRenderers\",\"id\":\"p1223\"},\"data\":{\"type\":\"map\",\"entries\":[[\"x\",{\"type\":\"ndarray\",\"array\":{\"type\":\"bytes\",\"data\":\"AAAAAAAAJEAAAAAAAEA1QAAAAAAAQEBAAAAAAADgRUAAAAAAAIBLQAAAAAAAkFBAAAAAAABgU0AAAAAAADBWQAAAAAAAAFlA\"},\"shape\":[9],\"dtype\":\"float64\",\"order\":\"little\"}],[\"y\",{\"type\":\"ndarray\",\"array\":{\"type\":\"bytes\",\"data\":\"jLpvCcNq6j9u4+PZKkHzP2fGqgTfz/c/UNH/Z6qg+z+oDW2MCvr+P/GMY1Gu/wBAENAh3a5iAkBxJ8G7uawDQEDRw8Ru4gRA\"},\"shape\":[9],\"dtype\":\"float64\",\"order\":\"little\"}]]}}},\"view\":{\"type\":\"object\",\"name\":\"CDSView\",\"id\":\"p1228\",\"attributes\":{\"filter\":{\"type\":\"object\",\"name\":\"AllIndices\",\"id\":\"p1229\"}}},\"glyph\":{\"type\":\"object\",\"name\":\"Line\",\"id\":\"p1224\",\"attributes\":{\"x\":{\"type\":\"field\",\"field\":\"x\"},\"y\":{\"type\":\"field\",\"field\":\"y\"},\"line_color\":\"#CA4678\",\"line_width\":2}},\"nonselection_glyph\":{\"type\":\"object\",\"name\":\"Line\",\"id\":\"p1225\",\"attributes\":{\"x\":{\"type\":\"field\",\"field\":\"x\"},\"y\":{\"type\":\"field\",\"field\":\"y\"},\"line_color\":\"#CA4678\",\"line_alpha\":0.1,\"line_width\":2}},\"muted_glyph\":{\"type\":\"object\",\"name\":\"Line\",\"id\":\"p1226\",\"attributes\":{\"x\":{\"type\":\"field\",\"field\":\"x\"},\"y\":{\"type\":\"field\",\"field\":\"y\"},\"line_color\":\"#CA4678\",\"line_alpha\":0.2,\"line_width\":2}}}}],\"toolbar\":{\"type\":\"object\",\"name\":\"Toolbar\",\"id\":\"p1175\",\"attributes\":{\"tools\":[{\"type\":\"object\",\"name\":\"BoxZoomTool\",\"id\":\"p1190\",\"attributes\":{\"overlay\":{\"type\":\"object\",\"name\":\"BoxAnnotation\",\"id\":\"p1191\",\"attributes\":{\"syncable\":false,\"level\":\"overlay\",\"visible\":false,\"left\":{\"type\":\"number\",\"value\":\"nan\"},\"right\":{\"type\":\"number\",\"value\":\"nan\"},\"top\":{\"type\":\"number\",\"value\":\"nan\"},\"bottom\":{\"type\":\"number\",\"value\":\"nan\"},\"left_units\":\"canvas\",\"right_units\":\"canvas\",\"top_units\":\"canvas\",\"bottom_units\":\"canvas\",\"line_color\":\"black\",\"line_alpha\":1.0,\"line_width\":2,\"line_dash\":[4,4],\"fill_color\":\"lightgrey\",\"fill_alpha\":0.5}}}},{\"type\":\"object\",\"name\":\"PanTool\",\"id\":\"p1196\"},{\"type\":\"object\",\"name\":\"HoverTool\",\"id\":\"p1197\",\"attributes\":{\"renderers\":\"auto\"}},{\"type\":\"object\",\"name\":\"ResetTool\",\"id\":\"p1198\"},{\"type\":\"object\",\"name\":\"SaveTool\",\"id\":\"p1199\"}]}},\"left\":[{\"type\":\"object\",\"name\":\"LogAxis\",\"id\":\"p1185\",\"attributes\":{\"ticker\":{\"type\":\"object\",\"name\":\"LogTicker\",\"id\":\"p1186\",\"attributes\":{\"num_minor_ticks\":10,\"mantissas\":[1,5]}},\"formatter\":{\"type\":\"object\",\"name\":\"LogTickFormatter\",\"id\":\"p1187\"},\"axis_label\":\"T_\\u03b1%, s\",\"axis_label_text_font_size\":\"8pt\",\"major_label_policy\":{\"type\":\"object\",\"name\":\"AllLabels\",\"id\":\"p1188\"},\"major_label_text_font_size\":\"8pt\"}}],\"right\":[{\"type\":\"object\",\"name\":\"LinearAxis\",\"id\":\"p1237\",\"attributes\":{\"y_range_name\":\"s\",\"ticker\":{\"type\":\"object\",\"name\":\"BasicTicker\",\"id\":\"p1238\",\"attributes\":{\"mantissas\":[1,2,5]}},\"formatter\":{\"type\":\"object\",\"name\":\"BasicTickFormatter\",\"id\":\"p1239\"},\"axis_label\":\"PWM resolution, % of u_max\",\"axis_label_text_font_size\":\"8pt\",\"major_label_policy\":{\"type\":\"object\",\"name\":\"AllLabels\",\"id\":\"p1240\"},\"major_label_text_font_size\":\"8pt\"}}],\"above\":[{\"type\":\"object\",\"name\":\"LinearAxis\",\"id\":\"p1232\",\"attributes\":{\"x_range_name\":\"t~\",\"ticker\":{\"type\":\"object\",\"name\":\"BasicTicker\",\"id\":\"p1233\",\"attributes\":{\"mantissas\":[1,2,5]}},\"formatter\":{\"type\":\"object\",\"name\":\"BasicTickFormatter\",\"id\":\"p1234\"},\"axis_label\":\"Control delay \\ud835\\udf0f, min\",\"axis_label_text_font_size\":\"8pt\",\"major_label_policy\":{\"type\":\"object\",\"name\":\"AllLabels\",\"id\":\"p1235\"},\"major_label_text_font_size\":\"8pt\"}}],\"below\":[{\"type\":\"object\",\"name\":\"LinearAxis\",\"id\":\"p1180\",\"attributes\":{\"ticker\":{\"type\":\"object\",\"name\":\"BasicTicker\",\"id\":\"p1181\",\"attributes\":{\"mantissas\":[1,2,5]}},\"formatter\":{\"type\":\"object\",\"name\":\"BasicTickFormatter\",\"id\":\"p1182\"},\"axis_label\":\"Tubing length l, cm\",\"axis_label_text_font_size\":\"8pt\",\"major_label_policy\":{\"type\":\"object\",\"name\":\"AllLabels\",\"id\":\"p1183\"},\"major_label_text_font_size\":\"8pt\"}}],\"center\":[{\"type\":\"object\",\"name\":\"Grid\",\"id\":\"p1184\",\"attributes\":{\"axis\":{\"id\":\"p1180\"}}},{\"type\":\"object\",\"name\":\"Grid\",\"id\":\"p1189\",\"attributes\":{\"dimension\":1,\"axis\":{\"id\":\"p1185\"}}},{\"type\":\"object\",\"name\":\"Legend\",\"id\":\"p1209\",\"attributes\":{\"location\":\"bottom\",\"orientation\":\"horizontal\",\"label_text_font_size\":\"8pt\",\"glyph_width\":8,\"margin\":2,\"padding\":2,\"spacing\":10,\"items\":[{\"type\":\"object\",\"name\":\"LegendItem\",\"id\":\"p1210\",\"attributes\":{\"label\":{\"type\":\"value\",\"value\":\"T_10%\"},\"renderers\":[{\"id\":\"p1206\"}]}},{\"type\":\"object\",\"name\":\"LegendItem\",\"id\":\"p1220\",\"attributes\":{\"label\":{\"type\":\"value\",\"value\":\"T_5%\"},\"renderers\":[{\"id\":\"p1217\"}]}},{\"type\":\"object\",\"name\":\"LegendItem\",\"id\":\"p1230\",\"attributes\":{\"label\":{\"type\":\"value\",\"value\":\"T_1%\"},\"renderers\":[{\"id\":\"p1227\"}]}}]}}],\"frame_width\":240,\"frame_height\":180,\"output_backend\":\"svg\"}}]}};\n  const render_items = [{\"docid\":\"6c657318-379f-4ce8-b312-5af7392de562\",\"roots\":{\"p1167\":\"c4edee2c-c060-4bf8-9c51-9b5c3b327ce3\"},\"root_ids\":[\"p1167\"]}];\n  void root.Bokeh.embed.embed_items_notebook(docs_json, render_items);\n  }\n  if (root.Bokeh !== undefined) {\n    embed_document(root);\n  } else {\n    let attempts = 0;\n    const timer = setInterval(function(root) {\n      if (root.Bokeh !== undefined) {\n        clearInterval(timer);\n        embed_document(root);\n      } else {\n        attempts++;\n        if (attempts > 100) {\n          clearInterval(timer);\n          console.log(\"Bokeh: ERROR: Unable to run BokehJS code because BokehJS library is missing\");\n        }\n      }\n    }, 10, root)\n  }\n})(window);",
      "application/vnd.bokehjs_exec.v0+json": ""
     },
     "metadata": {
      "application/vnd.bokehjs_exec.v0+json": {
       "id": "p1167"
      }
     },
     "output_type": "display_data"
    }
   ],
   "execution_count": 14
  },
  {
   "metadata": {
    "ExecuteTime": {
     "end_time": "2025-01-23T17:25:57.023648Z",
     "start_time": "2025-01-23T17:25:57.017664Z"
    }
   },
   "cell_type": "code",
   "source": [
    "# GET THE FINEST ACHIEVABLE PWM INPUT RESOLUTION\n",
    "\n",
    "# set the minimum time between switchings\n",
    "DT=1/120  # 1/120 min = 0.5 s\n",
    "\n",
    "# set the fine grid of alpha values to consider\n",
    "alpha_values_fine = np.logspace(np.log10(50), -1, 1000) # fine grid of alpha values\n",
    "\n",
    "# for every l value, find minimum alpha for which DT/T_alpha<=alpha\n",
    "alpha_bests = np.zeros(len(l_values))  # initialise\n",
    "for i in range(0, len(l_values)):\n",
    "    alpha_bests[i] = alpha_best_calc(l_values[i], V, nu, D, r_alpha_calc, alpha_values_fine)"
   ],
   "id": "76b5802ddc6ae8f7",
   "outputs": [],
   "execution_count": 15
  },
  {
   "metadata": {
    "ExecuteTime": {
     "end_time": "2025-01-23T17:25:57.119275Z",
     "start_time": "2025-01-23T17:25:57.083837Z"
    }
   },
   "cell_type": "code",
   "source": [
    "# PLOT THE FINEST ACHIEVABLE PWM INPUT RESOLUTIONS\n",
    "\n",
    "# numbers of inputs to consider\n",
    "numbers_of_concs = [2, 3, 6, 12]\n",
    "\n",
    "# initialise\n",
    "alpha_best_fig = bkplot.figure(\n",
    "    frame_width=240,\n",
    "    frame_height=180,\n",
    "    x_range=(l_values[0], l_values[-1]),\n",
    "    x_axis_label=\"Tubing length l, cm\",\n",
    "    y_axis_label=\"Best resolution α_best, % of u_max\",\n",
    "    tools=\"box_zoom,pan,hover,reset,save\"\n",
    ")\n",
    "# set svg backend\n",
    "alpha_best_fig.output_backend = \"svg\"\n",
    "\n",
    "# plot the cat protein concentrations\n",
    "for i in range(0, len(numbers_of_concs)):\n",
    "    alpha_best_fig.line(l_values, alpha_bests/(numbers_of_concs[i]-1),\n",
    "                        line_width=2, legend_label=f\"{numbers_of_concs[i]}\", line_color=bkpalettes.Plasma5[i])\n",
    "\n",
    "# create an extra x range for plotting integrase protein concentrations\n",
    "alpha_best_fig.extra_x_ranges = {\"t~\": bkmodels.Range1d(start=control_delays[0], end=control_delays[-1])}\n",
    "alpha_best_fig.add_layout(bkmodels.LinearAxis(x_range_name=\"t~\", axis_label=\"Control delay 𝜏, min\"), 'above')  # add the alternative axis\n",
    "\n",
    "# set fonts\n",
    "alpha_best_fig.xaxis.axis_label_text_font_size = \"8pt\"\n",
    "alpha_best_fig.xaxis.major_label_text_font_size = \"8pt\"\n",
    "alpha_best_fig.yaxis.axis_label_text_font_size = \"8pt\"\n",
    "alpha_best_fig.yaxis.major_label_text_font_size = \"8pt\"\n",
    "\n",
    "# # add legend\n",
    "alpha_best_fig.legend.location = \"top_right\"\n",
    "alpha_best_fig.legend.title_text_font_size=\"8pt\"\n",
    "alpha_best_fig.legend.label_text_font_size=\"8pt\"\n",
    "alpha_best_fig.legend.title='Sources:'\n",
    "alpha_best_fig.legend.glyph_width = 15\n",
    "alpha_best_fig.legend.spacing = 2\n",
    "alpha_best_fig.legend.padding = 2\n",
    "alpha_best_fig.legend.margin = 2\n",
    "alpha_best_fig.legend.label_text_align = 'center'\n",
    "\n",
    "# show plots\n",
    "bkplot.show(alpha_best_fig)\n"
   ],
   "id": "83a3b9a96f28588",
   "outputs": [
    {
     "data": {
      "text/html": [
       "\n",
       "  <div id=\"d8ea47bb-c5aa-46e4-bb09-45d7f0982c91\" data-root-id=\"p1247\" style=\"display: contents;\"></div>\n"
      ]
     },
     "metadata": {},
     "output_type": "display_data"
    },
    {
     "data": {
      "application/javascript": "(function(root) {\n  function embed_document(root) {\n  const docs_json = {\"2f12858a-ab64-45c6-8906-e5643d9cce4f\":{\"version\":\"3.4.1\",\"title\":\"Bokeh Application\",\"roots\":[{\"type\":\"object\",\"name\":\"Figure\",\"id\":\"p1247\",\"attributes\":{\"x_range\":{\"type\":\"object\",\"name\":\"Range1d\",\"id\":\"p1256\",\"attributes\":{\"start\":10.0,\"end\":100.0}},\"y_range\":{\"type\":\"object\",\"name\":\"DataRange1d\",\"id\":\"p1249\"},\"x_scale\":{\"type\":\"object\",\"name\":\"LinearScale\",\"id\":\"p1257\"},\"y_scale\":{\"type\":\"object\",\"name\":\"LinearScale\",\"id\":\"p1258\"},\"extra_x_ranges\":{\"type\":\"map\",\"entries\":[[\"t~\",{\"type\":\"object\",\"name\":\"Range1d\",\"id\":\"p1320\",\"attributes\":{\"start\":2.4741576127807505,\"end\":24.741576127807505}}]]},\"title\":{\"type\":\"object\",\"name\":\"Title\",\"id\":\"p1254\"},\"renderers\":[{\"type\":\"object\",\"name\":\"GlyphRenderer\",\"id\":\"p1285\",\"attributes\":{\"data_source\":{\"type\":\"object\",\"name\":\"ColumnDataSource\",\"id\":\"p1279\",\"attributes\":{\"selected\":{\"type\":\"object\",\"name\":\"Selection\",\"id\":\"p1280\",\"attributes\":{\"indices\":[],\"line_indices\":[]}},\"selection_policy\":{\"type\":\"object\",\"name\":\"UnionRenderers\",\"id\":\"p1281\"},\"data\":{\"type\":\"map\",\"entries\":[[\"x\",{\"type\":\"ndarray\",\"array\":{\"type\":\"bytes\",\"data\":\"AAAAAAAAJEAAAAAAAEA1QAAAAAAAQEBAAAAAAADgRUAAAAAAAIBLQAAAAAAAkFBAAAAAAABgU0AAAAAAADBWQAAAAAAAAFlA\"},\"shape\":[9],\"dtype\":\"float64\",\"order\":\"little\"}],[\"y\",{\"type\":\"ndarray\",\"array\":{\"type\":\"bytes\",\"data\":\"h3FLZ81YO0B9e99bAdQyQDb3k71Dei5AzG64sCxAKkBls4kPBlMnQFI/EfAOPyVAiEOJUdG3I0DPtfgG9GkiQEFQjCekTSFA\"},\"shape\":[9],\"dtype\":\"float64\",\"order\":\"little\"}]]}}},\"view\":{\"type\":\"object\",\"name\":\"CDSView\",\"id\":\"p1286\",\"attributes\":{\"filter\":{\"type\":\"object\",\"name\":\"AllIndices\",\"id\":\"p1287\"}}},\"glyph\":{\"type\":\"object\",\"name\":\"Line\",\"id\":\"p1282\",\"attributes\":{\"x\":{\"type\":\"field\",\"field\":\"x\"},\"y\":{\"type\":\"field\",\"field\":\"y\"},\"line_color\":\"#0C0786\",\"line_width\":2}},\"nonselection_glyph\":{\"type\":\"object\",\"name\":\"Line\",\"id\":\"p1283\",\"attributes\":{\"x\":{\"type\":\"field\",\"field\":\"x\"},\"y\":{\"type\":\"field\",\"field\":\"y\"},\"line_color\":\"#0C0786\",\"line_alpha\":0.1,\"line_width\":2}},\"muted_glyph\":{\"type\":\"object\",\"name\":\"Line\",\"id\":\"p1284\",\"attributes\":{\"x\":{\"type\":\"field\",\"field\":\"x\"},\"y\":{\"type\":\"field\",\"field\":\"y\"},\"line_color\":\"#0C0786\",\"line_alpha\":0.2,\"line_width\":2}}}},{\"type\":\"object\",\"name\":\"GlyphRenderer\",\"id\":\"p1296\",\"attributes\":{\"data_source\":{\"type\":\"object\",\"name\":\"ColumnDataSource\",\"id\":\"p1290\",\"attributes\":{\"selected\":{\"type\":\"object\",\"name\":\"Selection\",\"id\":\"p1291\",\"attributes\":{\"indices\":[],\"line_indices\":[]}},\"selection_policy\":{\"type\":\"object\",\"name\":\"UnionRenderers\",\"id\":\"p1292\"},\"data\":{\"type\":\"map\",\"entries\":[[\"x\",{\"type\":\"ndarray\",\"array\":{\"type\":\"bytes\",\"data\":\"AAAAAAAAJEAAAAAAAEA1QAAAAAAAQEBAAAAAAADgRUAAAAAAAIBLQAAAAAAAkFBAAAAAAABgU0AAAAAAADBWQAAAAAAAAFlA\"},\"shape\":[9],\"dtype\":\"float64\",\"order\":\"little\"}],[\"y\",{\"type\":\"ndarray\",\"array\":{\"type\":\"bytes\",\"data\":\"h3FLZ81YK0B9e99bAdQiQDb3k71Deh5AzG64sCxAGkBls4kPBlMXQFI/EfAOPxVAiEOJUdG3E0DPtfgG9GkSQEFQjCekTRFA\"},\"shape\":[9],\"dtype\":\"float64\",\"order\":\"little\"}]]}}},\"view\":{\"type\":\"object\",\"name\":\"CDSView\",\"id\":\"p1297\",\"attributes\":{\"filter\":{\"type\":\"object\",\"name\":\"AllIndices\",\"id\":\"p1298\"}}},\"glyph\":{\"type\":\"object\",\"name\":\"Line\",\"id\":\"p1293\",\"attributes\":{\"x\":{\"type\":\"field\",\"field\":\"x\"},\"y\":{\"type\":\"field\",\"field\":\"y\"},\"line_color\":\"#7C02A7\",\"line_width\":2}},\"nonselection_glyph\":{\"type\":\"object\",\"name\":\"Line\",\"id\":\"p1294\",\"attributes\":{\"x\":{\"type\":\"field\",\"field\":\"x\"},\"y\":{\"type\":\"field\",\"field\":\"y\"},\"line_color\":\"#7C02A7\",\"line_alpha\":0.1,\"line_width\":2}},\"muted_glyph\":{\"type\":\"object\",\"name\":\"Line\",\"id\":\"p1295\",\"attributes\":{\"x\":{\"type\":\"field\",\"field\":\"x\"},\"y\":{\"type\":\"field\",\"field\":\"y\"},\"line_color\":\"#7C02A7\",\"line_alpha\":0.2,\"line_width\":2}}}},{\"type\":\"object\",\"name\":\"GlyphRenderer\",\"id\":\"p1306\",\"attributes\":{\"data_source\":{\"type\":\"object\",\"name\":\"ColumnDataSource\",\"id\":\"p1300\",\"attributes\":{\"selected\":{\"type\":\"object\",\"name\":\"Selection\",\"id\":\"p1301\",\"attributes\":{\"indices\":[],\"line_indices\":[]}},\"selection_policy\":{\"type\":\"object\",\"name\":\"UnionRenderers\",\"id\":\"p1302\"},\"data\":{\"type\":\"map\",\"entries\":[[\"x\",{\"type\":\"ndarray\",\"array\":{\"type\":\"bytes\",\"data\":\"AAAAAAAAJEAAAAAAAEA1QAAAAAAAQEBAAAAAAADgRUAAAAAAAIBLQAAAAAAAkFBAAAAAAABgU0AAAAAAADBWQAAAAAAAAFlA\"},\"shape\":[9],\"dtype\":\"float64\",\"order\":\"little\"}],[\"y\",{\"type\":\"ndarray\",\"array\":{\"type\":\"bytes\",\"data\":\"OcGiUqTgFUCVxZgsAiAOQMXF3MrPYQhA1ouTwCMABUC3wgem0agCQKgydCY//wBAc9IOHIKM/z9+vFo+U3b9P5uzEwxtr/s/\"},\"shape\":[9],\"dtype\":\"float64\",\"order\":\"little\"}]]}}},\"view\":{\"type\":\"object\",\"name\":\"CDSView\",\"id\":\"p1307\",\"attributes\":{\"filter\":{\"type\":\"object\",\"name\":\"AllIndices\",\"id\":\"p1308\"}}},\"glyph\":{\"type\":\"object\",\"name\":\"Line\",\"id\":\"p1303\",\"attributes\":{\"x\":{\"type\":\"field\",\"field\":\"x\"},\"y\":{\"type\":\"field\",\"field\":\"y\"},\"line_color\":\"#CA4678\",\"line_width\":2}},\"nonselection_glyph\":{\"type\":\"object\",\"name\":\"Line\",\"id\":\"p1304\",\"attributes\":{\"x\":{\"type\":\"field\",\"field\":\"x\"},\"y\":{\"type\":\"field\",\"field\":\"y\"},\"line_color\":\"#CA4678\",\"line_alpha\":0.1,\"line_width\":2}},\"muted_glyph\":{\"type\":\"object\",\"name\":\"Line\",\"id\":\"p1305\",\"attributes\":{\"x\":{\"type\":\"field\",\"field\":\"x\"},\"y\":{\"type\":\"field\",\"field\":\"y\"},\"line_color\":\"#CA4678\",\"line_alpha\":0.2,\"line_width\":2}}}},{\"type\":\"object\",\"name\":\"GlyphRenderer\",\"id\":\"p1316\",\"attributes\":{\"data_source\":{\"type\":\"object\",\"name\":\"ColumnDataSource\",\"id\":\"p1310\",\"attributes\":{\"selected\":{\"type\":\"object\",\"name\":\"Selection\",\"id\":\"p1311\",\"attributes\":{\"indices\":[],\"line_indices\":[]}},\"selection_policy\":{\"type\":\"object\",\"name\":\"UnionRenderers\",\"id\":\"p1312\"},\"data\":{\"type\":\"map\",\"entries\":[[\"x\",{\"type\":\"ndarray\",\"array\":{\"type\":\"bytes\",\"data\":\"AAAAAAAAJEAAAAAAAEA1QAAAAAAAQEBAAAAAAADgRUAAAAAAAIBLQAAAAAAAkFBAAAAAAABgU0AAAAAAADBWQAAAAAAAAFlA\"},\"shape\":[9],\"dtype\":\"float64\",\"order\":\"little\"}],[\"y\",{\"type\":\"ndarray\",\"array\":{\"type\":\"bytes\",\"data\":\"efWTHH7jA0Dkyi206mL7P/ltsc9fKvY/IH/6UWYX8z+P30wLkPbwPwP/u4tb5+4/xpBqvEeu7D/QfFLEqMjqP6QXzFAdK+k/\"},\"shape\":[9],\"dtype\":\"float64\",\"order\":\"little\"}]]}}},\"view\":{\"type\":\"object\",\"name\":\"CDSView\",\"id\":\"p1317\",\"attributes\":{\"filter\":{\"type\":\"object\",\"name\":\"AllIndices\",\"id\":\"p1318\"}}},\"glyph\":{\"type\":\"object\",\"name\":\"Line\",\"id\":\"p1313\",\"attributes\":{\"x\":{\"type\":\"field\",\"field\":\"x\"},\"y\":{\"type\":\"field\",\"field\":\"y\"},\"line_color\":\"#F79341\",\"line_width\":2}},\"nonselection_glyph\":{\"type\":\"object\",\"name\":\"Line\",\"id\":\"p1314\",\"attributes\":{\"x\":{\"type\":\"field\",\"field\":\"x\"},\"y\":{\"type\":\"field\",\"field\":\"y\"},\"line_color\":\"#F79341\",\"line_alpha\":0.1,\"line_width\":2}},\"muted_glyph\":{\"type\":\"object\",\"name\":\"Line\",\"id\":\"p1315\",\"attributes\":{\"x\":{\"type\":\"field\",\"field\":\"x\"},\"y\":{\"type\":\"field\",\"field\":\"y\"},\"line_color\":\"#F79341\",\"line_alpha\":0.2,\"line_width\":2}}}}],\"toolbar\":{\"type\":\"object\",\"name\":\"Toolbar\",\"id\":\"p1255\",\"attributes\":{\"tools\":[{\"type\":\"object\",\"name\":\"BoxZoomTool\",\"id\":\"p1269\",\"attributes\":{\"overlay\":{\"type\":\"object\",\"name\":\"BoxAnnotation\",\"id\":\"p1270\",\"attributes\":{\"syncable\":false,\"level\":\"overlay\",\"visible\":false,\"left\":{\"type\":\"number\",\"value\":\"nan\"},\"right\":{\"type\":\"number\",\"value\":\"nan\"},\"top\":{\"type\":\"number\",\"value\":\"nan\"},\"bottom\":{\"type\":\"number\",\"value\":\"nan\"},\"left_units\":\"canvas\",\"right_units\":\"canvas\",\"top_units\":\"canvas\",\"bottom_units\":\"canvas\",\"line_color\":\"black\",\"line_alpha\":1.0,\"line_width\":2,\"line_dash\":[4,4],\"fill_color\":\"lightgrey\",\"fill_alpha\":0.5}}}},{\"type\":\"object\",\"name\":\"PanTool\",\"id\":\"p1275\"},{\"type\":\"object\",\"name\":\"HoverTool\",\"id\":\"p1276\",\"attributes\":{\"renderers\":\"auto\"}},{\"type\":\"object\",\"name\":\"ResetTool\",\"id\":\"p1277\"},{\"type\":\"object\",\"name\":\"SaveTool\",\"id\":\"p1278\"}]}},\"left\":[{\"type\":\"object\",\"name\":\"LinearAxis\",\"id\":\"p1264\",\"attributes\":{\"ticker\":{\"type\":\"object\",\"name\":\"BasicTicker\",\"id\":\"p1265\",\"attributes\":{\"mantissas\":[1,2,5]}},\"formatter\":{\"type\":\"object\",\"name\":\"BasicTickFormatter\",\"id\":\"p1266\"},\"axis_label\":\"Best resolution \\u03b1_best, % of u_max\",\"axis_label_text_font_size\":\"8pt\",\"major_label_policy\":{\"type\":\"object\",\"name\":\"AllLabels\",\"id\":\"p1267\"},\"major_label_text_font_size\":\"8pt\"}}],\"above\":[{\"type\":\"object\",\"name\":\"LinearAxis\",\"id\":\"p1321\",\"attributes\":{\"x_range_name\":\"t~\",\"ticker\":{\"type\":\"object\",\"name\":\"BasicTicker\",\"id\":\"p1322\",\"attributes\":{\"mantissas\":[1,2,5]}},\"formatter\":{\"type\":\"object\",\"name\":\"BasicTickFormatter\",\"id\":\"p1323\"},\"axis_label\":\"Control delay \\ud835\\udf0f, min\",\"axis_label_text_font_size\":\"8pt\",\"major_label_policy\":{\"type\":\"object\",\"name\":\"AllLabels\",\"id\":\"p1324\"},\"major_label_text_font_size\":\"8pt\"}}],\"below\":[{\"type\":\"object\",\"name\":\"LinearAxis\",\"id\":\"p1259\",\"attributes\":{\"ticker\":{\"type\":\"object\",\"name\":\"BasicTicker\",\"id\":\"p1260\",\"attributes\":{\"mantissas\":[1,2,5]}},\"formatter\":{\"type\":\"object\",\"name\":\"BasicTickFormatter\",\"id\":\"p1261\"},\"axis_label\":\"Tubing length l, cm\",\"axis_label_text_font_size\":\"8pt\",\"major_label_policy\":{\"type\":\"object\",\"name\":\"AllLabels\",\"id\":\"p1262\"},\"major_label_text_font_size\":\"8pt\"}}],\"center\":[{\"type\":\"object\",\"name\":\"Grid\",\"id\":\"p1263\",\"attributes\":{\"axis\":{\"id\":\"p1259\"}}},{\"type\":\"object\",\"name\":\"Grid\",\"id\":\"p1268\",\"attributes\":{\"dimension\":1,\"axis\":{\"id\":\"p1264\"}}},{\"type\":\"object\",\"name\":\"Legend\",\"id\":\"p1288\",\"attributes\":{\"title\":\"Sources:\",\"title_text_font_size\":\"8pt\",\"label_text_font_size\":\"8pt\",\"label_text_align\":\"center\",\"glyph_width\":15,\"margin\":2,\"padding\":2,\"spacing\":2,\"items\":[{\"type\":\"object\",\"name\":\"LegendItem\",\"id\":\"p1289\",\"attributes\":{\"label\":{\"type\":\"value\",\"value\":\"2\"},\"renderers\":[{\"id\":\"p1285\"}]}},{\"type\":\"object\",\"name\":\"LegendItem\",\"id\":\"p1299\",\"attributes\":{\"label\":{\"type\":\"value\",\"value\":\"3\"},\"renderers\":[{\"id\":\"p1296\"}]}},{\"type\":\"object\",\"name\":\"LegendItem\",\"id\":\"p1309\",\"attributes\":{\"label\":{\"type\":\"value\",\"value\":\"6\"},\"renderers\":[{\"id\":\"p1306\"}]}},{\"type\":\"object\",\"name\":\"LegendItem\",\"id\":\"p1319\",\"attributes\":{\"label\":{\"type\":\"value\",\"value\":\"12\"},\"renderers\":[{\"id\":\"p1316\"}]}}]}}],\"frame_width\":240,\"frame_height\":180,\"output_backend\":\"svg\"}}]}};\n  const render_items = [{\"docid\":\"2f12858a-ab64-45c6-8906-e5643d9cce4f\",\"roots\":{\"p1247\":\"d8ea47bb-c5aa-46e4-bb09-45d7f0982c91\"},\"root_ids\":[\"p1247\"]}];\n  void root.Bokeh.embed.embed_items_notebook(docs_json, render_items);\n  }\n  if (root.Bokeh !== undefined) {\n    embed_document(root);\n  } else {\n    let attempts = 0;\n    const timer = setInterval(function(root) {\n      if (root.Bokeh !== undefined) {\n        clearInterval(timer);\n        embed_document(root);\n      } else {\n        attempts++;\n        if (attempts > 100) {\n          clearInterval(timer);\n          console.log(\"Bokeh: ERROR: Unable to run BokehJS code because BokehJS library is missing\");\n        }\n      }\n    }, 10, root)\n  }\n})(window);",
      "application/vnd.bokehjs_exec.v0+json": ""
     },
     "metadata": {
      "application/vnd.bokehjs_exec.v0+json": {
       "id": "p1247"
      }
     },
     "output_type": "display_data"
    }
   ],
   "execution_count": 16
  }
 ],
 "metadata": {
  "kernelspec": {
   "display_name": "Python 3",
   "language": "python",
   "name": "python3"
  },
  "language_info": {
   "codemirror_mode": {
    "name": "ipython",
    "version": 2
   },
   "file_extension": ".py",
   "mimetype": "text/x-python",
   "name": "python",
   "nbconvert_exporter": "python",
   "pygments_lexer": "ipython2",
   "version": "2.7.6"
  }
 },
 "nbformat": 4,
 "nbformat_minor": 5
}
